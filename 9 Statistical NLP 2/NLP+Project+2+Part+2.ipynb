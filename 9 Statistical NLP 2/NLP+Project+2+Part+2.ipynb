{
 "cells": [
  {
   "cell_type": "markdown",
   "metadata": {},
   "source": [
    "# Project - Natural Language Processing Project-2     PART-2\n",
    " by ARYAN JAIN"
   ]
  },
  {
   "cell_type": "markdown",
   "metadata": {},
   "source": [
    "#### SUMMARY\n",
    "\n",
    "<b>Context:</b>\n",
    "    Past studies in Sarcasm Detection mostly make use of Twitter datasets collected using hashtag based supervision but such datasets are noisy in terms of labels and language. Furthermore, many tweets are replies to other tweets and detecting sarcasm in these requires the availability of contextual tweets.In this hands-on project, the goal is to build a model to detect whether a sentence is sarcastic or not, using Bidirectional LSTMs.\n",
    "    \n",
    "    \n",
    "<b>Data Description:</b>    \n",
    "    The dataset is collected from two news websites, theonion.com and huffingtonpost.com. \n",
    "    \n",
    "    Each record consists three attributes: article_link', 'headline' & 'is_sarcastic'\n",
    "    \n",
    "    is_sarcastic: 1 if the record is sarcastic otherwise 0\n",
    "    \n",
    "\n",
    "<b>Domain:</b>\n",
    " Social media analytics\n",
    "    \n",
    "    \n",
    "<b>Objectives:</b>\n",
    "    Build a sequential NLP classifier which can use input text parameters to determine the customer sentiments.\n",
    " \n",
    "<b>Key Tasks:</b>\n",
    "     \n",
    "     - Read and explore the data \n",
    "     - Retain relevant columns\n",
    "     - Get length of each sentence\n",
    "     - Define parameters\n",
    "     - Get indices for words\n",
    "     - Create features and labels\n",
    "     - Get vocabulary size\n",
    "     - Create a weight matrix using GloVe embeddings\n",
    "     - Define and compile a Bidirectional LSTM model\n",
    "     - Fit the model and check the validation accuracy"
   ]
  },
  {
   "cell_type": "markdown",
   "metadata": {},
   "source": [
    "## Import required libraries"
   ]
  },
  {
   "cell_type": "markdown",
   "metadata": {},
   "source": [
    "#### Libraries for Data Management and Visualization"
   ]
  },
  {
   "cell_type": "code",
   "execution_count": 1,
   "metadata": {
    "id": "rCk5oaTTOdGW"
   },
   "outputs": [],
   "source": [
    "import numpy as np\n",
    "import pandas as pd\n",
    "import seaborn as sns\n",
    "import matplotlib.pyplot as plt\n",
    "%matplotlib inline\n",
    "import json"
   ]
  },
  {
   "cell_type": "markdown",
   "metadata": {},
   "source": [
    "#### All tensorflow libraries"
   ]
  },
  {
   "cell_type": "code",
   "execution_count": 2,
   "metadata": {
    "id": "rCk5oaTTOdGW"
   },
   "outputs": [],
   "source": [
    "# the entire tensorflow\n",
    "import tensorflow as tf\n",
    "\n",
    "# Tokenizer\n",
    "from tensorflow.keras.preprocessing.text import Tokenizer\n",
    "\n",
    "# Function to pad the inputs to a certain length\n",
    "from tensorflow.keras.preprocessing.sequence import pad_sequences\n",
    "\n",
    "# Sequential model\n",
    "from tensorflow.keras.models import Sequential\n",
    "\n",
    "# Layers\n",
    "from tensorflow.keras.layers import Dense\n",
    "from tensorflow.keras.layers import Embedding\n",
    "from tensorflow.keras.layers import LSTM\n",
    "from tensorflow.keras.layers import Dropout\n",
    "from tensorflow.keras.layers import Bidirectional"
   ]
  },
  {
   "cell_type": "markdown",
   "metadata": {},
   "source": [
    "#### Scoring Metrics"
   ]
  },
  {
   "cell_type": "code",
   "execution_count": 3,
   "metadata": {},
   "outputs": [],
   "source": [
    "from sklearn import metrics"
   ]
  },
  {
   "cell_type": "markdown",
   "metadata": {},
   "source": [
    "#### Miscellaneous"
   ]
  },
  {
   "cell_type": "code",
   "execution_count": 4,
   "metadata": {
    "id": "rCk5oaTTOdGW"
   },
   "outputs": [],
   "source": [
    "# Initialize the random number generator\n",
    "import random\n",
    "random.seed(0)\n",
    "\n",
    "# Ignore the warnings\n",
    "import warnings\n",
    "warnings.filterwarnings(\"ignore\")"
   ]
  },
  {
   "cell_type": "markdown",
   "metadata": {
    "id": "OKVkkLaLdPGU"
   },
   "source": [
    "### Read and explore the data."
   ]
  },
  {
   "cell_type": "code",
   "execution_count": 5,
   "metadata": {},
   "outputs": [],
   "source": [
    "# Read dataset and investigate"
   ]
  },
  {
   "cell_type": "code",
   "execution_count": 6,
   "metadata": {
    "id": "1yUh-pblaRFm"
   },
   "outputs": [],
   "source": [
    "# Defining function to load data from a json file\n",
    "def load_data(file):\n",
    "    for l in open(file,'r'):\n",
    "        yield json.loads(l)"
   ]
  },
  {
   "cell_type": "code",
   "execution_count": 7,
   "metadata": {},
   "outputs": [],
   "source": [
    "# Reading in the data from the json file\n",
    "sarcasm_data = list(load_data('Sarcasm_Headlines_Dataset.json'))"
   ]
  },
  {
   "cell_type": "code",
   "execution_count": 8,
   "metadata": {
    "colab": {
     "base_uri": "https://localhost:8080/"
    },
    "id": "RskyFus2vIZt",
    "outputId": "993b4ef7-d0e9-4085-9289-cef1d74f6b96"
   },
   "outputs": [
    {
     "data": {
      "text/plain": [
       "[{'article_link': 'https://www.huffingtonpost.com/entry/versace-black-code_us_5861fbefe4b0de3a08f600d5',\n",
       "  'headline': \"former versace store clerk sues over secret 'black code' for minority shoppers\",\n",
       "  'is_sarcastic': 0},\n",
       " {'article_link': 'https://www.huffingtonpost.com/entry/roseanne-revival-review_us_5ab3a497e4b054d118e04365',\n",
       "  'headline': \"the 'roseanne' revival catches up to our thorny political mood, for better and worse\",\n",
       "  'is_sarcastic': 0},\n",
       " {'article_link': 'https://local.theonion.com/mom-starting-to-fear-son-s-web-series-closest-thing-she-1819576697',\n",
       "  'headline': \"mom starting to fear son's web series closest thing she will have to grandchild\",\n",
       "  'is_sarcastic': 1},\n",
       " {'article_link': 'https://politics.theonion.com/boehner-just-wants-wife-to-listen-not-come-up-with-alt-1819574302',\n",
       "  'headline': 'boehner just wants wife to listen, not come up with alternative debt-reduction ideas',\n",
       "  'is_sarcastic': 1},\n",
       " {'article_link': 'https://www.huffingtonpost.com/entry/jk-rowling-wishes-snape-happy-birthday_us_569117c4e4b0cad15e64fdcb',\n",
       "  'headline': 'j.k. rowling wishes snape happy birthday in the most magical way',\n",
       "  'is_sarcastic': 0}]"
      ]
     },
     "execution_count": 8,
     "metadata": {},
     "output_type": "execute_result"
    }
   ],
   "source": [
    "# Let's review few records \n",
    "\n",
    "sarcasm_data[0:5]"
   ]
  },
  {
   "cell_type": "code",
   "execution_count": 9,
   "metadata": {},
   "outputs": [],
   "source": [
    "# As expected, each record has 3 attributes (or tags) - 'article_link', 'headline' & 'is_sarcastic'\n",
    "\n",
    "    # Based on problem statement, we do not need article link, so I will ignore this attribute"
   ]
  },
  {
   "cell_type": "code",
   "execution_count": 10,
   "metadata": {
    "colab": {
     "base_uri": "https://localhost:8080/"
    },
    "id": "GPJFt2rlzg3u",
    "outputId": "5b3174fe-8633-415c-ac9c-b1710adcf21f"
   },
   "outputs": [
    {
     "data": {
      "text/plain": [
       "26709"
      ]
     },
     "execution_count": 10,
     "metadata": {},
     "output_type": "execute_result"
    }
   ],
   "source": [
    "# Let's see the total number of records we have\n",
    "len(sarcasm_data)"
   ]
  },
  {
   "cell_type": "markdown",
   "metadata": {
    "id": "BxperGzlU1oG"
   },
   "source": [
    "### Retain relevant columns"
   ]
  },
  {
   "cell_type": "markdown",
   "metadata": {
    "id": "d7GY9u_D10in"
   },
   "source": [
    "From the above three tags, for our task we dont need the 'article_link'. So we can ignore it and use the other two."
   ]
  },
  {
   "cell_type": "code",
   "execution_count": 11,
   "metadata": {
    "id": "7XYs0KOL2FOM"
   },
   "outputs": [],
   "source": [
    "headline_data = []\n",
    "labels = []\n",
    "\n",
    "for entry in sarcasm_data:\n",
    "    headline_data.append(entry['headline'])\n",
    "    labels.append(entry['is_sarcastic'])"
   ]
  },
  {
   "cell_type": "code",
   "execution_count": 12,
   "metadata": {
    "colab": {
     "base_uri": "https://localhost:8080/"
    },
    "id": "L6o6RKRY2iKG",
    "outputId": "f839b5cd-a599-4188-fb9e-fc58cb5a7148"
   },
   "outputs": [
    {
     "data": {
      "text/plain": [
       "[\"former versace store clerk sues over secret 'black code' for minority shoppers\",\n",
       " \"the 'roseanne' revival catches up to our thorny political mood, for better and worse\",\n",
       " \"mom starting to fear son's web series closest thing she will have to grandchild\",\n",
       " 'boehner just wants wife to listen, not come up with alternative debt-reduction ideas',\n",
       " 'j.k. rowling wishes snape happy birthday in the most magical way',\n",
       " \"advancing the world's women\",\n",
       " 'the fascinating case for eating lab-grown meat',\n",
       " 'this ceo will send your kids to school, if you work for his company',\n",
       " 'top snake handler leaves sinking huckabee campaign',\n",
       " \"friday's morning email: inside trump's presser for the ages\"]"
      ]
     },
     "execution_count": 12,
     "metadata": {},
     "output_type": "execute_result"
    }
   ],
   "source": [
    "# Let's check the headlines\n",
    "headline_data[0:10]"
   ]
  },
  {
   "cell_type": "code",
   "execution_count": 13,
   "metadata": {
    "colab": {
     "base_uri": "https://localhost:8080/"
    },
    "id": "Lt-ChsrM2muk",
    "outputId": "3e6fe7b0-e5ff-44e8-b603-df8457f1ff71"
   },
   "outputs": [
    {
     "data": {
      "text/plain": [
       "[0, 0, 1, 1, 0, 0, 0, 0, 1, 0]"
      ]
     },
     "execution_count": 13,
     "metadata": {},
     "output_type": "execute_result"
    }
   ],
   "source": [
    "# Let's check the sarcasm flags for these headlines\n",
    "labels[0:10]"
   ]
  },
  {
   "cell_type": "code",
   "execution_count": 14,
   "metadata": {},
   "outputs": [],
   "source": [
    "# Determine the length"
   ]
  },
  {
   "cell_type": "code",
   "execution_count": 15,
   "metadata": {
    "id": "s4JmI77Bpkbj"
   },
   "outputs": [],
   "source": [
    "# Length for sentences\n",
    "\n",
    "headline_length = []\n",
    "for entry in headline_data:\n",
    "    headline_length.append(len(entry.split()))"
   ]
  },
  {
   "cell_type": "code",
   "execution_count": 16,
   "metadata": {
    "colab": {
     "base_uri": "https://localhost:8080/"
    },
    "id": "VfHrpJYasQor",
    "outputId": "1bdaa3db-8a2a-4c12-9f8e-fbb569f63e93"
   },
   "outputs": [
    {
     "data": {
      "text/plain": [
       "[12, 14, 14, 13, 11, 4, 7, 14, 7, 9]"
      ]
     },
     "execution_count": 16,
     "metadata": {},
     "output_type": "execute_result"
    }
   ],
   "source": [
    "# Let's check length for few headlines\n",
    "\n",
    "headline_length[0:10]"
   ]
  },
  {
   "cell_type": "code",
   "execution_count": 17,
   "metadata": {},
   "outputs": [],
   "source": [
    "# Let's visualize the lenth distribution"
   ]
  },
  {
   "cell_type": "code",
   "execution_count": 18,
   "metadata": {
    "colab": {
     "base_uri": "https://localhost:8080/",
     "height": 282
    },
    "id": "srPV7CchWP7w",
    "outputId": "0be48ffa-01a5-4281-8b41-81e79c12afbf"
   },
   "outputs": [
    {
     "data": {
      "text/plain": [
       "<AxesSubplot:ylabel='Density'>"
      ]
     },
     "execution_count": 18,
     "metadata": {},
     "output_type": "execute_result"
    },
    {
     "data": {
      "image/png": "[encoded data removed]",
      "text/plain": [
       "<Figure size 432x288 with 1 Axes>"
      ]
     },
     "metadata": {
      "needs_background": "light"
     },
     "output_type": "display_data"
    }
   ],
   "source": [
    "sns.distplot(headline_length)"
   ]
  },
  {
   "cell_type": "code",
   "execution_count": 19,
   "metadata": {
    "colab": {
     "base_uri": "https://localhost:8080/"
    },
    "id": "PIjhVAO7W88p",
    "outputId": "182b0c11-0f6d-4bc0-995e-3c8ac4e1cf9a"
   },
   "outputs": [
    {
     "name": "stdout",
     "output_type": "stream",
     "text": [
      "2\n",
      "39\n",
      "9.845819761129208\n",
      "3.1688955807394144\n"
     ]
    }
   ],
   "source": [
    "# Print mean and standard deviation \n",
    "\n",
    "print (np.min(headline_length))\n",
    "print (np.max(headline_length))\n",
    "print (np.mean(headline_length))\n",
    "print (np.std(headline_length))"
   ]
  },
  {
   "cell_type": "code",
   "execution_count": 20,
   "metadata": {},
   "outputs": [],
   "source": [
    "# Based on above analysis, almost all headlines seem to be less than 25 words. \n",
    "\n",
    "    # Just to get any rare words with more, I will use max length as 30 words, though few headlines\n",
    "    # will still get omitted"
   ]
  },
  {
   "cell_type": "code",
   "execution_count": 21,
   "metadata": {},
   "outputs": [],
   "source": [
    "# Defining parameters"
   ]
  },
  {
   "cell_type": "code",
   "execution_count": 22,
   "metadata": {
    "id": "lIS2uiODaBqP"
   },
   "outputs": [],
   "source": [
    "# Initializing the parameters for the model\n",
    "\n",
    "max_length = 30\n",
    "embedd_dim = 100"
   ]
  },
  {
   "cell_type": "code",
   "execution_count": 23,
   "metadata": {},
   "outputs": [],
   "source": [
    "# Split dataset for training, validation and testing"
   ]
  },
  {
   "cell_type": "code",
   "execution_count": 24,
   "metadata": {
    "colab": {
     "base_uri": "https://localhost:8080/"
    },
    "id": "KU3hM62w_nRr",
    "outputId": "9e9af71a-e0ce-4bb4-ba13-7c70a3d8ab1a"
   },
   "outputs": [
    {
     "name": "stdout",
     "output_type": "stream",
     "text": [
      "20000\n",
      "20000\n",
      "6000\n",
      "6000\n",
      "709\n",
      "709\n"
     ]
    }
   ],
   "source": [
    "# Training dataset \n",
    "train_data = headline_data[:20000]\n",
    "train_labels = labels[:20000]\n",
    "\n",
    "# Validation dataset\n",
    "validation_data = headline_data[20000:]\n",
    "validation_labels = labels[20000:]\n",
    "\n",
    "# Testing data\n",
    "test_data = validation_data[6000:]\n",
    "test_labels = validation_labels[6000:]\n",
    "\n",
    "# Validation data\n",
    "validation_data = validation_data[:6000]\n",
    "validation_labels = validation_labels[:6000]\n",
    "\n",
    "# Print\n",
    "print(len(train_data))\n",
    "print(len(train_labels))\n",
    "print(len(validation_data))\n",
    "print(len(validation_labels))\n",
    "print(len(test_data))\n",
    "print(len(test_labels))"
   ]
  },
  {
   "cell_type": "code",
   "execution_count": 25,
   "metadata": {},
   "outputs": [],
   "source": [
    "# Get Indices for words & Vocabulary Size"
   ]
  },
  {
   "cell_type": "code",
   "execution_count": 26,
   "metadata": {
    "colab": {
     "base_uri": "https://localhost:8080/"
    },
    "id": "iABRnedqCjr3",
    "outputId": "0b0cce03-205b-4a07-d1d7-afdd1058988b"
   },
   "outputs": [
    {
     "data": {
      "text/plain": [
       "29656"
      ]
     },
     "execution_count": 26,
     "metadata": {},
     "output_type": "execute_result"
    }
   ],
   "source": [
    "# Tokenize the data \n",
    "tokenizer = Tokenizer()\n",
    "tokenizer.fit_on_texts(headline_data)\n",
    "word_index = tokenizer.word_index\n",
    "\n",
    "# Get Vocabulary size\n",
    "\n",
    "len(word_index)"
   ]
  },
  {
   "cell_type": "code",
   "execution_count": 27,
   "metadata": {
    "colab": {
     "base_uri": "https://localhost:8080/"
    },
    "id": "zT5-sm8KD-ny",
    "outputId": "7b17761b-0a8f-442e-82de-9ef78ec6ee08"
   },
   "outputs": [
    {
     "data": {
      "text/plain": [
       "[307, 15114, 678, 3336, 2297, 47, 381, 2575, 15115, 5, 2576, 8433]"
      ]
     },
     "execution_count": 27,
     "metadata": {},
     "output_type": "execute_result"
    }
   ],
   "source": [
    "# pad the training, validation and test data to the max length. We will do \"post\" padding ( default is \"pre\")\n",
    "# convert to indexes using the above tokenizer\n",
    "\n",
    "train_sequence = tokenizer.texts_to_sequences(train_data)  \n",
    "train_sequence[0]"
   ]
  },
  {
   "cell_type": "code",
   "execution_count": 28,
   "metadata": {
    "colab": {
     "base_uri": "https://localhost:8080/"
    },
    "id": "AeqhNmpbFJyy",
    "outputId": "725e914d-06b8-4a80-9849-303a3a9416b0"
   },
   "outputs": [
    {
     "data": {
      "text/plain": [
       "array([  307, 15114,   678,  3336,  2297,    47,   381,  2575, 15115,\n",
       "           5,  2576,  8433,     0,     0,     0,     0,     0,     0,\n",
       "           0,     0,     0,     0,     0,     0,     0,     0,     0,\n",
       "           0,     0,     0], dtype=int32)"
      ]
     },
     "execution_count": 28,
     "metadata": {},
     "output_type": "execute_result"
    }
   ],
   "source": [
    "train_sequence_padded = pad_sequences(train_sequence, maxlen = max_length, padding = 'post', truncating='post') # truncate from the end if sentence exceeds max length\n",
    "train_sequence_padded[0]"
   ]
  },
  {
   "cell_type": "code",
   "execution_count": 29,
   "metadata": {
    "colab": {
     "base_uri": "https://localhost:8080/"
    },
    "id": "UeVyMzIgYgpL",
    "outputId": "2fb60d5d-c8d1-4537-a709-51668d398131"
   },
   "outputs": [
    {
     "data": {
      "text/plain": [
       "(20000, 30)"
      ]
     },
     "execution_count": 29,
     "metadata": {},
     "output_type": "execute_result"
    }
   ],
   "source": [
    "train_sequence_padded.shape"
   ]
  },
  {
   "cell_type": "code",
   "execution_count": 30,
   "metadata": {},
   "outputs": [],
   "source": [
    "# Execute above steps for validation and test datasets"
   ]
  },
  {
   "cell_type": "code",
   "execution_count": 31,
   "metadata": {
    "id": "rdxhuyn0GYNY"
   },
   "outputs": [],
   "source": [
    "validation_sequence = tokenizer.texts_to_sequences(validation_data)\n",
    "validation_sequence_padded = pad_sequences(validation_sequence, maxlen = max_length, padding = 'post', truncating='post')\n",
    "test_sequence = tokenizer.texts_to_sequences(test_data)\n",
    "test_sequence_padded = pad_sequences(test_sequence, maxlen = max_length, padding = 'post', truncating='post')"
   ]
  },
  {
   "cell_type": "code",
   "execution_count": 32,
   "metadata": {
    "id": "feS1lSB_HccH"
   },
   "outputs": [],
   "source": [
    "# convert the above lists to numpy array for processing in Deep Learning models\n",
    "\n",
    "train_sequence_padded = np.array(train_sequence_padded)\n",
    "validation_sequence_padded = np.array(validation_sequence_padded)\n",
    "test_sequence_padded = np.array(test_sequence_padded)\n",
    "train_labels = np.array(train_labels)\n",
    "validation_labels = np.array(validation_labels)\n",
    "test_labels = np.array(test_labels)"
   ]
  },
  {
   "cell_type": "code",
   "execution_count": 33,
   "metadata": {},
   "outputs": [],
   "source": [
    "# Create a weight matrix using GloVe embeddings"
   ]
  },
  {
   "cell_type": "code",
   "execution_count": 34,
   "metadata": {
    "colab": {
     "base_uri": "https://localhost:8080/"
    },
    "id": "m_YtFeNiaIOA",
    "outputId": "61110a05-21f1-4f8a-a25d-2b9d5580d3f2"
   },
   "outputs": [
    {
     "name": "stdout",
     "output_type": "stream",
     "text": [
      "Loaded 400000 word vectors.\n"
     ]
    },
    {
     "data": {
      "text/plain": [
       "(29657, 100)"
      ]
     },
     "execution_count": 34,
     "metadata": {},
     "output_type": "execute_result"
    }
   ],
   "source": [
    "# loading the entire embedding into memory\n",
    "\n",
    "embeddings_index = dict()\n",
    "f = open('glove.6B.100d.txt')\n",
    "for line in f:\n",
    "    values = line.split()\n",
    "    word = values[0]\n",
    "    coefs = np.asarray(values[1:], dtype='float32')\n",
    "    embeddings_index[word] = coefs\n",
    "f.close()\n",
    "print('Loaded %s word vectors.' % len(embeddings_index))\n",
    "\n",
    "vocab_size = len(word_index)\n",
    "\n",
    "# create a weight matrix for words in corpus\n",
    "embedding_matrix = np.zeros((vocab_size + 1, embedd_dim))\n",
    "for word, i in word_index.items():\n",
    "    embedding_vector = embeddings_index.get(word)\n",
    "    if embedding_vector is not None:\n",
    "        embedding_matrix[i] = embedding_vector\n",
    "\n",
    "embedding_matrix.shape"
   ]
  },
  {
   "cell_type": "code",
   "execution_count": 35,
   "metadata": {},
   "outputs": [],
   "source": [
    "# Defining and compiling the bidirectional LSTM"
   ]
  },
  {
   "cell_type": "code",
   "execution_count": 36,
   "metadata": {
    "colab": {
     "base_uri": "https://localhost:8080/"
    },
    "id": "GVnmmpeiiCFx",
    "outputId": "8079e8d1-0f6b-4e2e-9409-cea08b1d96dc"
   },
   "outputs": [
    {
     "name": "stdout",
     "output_type": "stream",
     "text": [
      "Model: \"sequential\"\n",
      "_________________________________________________________________\n",
      "Layer (type)                 Output Shape              Param #   \n",
      "=================================================================\n",
      "embedding (Embedding)        (None, 30, 100)           2965700   \n",
      "_________________________________________________________________\n",
      "bidirectional (Bidirectional (None, 30, 128)           84480     \n",
      "_________________________________________________________________\n",
      "dropout (Dropout)            (None, 30, 128)           0         \n",
      "_________________________________________________________________\n",
      "bidirectional_1 (Bidirection (None, 30, 64)            41216     \n",
      "_________________________________________________________________\n",
      "dense (Dense)                (None, 30, 256)           16640     \n",
      "_________________________________________________________________\n",
      "dropout_1 (Dropout)          (None, 30, 256)           0         \n",
      "_________________________________________________________________\n",
      "dense_1 (Dense)              (None, 30, 128)           32896     \n",
      "_________________________________________________________________\n",
      "dense_2 (Dense)              (None, 30, 1)             129       \n",
      "=================================================================\n",
      "Total params: 3,141,061\n",
      "Trainable params: 3,141,061\n",
      "Non-trainable params: 0\n",
      "_________________________________________________________________\n",
      "None\n"
     ]
    }
   ],
   "source": [
    "model = Sequential()\n",
    "model.add(Embedding(vocab_size + 1, embedd_dim, input_length=max_length, weights=[embedding_matrix])) \n",
    "model.add(Bidirectional(LSTM(units=64, return_sequences=True))) # 64 LSTM units\n",
    "model.add(Dropout(0.1))\n",
    "model.add(Bidirectional(LSTM(units=32, return_sequences=True, recurrent_dropout=0.1))) # 32 LSTM units\n",
    "model.add(Dense(256, activation=\"relu\"))\n",
    "model.add(Dropout(0.2))\n",
    "model.add(Dense(128, activation=\"relu\"))\n",
    "model.add(Dense(1, activation=\"sigmoid\"))\n",
    "model.compile(optimizer=\"Adam\", loss=\"binary_crossentropy\", metrics=\"accuracy\")\n",
    "print(model.summary())\n"
   ]
  },
  {
   "cell_type": "code",
   "execution_count": 37,
   "metadata": {},
   "outputs": [],
   "source": [
    "# The output dimension (30,1) seems in correct. \n",
    "    # The \"return_sequences\" probably needs to be false for the second LSTM for single input instead of 30 \n",
    "    # This is because we doing binary classification. \n",
    "    \n",
    "# This is an alternative model that I will try"
   ]
  },
  {
   "cell_type": "code",
   "execution_count": 38,
   "metadata": {
    "colab": {
     "base_uri": "https://localhost:8080/"
    },
    "id": "29t9-TAHcbqo",
    "outputId": "b7042a19-e914-43ac-b0ab-87f9a82d8744"
   },
   "outputs": [
    {
     "name": "stdout",
     "output_type": "stream",
     "text": [
      "Model: \"sequential_1\"\n",
      "_________________________________________________________________\n",
      "Layer (type)                 Output Shape              Param #   \n",
      "=================================================================\n",
      "embedding_1 (Embedding)      (None, 30, 100)           2965700   \n",
      "_________________________________________________________________\n",
      "bidirectional_2 (Bidirection (None, 30, 128)           84480     \n",
      "_________________________________________________________________\n",
      "bidirectional_3 (Bidirection (None, 64)                41216     \n",
      "_________________________________________________________________\n",
      "dense_3 (Dense)              (None, 256)               16640     \n",
      "_________________________________________________________________\n",
      "dropout_2 (Dropout)          (None, 256)               0         \n",
      "_________________________________________________________________\n",
      "dense_4 (Dense)              (None, 128)               32896     \n",
      "_________________________________________________________________\n",
      "dense_5 (Dense)              (None, 1)                 129       \n",
      "=================================================================\n",
      "Total params: 3,141,061\n",
      "Trainable params: 3,141,061\n",
      "Non-trainable params: 0\n",
      "_________________________________________________________________\n",
      "None\n"
     ]
    }
   ],
   "source": [
    "model_1 = Sequential()\n",
    "model_1.add(Embedding(vocab_size + 1, embedd_dim, input_length=max_length, weights=[embedding_matrix])) \n",
    "model_1.add(Bidirectional(LSTM(units=64, return_sequences=True,recurrent_dropout=0.1))) # 64 LSTM units\n",
    "model_1.add(Bidirectional(LSTM(units=32, recurrent_dropout=0.1))) # 32 LSTM units\n",
    "model_1.add(Dense(256, activation=\"relu\"))\n",
    "model_1.add(Dropout(0.2))\n",
    "model_1.add(Dense(128, activation=\"relu\"))\n",
    "model_1.add(Dense(1, activation=\"sigmoid\"))\n",
    "model_1.compile(optimizer=\"Adam\", loss=\"binary_crossentropy\", metrics=\"accuracy\")\n",
    "print(model_1.summary())\n"
   ]
  },
  {
   "cell_type": "code",
   "execution_count": 39,
   "metadata": {
    "colab": {
     "base_uri": "https://localhost:8080/"
    },
    "id": "Tpa5GFAzieaY",
    "outputId": "b7f092a3-c7df-491a-9676-98b31678a4b3"
   },
   "outputs": [
    {
     "name": "stdout",
     "output_type": "stream",
     "text": [
      "Epoch 1/20\n",
      "313/313 - 34s - loss: 0.4424 - accuracy: 0.7899 - val_loss: 0.3479 - val_accuracy: 0.8529\n",
      "Epoch 2/20\n",
      "313/313 - 28s - loss: 0.2445 - accuracy: 0.9012 - val_loss: 0.3240 - val_accuracy: 0.8682\n",
      "Epoch 3/20\n",
      "313/313 - 29s - loss: 0.1350 - accuracy: 0.9497 - val_loss: 0.3698 - val_accuracy: 0.8696\n",
      "Epoch 4/20\n",
      "313/313 - 29s - loss: 0.0724 - accuracy: 0.9756 - val_loss: 0.5271 - val_accuracy: 0.8561\n",
      "Epoch 5/20\n",
      "313/313 - 29s - loss: 0.0386 - accuracy: 0.9873 - val_loss: 0.6763 - val_accuracy: 0.8652\n",
      "Epoch 6/20\n",
      "313/313 - 30s - loss: 0.0231 - accuracy: 0.9921 - val_loss: 0.6430 - val_accuracy: 0.8576\n",
      "Epoch 7/20\n",
      "313/313 - 32s - loss: 0.0173 - accuracy: 0.9944 - val_loss: 0.6693 - val_accuracy: 0.8545\n",
      "Epoch 8/20\n",
      "313/313 - 31s - loss: 0.0100 - accuracy: 0.9970 - val_loss: 0.7583 - val_accuracy: 0.8570\n",
      "Restoring model weights from the end of the best epoch.\n",
      "Epoch 00008: early stopping\n"
     ]
    },
    {
     "data": {
      "text/plain": [
       "<tensorflow.python.keras.callbacks.History at 0x7ff95970e3a0>"
      ]
     },
     "execution_count": 39,
     "metadata": {},
     "output_type": "execute_result"
    }
   ],
   "source": [
    "# Defining our callback and fitting the model\n",
    "\n",
    "# Callback\n",
    "callback = tf.keras.callbacks.EarlyStopping(\n",
    "    monitor=\"val_accuracy\",\n",
    "    patience=5,\n",
    "    verbose=1,\n",
    "    restore_best_weights=True\n",
    ")\n",
    "# Fit the model\n",
    "model.fit(train_sequence_padded, train_labels, validation_data=(validation_sequence_padded, validation_labels), \n",
    "          epochs=20, batch_size=64, verbose=2, callbacks = [callback]) \n"
   ]
  },
  {
   "cell_type": "code",
   "execution_count": 40,
   "metadata": {
    "colab": {
     "base_uri": "https://localhost:8080/"
    },
    "id": "zKLOSjK1qMMm",
    "outputId": "f5025c10-8aa0-4ff8-b378-52af71a44f39"
   },
   "outputs": [
    {
     "name": "stdout",
     "output_type": "stream",
     "text": [
      "Epoch 1/20\n",
      "313/313 - 38s - loss: 0.4178 - accuracy: 0.7972 - val_loss: 0.3546 - val_accuracy: 0.8458\n",
      "Epoch 2/20\n",
      "313/313 - 32s - loss: 0.2325 - accuracy: 0.9053 - val_loss: 0.3153 - val_accuracy: 0.8747\n",
      "Epoch 3/20\n",
      "313/313 - 32s - loss: 0.1258 - accuracy: 0.9531 - val_loss: 0.3481 - val_accuracy: 0.8735\n",
      "Epoch 4/20\n",
      "313/313 - 32s - loss: 0.0569 - accuracy: 0.9804 - val_loss: 0.5371 - val_accuracy: 0.8693\n",
      "Epoch 5/20\n",
      "313/313 - 32s - loss: 0.0275 - accuracy: 0.9909 - val_loss: 0.5564 - val_accuracy: 0.8713\n",
      "Epoch 6/20\n",
      "313/313 - 32s - loss: 0.0173 - accuracy: 0.9942 - val_loss: 0.7482 - val_accuracy: 0.8688\n",
      "Epoch 7/20\n",
      "313/313 - 33s - loss: 0.0106 - accuracy: 0.9960 - val_loss: 0.8130 - val_accuracy: 0.8602\n",
      "Restoring model weights from the end of the best epoch.\n",
      "Epoch 00007: early stopping\n"
     ]
    },
    {
     "data": {
      "text/plain": [
       "<tensorflow.python.keras.callbacks.History at 0x7ff944b353d0>"
      ]
     },
     "execution_count": 40,
     "metadata": {},
     "output_type": "execute_result"
    }
   ],
   "source": [
    "# Defining our callback and fitting the model\n",
    "\n",
    "# Callback\n",
    "callback = tf.keras.callbacks.EarlyStopping(\n",
    "    monitor=\"val_accuracy\",\n",
    "    patience=5,\n",
    "    verbose=1,\n",
    "    restore_best_weights=True\n",
    ")\n",
    "# Fit the model\n",
    "model_1.fit(train_sequence_padded, train_labels, validation_data=(validation_sequence_padded, validation_labels), \n",
    "            epochs=20, batch_size=64, verbose=2, callbacks = [callback]) "
   ]
  },
  {
   "cell_type": "code",
   "execution_count": 41,
   "metadata": {},
   "outputs": [],
   "source": [
    "# Based on model summary this seems better. I will use this model for prediction. "
   ]
  },
  {
   "cell_type": "code",
   "execution_count": 42,
   "metadata": {
    "colab": {
     "base_uri": "https://localhost:8080/"
    },
    "id": "t7e6uhcqKJpe",
    "outputId": "82d057ef-8fd1-4a36-98ed-54b98eed40a1"
   },
   "outputs": [
    {
     "name": "stdout",
     "output_type": "stream",
     "text": [
      "Accuracy: 87.47%\n"
     ]
    }
   ],
   "source": [
    "# Evaluating the model of interest\n",
    "scores = model_1.evaluate(validation_sequence_padded, validation_labels, verbose=0)\n",
    "print(\"Accuracy: %.2f%%\" % (scores[1]*100))"
   ]
  },
  {
   "cell_type": "code",
   "execution_count": 43,
   "metadata": {},
   "outputs": [],
   "source": [
    "# Predict and confirm shape"
   ]
  },
  {
   "cell_type": "code",
   "execution_count": 44,
   "metadata": {
    "id": "rAekzkZVjRfJ"
   },
   "outputs": [],
   "source": [
    "pred = (model_1.predict(test_sequence_padded) > 0.5).astype(\"int32\")"
   ]
  },
  {
   "cell_type": "code",
   "execution_count": 45,
   "metadata": {
    "colab": {
     "base_uri": "https://localhost:8080/"
    },
    "id": "9wAq8IQKVpa7",
    "outputId": "fac3f781-f4c6-4897-ba22-f9ae13e7d162"
   },
   "outputs": [
    {
     "data": {
      "text/plain": [
       "(709, 1)"
      ]
     },
     "execution_count": 45,
     "metadata": {},
     "output_type": "execute_result"
    }
   ],
   "source": [
    "pred.shape"
   ]
  },
  {
   "cell_type": "code",
   "execution_count": 46,
   "metadata": {
    "colab": {
     "base_uri": "https://localhost:8080/"
    },
    "id": "6VBMWhPBJrLa",
    "outputId": "04c8bdac-c5a1-43e6-a565-6743c90bf3d9"
   },
   "outputs": [
    {
     "name": "stdout",
     "output_type": "stream",
     "text": [
      "[[353  38]\n",
      " [ 41 277]]\n"
     ]
    }
   ],
   "source": [
    "# Let's invetigate using Confusion Matrix\n",
    "\n",
    "cm=metrics.confusion_matrix(test_labels,pred)\n",
    "print(cm)"
   ]
  },
  {
   "cell_type": "code",
   "execution_count": 47,
   "metadata": {
    "colab": {
     "base_uri": "https://localhost:8080/",
     "height": 447
    },
    "id": "Ne-dSe50qhCt",
    "outputId": "7f8fbac1-b733-4cf6-f564-1adc2e09bdec"
   },
   "outputs": [
    {
     "data": {
      "image/png": "[encoded data removed]",
      "text/plain": [
       "<Figure size 720x504 with 2 Axes>"
      ]
     },
     "metadata": {
      "needs_background": "light"
     },
     "output_type": "display_data"
    }
   ],
   "source": [
    "# Visualize \n",
    "\n",
    "df_cm = pd.DataFrame(cm, index = [i for i in ['Not Sarcastic','Sarcastic']],\n",
    "                                  columns = [i for i in ['Not Sarcastic','Sarcastic']])\n",
    "plt.figure(figsize = (10,7))\n",
    "sns.heatmap(df_cm, annot=True, fmt = '1g');"
   ]
  },
  {
   "cell_type": "code",
   "execution_count": 48,
   "metadata": {},
   "outputs": [],
   "source": [
    "# The confusion matrix looks reasonably good, ready to predict on test datasets"
   ]
  },
  {
   "cell_type": "code",
   "execution_count": 49,
   "metadata": {},
   "outputs": [],
   "source": [
    "# I will print 5 sentences & labels of testing dataset\n",
    "    # Compare the labels with predictions"
   ]
  },
  {
   "cell_type": "code",
   "execution_count": 50,
   "metadata": {
    "colab": {
     "base_uri": "https://localhost:8080/"
    },
    "id": "98V25H99r7HY",
    "outputId": "e54a7cc9-28c7-4d87-b8b3-ba1bd9afd954"
   },
   "outputs": [
    {
     "data": {
      "text/plain": [
       "[\"the time i came out to my grandmother and she didn't die\",\n",
       " 'ecosystem sobered by how young species was when it went extinct',\n",
       " 'supreme ruler of laundry room moves load of clothes from washer to top of washer',\n",
       " '15-year-old girl viciously torn apart by rabid pack of peers',\n",
       " 'adam smith vs. ayn rand']"
      ]
     },
     "execution_count": 50,
     "metadata": {},
     "output_type": "execute_result"
    }
   ],
   "source": [
    "# Print sentences\n",
    "test_data[10:15]"
   ]
  },
  {
   "cell_type": "code",
   "execution_count": 51,
   "metadata": {
    "colab": {
     "base_uri": "https://localhost:8080/"
    },
    "id": "Hl_qZ8XysG3Z",
    "outputId": "14e448ab-0ffb-4a54-ef2d-b18176dc5da6"
   },
   "outputs": [
    {
     "data": {
      "text/plain": [
       "array([0, 1, 1, 1, 0])"
      ]
     },
     "execution_count": 51,
     "metadata": {},
     "output_type": "execute_result"
    }
   ],
   "source": [
    "# Print labels\n",
    "test_labels[10:15]"
   ]
  },
  {
   "cell_type": "code",
   "execution_count": 52,
   "metadata": {},
   "outputs": [],
   "source": [
    "# Predicting the labels for same 10 sentences"
   ]
  },
  {
   "cell_type": "code",
   "execution_count": 53,
   "metadata": {
    "colab": {
     "base_uri": "https://localhost:8080/"
    },
    "id": "NQ4wb9-vsJoH",
    "outputId": "9b377313-6209-4c94-b1cb-1826a1ffac8a"
   },
   "outputs": [
    {
     "data": {
      "text/plain": [
       "array([[0],\n",
       "       [1],\n",
       "       [1],\n",
       "       [1],\n",
       "       [0]], dtype=int32)"
      ]
     },
     "execution_count": 53,
     "metadata": {},
     "output_type": "execute_result"
    }
   ],
   "source": [
    "pred_5 = (model_1.predict(test_sequence_padded[10:15]) > 0.5).astype(\"int32\")\n",
    "pred_5"
   ]
  },
  {
   "cell_type": "code",
   "execution_count": 54,
   "metadata": {},
   "outputs": [],
   "source": [
    "# All our predictions were correct for these 5 rows"
   ]
  },
  {
   "cell_type": "markdown",
   "metadata": {},
   "source": [
    "# END OF PART 2"
   ]
  }
 ],
 "metadata": {
  "accelerator": "GPU",
  "colab": {
   "collapsed_sections": [],
   "name": "Copy of NLP2_Part2.ipynb",
   "provenance": []
  },
  "kernelspec": {
   "display_name": "Python 3",
   "language": "python",
   "name": "python3"
  },
  "language_info": {
   "codemirror_mode": {
    "name": "ipython",
    "version": 3
   },
   "file_extension": ".py",
   "mimetype": "text/x-python",
   "name": "python",
   "nbconvert_exporter": "python",
   "pygments_lexer": "ipython3",
   "version": "3.8.5"
  }
 },
 "nbformat": 4,
 "nbformat_minor": 1
}

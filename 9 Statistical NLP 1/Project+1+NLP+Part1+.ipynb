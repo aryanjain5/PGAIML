{
 "cells": [
  {
   "cell_type": "markdown",
   "metadata": {},
   "source": [
    "# Project - Natural Language Processing Project-1     PART-1\n",
    " by ARYAN JAIN"
   ]
  },
  {
   "cell_type": "markdown",
   "metadata": {},
   "source": [
    "#### SUMMARY\n",
    "\n",
    "<b>Context:</b>\n",
    "      Classification is probably the most popular task that you would deal with in real life. Text in the form of blogs, posts, articles, etc. is written every second. It is a challenge to predict the information about the writer without knowing about him/her. We are going to create a classifier that predicts multiple features of the author of a given text. We have designed it as a Multi label classification problem.\n",
    "    \n",
    "    \n",
    "<b>Data Description:</b>    \n",
    "    Over 600,000 posts from more than 19 thousand bloggers The Blog Authorship Corpus consists of the collected posts of 19,320 bloggers gathered from blogger.com in August 2004. The corpus incorporates a total of 681,288 posts and over 140 million words - or approximately 35 posts and 7250 words per person. Each blog is presented as a separate file, the name of which indicates a blogger id# and the blogger’s self-provided gender, age, industry, and astrological sign. (All are labelled for gender and age but for many, industry and/or sign is marked as unknown.) All bloggers included in the corpus fall into one of three age groups:\n",
    "    - 8240 \"10s\" blogs (ages 13-17),\n",
    "    - 8086 \"20s\" blogs(ages 23-27)\n",
    "    - 2994 \"30s\" blogs (ages 33-47)\n",
    "For each age group, there is an equal number of male and female bloggers.\n",
    "Each blog in the corpus includes at least 200 occurrences of common English words. All formatting has been stripped with two exceptions. Individual posts within a single blogger are separated by the date of the following post and links within a post are denoted by the label url link. Link to dataset: https://www.kaggle.com/rtatman/blog-authorship-corpus\n",
    "    \n",
    "\n",
    "<b>Domain:</b>\n",
    " Digital content management\n",
    "    \n",
    "    \n",
    "<b>Objectives:</b>\n",
    "    The need is to build a NLP classifier which can use input text parameters to determine the label/s of the blog."
   ]
  },
  {
   "cell_type": "markdown",
   "metadata": {},
   "source": [
    "## Importing required libraries"
   ]
  },
  {
   "cell_type": "markdown",
   "metadata": {},
   "source": [
    "#### Data Management and Visualization"
   ]
  },
  {
   "cell_type": "code",
   "execution_count": 1,
   "metadata": {
    "id": "-bfElIB6q3-y"
   },
   "outputs": [],
   "source": [
    "import os\n",
    "import numpy as np\n",
    "import pandas as pd\n",
    "import seaborn as sns\n",
    "import matplotlib.pyplot as plt\n",
    "%matplotlib inline"
   ]
  },
  {
   "cell_type": "markdown",
   "metadata": {},
   "source": [
    "#### All required Libraries from skikit-learn"
   ]
  },
  {
   "cell_type": "code",
   "execution_count": 2,
   "metadata": {
    "id": "-bfElIB6q3-y"
   },
   "outputs": [],
   "source": [
    "from sklearn import metrics\n",
    "from sklearn.model_selection import train_test_split\n",
    "from sklearn.linear_model import LogisticRegression\n",
    "from sklearn.metrics import accuracy_score, f1_score, average_precision_score, recall_score\n",
    "from sklearn.feature_extraction.text import CountVectorizer"
   ]
  },
  {
   "cell_type": "markdown",
   "metadata": {},
   "source": [
    "#### NLP Performing Libraries"
   ]
  },
  {
   "cell_type": "code",
   "execution_count": 3,
   "metadata": {
    "id": "-bfElIB6q3-y"
   },
   "outputs": [],
   "source": [
    "import re\n",
    "import nltk\n",
    "from nltk.corpus import stopwords\n",
    "from nltk.stem import WordNetLemmatizer #word stemmer class\n",
    "lemma = WordNetLemmatizer()"
   ]
  },
  {
   "cell_type": "markdown",
   "metadata": {},
   "source": [
    "#### Miscellaneous"
   ]
  },
  {
   "cell_type": "code",
   "execution_count": 4,
   "metadata": {
    "id": "-bfElIB6q3-y"
   },
   "outputs": [],
   "source": [
    "import warnings\n",
    "warnings.simplefilter(\"ignore\")"
   ]
  },
  {
   "cell_type": "code",
   "execution_count": 6,
   "metadata": {
    "colab": {
     "base_uri": "https://localhost:8080/"
    },
    "id": "s-YYRtLWfFQI",
    "outputId": "76fe07eb-106c-41e8-bed3-f73504a85e84"
   },
   "outputs": [
    {
     "data": {
      "text/plain": [
       "(681284, 7)"
      ]
     },
     "execution_count": 6,
     "metadata": {},
     "output_type": "execute_result"
    }
   ],
   "source": [
    "# Loading in the dataset and checking the shape\n",
    "\n",
    "df_blog_data = pd.read_csv(\"blogtext.csv\")\n",
    "df_blog_data.shape"
   ]
  },
  {
   "cell_type": "code",
   "execution_count": 7,
   "metadata": {
    "colab": {
     "base_uri": "https://localhost:8080/",
     "height": 204
    },
    "id": "_pLdclzK2Qrt",
    "outputId": "18a8d3d8-a470-4557-bc6f-0927228c648d"
   },
   "outputs": [
    {
     "data": {
      "text/html": [
       "<div>\n",
       "<style scoped>\n",
       "    .dataframe tbody tr th:only-of-type {\n",
       "        vertical-align: middle;\n",
       "    }\n",
       "\n",
       "    .dataframe tbody tr th {\n",
       "        vertical-align: top;\n",
       "    }\n",
       "\n",
       "    .dataframe thead th {\n",
       "        text-align: right;\n",
       "    }\n",
       "</style>\n",
       "<table border=\"1\" class=\"dataframe\">\n",
       "  <thead>\n",
       "    <tr style=\"text-align: right;\">\n",
       "      <th></th>\n",
       "      <th>id</th>\n",
       "      <th>gender</th>\n",
       "      <th>age</th>\n",
       "      <th>topic</th>\n",
       "      <th>sign</th>\n",
       "      <th>date</th>\n",
       "      <th>text</th>\n",
       "    </tr>\n",
       "  </thead>\n",
       "  <tbody>\n",
       "    <tr>\n",
       "      <th>0</th>\n",
       "      <td>2059027</td>\n",
       "      <td>male</td>\n",
       "      <td>15</td>\n",
       "      <td>Student</td>\n",
       "      <td>Leo</td>\n",
       "      <td>14,May,2004</td>\n",
       "      <td>Info has been found (+/- 100 pages,...</td>\n",
       "    </tr>\n",
       "    <tr>\n",
       "      <th>1</th>\n",
       "      <td>2059027</td>\n",
       "      <td>male</td>\n",
       "      <td>15</td>\n",
       "      <td>Student</td>\n",
       "      <td>Leo</td>\n",
       "      <td>13,May,2004</td>\n",
       "      <td>These are the team members:   Drewe...</td>\n",
       "    </tr>\n",
       "    <tr>\n",
       "      <th>2</th>\n",
       "      <td>2059027</td>\n",
       "      <td>male</td>\n",
       "      <td>15</td>\n",
       "      <td>Student</td>\n",
       "      <td>Leo</td>\n",
       "      <td>12,May,2004</td>\n",
       "      <td>In het kader van kernfusie op aarde...</td>\n",
       "    </tr>\n",
       "    <tr>\n",
       "      <th>3</th>\n",
       "      <td>2059027</td>\n",
       "      <td>male</td>\n",
       "      <td>15</td>\n",
       "      <td>Student</td>\n",
       "      <td>Leo</td>\n",
       "      <td>12,May,2004</td>\n",
       "      <td>testing!!!  testing!!!</td>\n",
       "    </tr>\n",
       "    <tr>\n",
       "      <th>4</th>\n",
       "      <td>3581210</td>\n",
       "      <td>male</td>\n",
       "      <td>33</td>\n",
       "      <td>InvestmentBanking</td>\n",
       "      <td>Aquarius</td>\n",
       "      <td>11,June,2004</td>\n",
       "      <td>Thanks to Yahoo!'s Toolbar I can ...</td>\n",
       "    </tr>\n",
       "  </tbody>\n",
       "</table>\n",
       "</div>"
      ],
      "text/plain": [
       "        id gender  age              topic      sign          date  \\\n",
       "0  2059027   male   15            Student       Leo   14,May,2004   \n",
       "1  2059027   male   15            Student       Leo   13,May,2004   \n",
       "2  2059027   male   15            Student       Leo   12,May,2004   \n",
       "3  2059027   male   15            Student       Leo   12,May,2004   \n",
       "4  3581210   male   33  InvestmentBanking  Aquarius  11,June,2004   \n",
       "\n",
       "                                                text  \n",
       "0             Info has been found (+/- 100 pages,...  \n",
       "1             These are the team members:   Drewe...  \n",
       "2             In het kader van kernfusie op aarde...  \n",
       "3                   testing!!!  testing!!!            \n",
       "4               Thanks to Yahoo!'s Toolbar I can ...  "
      ]
     },
     "execution_count": 7,
     "metadata": {},
     "output_type": "execute_result"
    }
   ],
   "source": [
    "# Investigating the first 5 rows\n",
    "\n",
    "df_blog_data.head()"
   ]
  },
  {
   "cell_type": "code",
   "execution_count": 6,
   "metadata": {},
   "outputs": [],
   "source": [
    "# Observations\n",
    "    # Total records = 681284\n",
    "    # For ease of computation, we will use 20,000 records of this dataset"
   ]
  },
  {
   "cell_type": "code",
   "execution_count": 10,
   "metadata": {
    "id": "auUPkp2_rZfP"
   },
   "outputs": [],
   "source": [
    "# Creating the subset of 20K random records\n",
    "\n",
    "df_blog_data_subset = df_blog_data.sample(20000, random_state=5)"
   ]
  },
  {
   "cell_type": "code",
   "execution_count": 34,
   "metadata": {},
   "outputs": [],
   "source": [
    "# We can now delete the original variable to save memory\n",
    "del df_blog_data"
   ]
  },
  {
   "cell_type": "code",
   "execution_count": 35,
   "metadata": {
    "colab": {
     "base_uri": "https://localhost:8080/"
    },
    "id": "JPYuWhqdXQsG",
    "outputId": "e33f22cd-3754-4529-f30c-2defcb2e5dc3"
   },
   "outputs": [
    {
     "name": "stdout",
     "output_type": "stream",
     "text": [
      "<class 'pandas.core.frame.DataFrame'>\n",
      "Int64Index: 20000 entries, 29489 to 457141\n",
      "Data columns (total 5 columns):\n",
      " #   Column  Non-Null Count  Dtype \n",
      "---  ------  --------------  ----- \n",
      " 0   gender  20000 non-null  object\n",
      " 1   age     20000 non-null  int64 \n",
      " 2   topic   20000 non-null  object\n",
      " 3   sign    20000 non-null  object\n",
      " 4   text    20000 non-null  object\n",
      "dtypes: int64(1), object(4)\n",
      "memory usage: 1.5+ MB\n"
     ]
    }
   ],
   "source": [
    "# Let's take a closer look at the data\n",
    "\n",
    "df_blog_data_subset.info()"
   ]
  },
  {
   "cell_type": "markdown",
   "metadata": {},
   "source": [
    "**`Observations:`**\n",
    "* `ID is just a unique identification number for the blogger, doesn't hold importance in finding the blog topic`\n",
    "* `Date may influence a post's topic as if a certain event is going on, many bloggers are likely to write about it`\n",
    "    * `I will drop date, though as it will just make a small change which will p=only be needed if we are actually implementing this`\n",
    "* `Text seems to be the content of the blog post`\n",
    "* `Other columns just give us information about the blogger`"
   ]
  },
  {
   "cell_type": "code",
   "execution_count": 13,
   "metadata": {
    "colab": {
     "base_uri": "https://localhost:8080/",
     "height": 204
    },
    "id": "qnwbLttbiBRF",
    "outputId": "7beed870-ec5c-45a1-8d56-7b2dfb5b40de"
   },
   "outputs": [
    {
     "data": {
      "text/html": [
       "<div>\n",
       "<style scoped>\n",
       "    .dataframe tbody tr th:only-of-type {\n",
       "        vertical-align: middle;\n",
       "    }\n",
       "\n",
       "    .dataframe tbody tr th {\n",
       "        vertical-align: top;\n",
       "    }\n",
       "\n",
       "    .dataframe thead th {\n",
       "        text-align: right;\n",
       "    }\n",
       "</style>\n",
       "<table border=\"1\" class=\"dataframe\">\n",
       "  <thead>\n",
       "    <tr style=\"text-align: right;\">\n",
       "      <th></th>\n",
       "      <th>gender</th>\n",
       "      <th>age</th>\n",
       "      <th>topic</th>\n",
       "      <th>sign</th>\n",
       "      <th>text</th>\n",
       "    </tr>\n",
       "  </thead>\n",
       "  <tbody>\n",
       "    <tr>\n",
       "      <th>29489</th>\n",
       "      <td>male</td>\n",
       "      <td>17</td>\n",
       "      <td>indUnk</td>\n",
       "      <td>Pisces</td>\n",
       "      <td>hello everyone, i said earlier that i w...</td>\n",
       "    </tr>\n",
       "    <tr>\n",
       "      <th>629883</th>\n",
       "      <td>male</td>\n",
       "      <td>24</td>\n",
       "      <td>Engineering</td>\n",
       "      <td>Sagittarius</td>\n",
       "      <td>Happy happy~~!! Today is a happy day fo...</td>\n",
       "    </tr>\n",
       "    <tr>\n",
       "      <th>281010</th>\n",
       "      <td>male</td>\n",
       "      <td>17</td>\n",
       "      <td>Non-Profit</td>\n",
       "      <td>Gemini</td>\n",
       "      <td>Heheh. Good heavens, childe. This sound...</td>\n",
       "    </tr>\n",
       "    <tr>\n",
       "      <th>424094</th>\n",
       "      <td>male</td>\n",
       "      <td>25</td>\n",
       "      <td>Technology</td>\n",
       "      <td>Aries</td>\n",
       "      <td>...and it arrives today?!   My l...</td>\n",
       "    </tr>\n",
       "    <tr>\n",
       "      <th>245647</th>\n",
       "      <td>male</td>\n",
       "      <td>38</td>\n",
       "      <td>Arts</td>\n",
       "      <td>Taurus</td>\n",
       "      <td>A PLACE IN THE SUN (1951)  Direct...</td>\n",
       "    </tr>\n",
       "  </tbody>\n",
       "</table>\n",
       "</div>"
      ],
      "text/plain": [
       "       gender  age        topic         sign  \\\n",
       "29489    male   17       indUnk       Pisces   \n",
       "629883   male   24  Engineering  Sagittarius   \n",
       "281010   male   17   Non-Profit       Gemini   \n",
       "424094   male   25   Technology        Aries   \n",
       "245647   male   38         Arts       Taurus   \n",
       "\n",
       "                                                     text  \n",
       "29489          hello everyone, i said earlier that i w...  \n",
       "629883         Happy happy~~!! Today is a happy day fo...  \n",
       "281010         Heheh. Good heavens, childe. This sound...  \n",
       "424094                ...and it arrives today?!   My l...  \n",
       "245647               A PLACE IN THE SUN (1951)  Direct...  "
      ]
     },
     "execution_count": 13,
     "metadata": {},
     "output_type": "execute_result"
    }
   ],
   "source": [
    "# Dropping id and date columns, per comments written above\n",
    "df_blog_data_subset.drop(['id','date'], axis=1, inplace=True)\n",
    "df_blog_data_subset.head()"
   ]
  },
  {
   "cell_type": "code",
   "execution_count": 14,
   "metadata": {
    "colab": {
     "base_uri": "https://localhost:8080/"
    },
    "id": "XSMOLt5VojZj",
    "outputId": "a9e55342-a803-48fa-fc42-48b66d28a9cc"
   },
   "outputs": [
    {
     "data": {
      "text/plain": [
       "gender    False\n",
       "age       False\n",
       "topic     False\n",
       "sign      False\n",
       "text      False\n",
       "dtype: bool"
      ]
     },
     "execution_count": 14,
     "metadata": {},
     "output_type": "execute_result"
    }
   ],
   "source": [
    "# Checking if any nulls\n",
    "df_blog_data_subset.isna().any()"
   ]
  },
  {
   "cell_type": "markdown",
   "metadata": {},
   "source": [
    "**`Observations:`**\n",
    "* `The data set has no missing values`"
   ]
  },
  {
   "cell_type": "code",
   "execution_count": 15,
   "metadata": {},
   "outputs": [],
   "source": [
    "# Let's check distribution for the numeric attribute - Age"
   ]
  },
  {
   "cell_type": "code",
   "execution_count": 16,
   "metadata": {
    "colab": {
     "base_uri": "https://localhost:8080/",
     "height": 297
    },
    "id": "iPUjI2XjqZ_-",
    "outputId": "e8e4c09b-a017-4c35-f6f8-4065f22684cc"
   },
   "outputs": [
    {
     "data": {
      "text/html": [
       "<div>\n",
       "<style scoped>\n",
       "    .dataframe tbody tr th:only-of-type {\n",
       "        vertical-align: middle;\n",
       "    }\n",
       "\n",
       "    .dataframe tbody tr th {\n",
       "        vertical-align: top;\n",
       "    }\n",
       "\n",
       "    .dataframe thead th {\n",
       "        text-align: right;\n",
       "    }\n",
       "</style>\n",
       "<table border=\"1\" class=\"dataframe\">\n",
       "  <thead>\n",
       "    <tr style=\"text-align: right;\">\n",
       "      <th></th>\n",
       "      <th>age</th>\n",
       "    </tr>\n",
       "  </thead>\n",
       "  <tbody>\n",
       "    <tr>\n",
       "      <th>count</th>\n",
       "      <td>20000.000000</td>\n",
       "    </tr>\n",
       "    <tr>\n",
       "      <th>mean</th>\n",
       "      <td>23.918700</td>\n",
       "    </tr>\n",
       "    <tr>\n",
       "      <th>std</th>\n",
       "      <td>7.793852</td>\n",
       "    </tr>\n",
       "    <tr>\n",
       "      <th>min</th>\n",
       "      <td>13.000000</td>\n",
       "    </tr>\n",
       "    <tr>\n",
       "      <th>25%</th>\n",
       "      <td>17.000000</td>\n",
       "    </tr>\n",
       "    <tr>\n",
       "      <th>50%</th>\n",
       "      <td>24.000000</td>\n",
       "    </tr>\n",
       "    <tr>\n",
       "      <th>75%</th>\n",
       "      <td>27.000000</td>\n",
       "    </tr>\n",
       "    <tr>\n",
       "      <th>max</th>\n",
       "      <td>48.000000</td>\n",
       "    </tr>\n",
       "  </tbody>\n",
       "</table>\n",
       "</div>"
      ],
      "text/plain": [
       "                age\n",
       "count  20000.000000\n",
       "mean      23.918700\n",
       "std        7.793852\n",
       "min       13.000000\n",
       "25%       17.000000\n",
       "50%       24.000000\n",
       "75%       27.000000\n",
       "max       48.000000"
      ]
     },
     "execution_count": 16,
     "metadata": {},
     "output_type": "execute_result"
    }
   ],
   "source": [
    "# Age is the only numerical variable so the default describe function will just return the information about the age column\n",
    "df_blog_data_subset.describe() "
   ]
  },
  {
   "cell_type": "code",
   "execution_count": 27,
   "metadata": {
    "colab": {
     "base_uri": "https://localhost:8080/",
     "height": 298
    },
    "id": "Y2LyEdUEslfW",
    "outputId": "808d5616-0e15-4906-905b-87ba2123007e"
   },
   "outputs": [],
   "source": [
    "# Let's visualize"
   ]
  },
  {
   "cell_type": "code",
   "execution_count": 28,
   "metadata": {
    "colab": {
     "base_uri": "https://localhost:8080/",
     "height": 298
    },
    "id": "Y2LyEdUEslfW",
    "outputId": "808d5616-0e15-4906-905b-87ba2123007e"
   },
   "outputs": [
    {
     "data": {
      "text/plain": [
       "<AxesSubplot:xlabel='age', ylabel='count'>"
      ]
     },
     "execution_count": 28,
     "metadata": {},
     "output_type": "execute_result"
    },
    {
     "data": {
      "image/png": "[encoded data removed]",
      "text/plain": [
       "<Figure size 432x288 with 1 Axes>"
      ]
     },
     "metadata": {
      "needs_background": "light"
     },
     "output_type": "display_data"
    }
   ],
   "source": [
    "# Countplot of age with respect to gender\n",
    "sns.countplot(x=\"age\", hue=\"gender\", data=df_blog_data_subset) "
   ]
  },
  {
   "cell_type": "code",
   "execution_count": 29,
   "metadata": {},
   "outputs": [
    {
     "data": {
      "image/png": "[encoded data removed]",
      "text/plain": [
       "<Figure size 720x432 with 1 Axes>"
      ]
     },
     "metadata": {
      "needs_background": "light"
     },
     "output_type": "display_data"
    }
   ],
   "source": [
    "# Let's visualize\n",
    "plt.figure(figsize=(10, 6))\n",
    "sns.distplot(x=df_blog_data_subset[\"age\"], color=\"g\"); # Cleaner distribution plot of age"
   ]
  },
  {
   "cell_type": "markdown",
   "metadata": {},
   "source": [
    "**`Observations:`**\n",
    "* `Most bloggers appear to be between 16-30 yeard old`"
   ]
  },
  {
   "cell_type": "code",
   "execution_count": 30,
   "metadata": {
    "colab": {
     "base_uri": "https://localhost:8080/",
     "height": 296
    },
    "id": "E7ijWCvowsA-",
    "outputId": "8bc3b5db-37f5-4661-aff5-ac47e659dc52"
   },
   "outputs": [
    {
     "data": {
      "text/plain": [
       "<AxesSubplot:xlabel='gender', ylabel='count'>"
      ]
     },
     "execution_count": 30,
     "metadata": {},
     "output_type": "execute_result"
    },
    {
     "data": {
      "image/png": "[encoded data removed]",
      "text/plain": [
       "<Figure size 432x288 with 1 Axes>"
      ]
     },
     "metadata": {
      "needs_background": "light"
     },
     "output_type": "display_data"
    }
   ],
   "source": [
    "# Let's see the distribution of blogers by their gender\n",
    "sns.countplot(x=\"gender\", data=df_blog_data_subset)"
   ]
  },
  {
   "cell_type": "code",
   "execution_count": 31,
   "metadata": {},
   "outputs": [
    {
     "data": {
      "text/plain": [
       "male      10066\n",
       "female     9934\n",
       "Name: gender, dtype: int64"
      ]
     },
     "execution_count": 31,
     "metadata": {},
     "output_type": "execute_result"
    }
   ],
   "source": [
    "df_blog_data_subset[\"gender\"].value_counts()"
   ]
  },
  {
   "cell_type": "markdown",
   "metadata": {},
   "source": [
    "**`Observations:`**\n",
    "* `There are slightly more male bloggers than female bloggers, the difference is around 100`"
   ]
  },
  {
   "cell_type": "code",
   "execution_count": 36,
   "metadata": {
    "colab": {
     "base_uri": "https://localhost:8080/"
    },
    "id": "LTtvR0jGuHS6",
    "outputId": "90a6e427-cc82-4537-bb26-933d96c213c6"
   },
   "outputs": [
    {
     "data": {
      "text/plain": [
       "indUnk                     7299\n",
       "Student                    4557\n",
       "Technology                 1243\n",
       "Arts                        988\n",
       "Education                   892\n",
       "Communications-Media        588\n",
       "Internet                    477\n",
       "Non-Profit                  405\n",
       "Engineering                 314\n",
       "Law                         280\n",
       "Government                  221\n",
       "Publishing                  220\n",
       "Science                     210\n",
       "Religion                    164\n",
       "Fashion                     157\n",
       "Consulting                  157\n",
       "Advertising                 150\n",
       "Marketing                   149\n",
       "BusinessServices            133\n",
       "Telecommunications          123\n",
       "Banking                     114\n",
       "Accounting                  110\n",
       "Sports-Recreation           108\n",
       "Chemicals                   106\n",
       "Museums-Libraries            97\n",
       "Military                     90\n",
       "RealEstate                   88\n",
       "HumanResources               78\n",
       "Transportation               64\n",
       "Manufacturing                62\n",
       "LawEnforcement-Security      51\n",
       "Architecture                 50\n",
       "Biotech                      49\n",
       "Tourism                      47\n",
       "Automotive                   41\n",
       "InvestmentBanking            34\n",
       "Agriculture                  34\n",
       "Construction                 27\n",
       "Environment                  15\n",
       "Maritime                      8\n",
       "Name: topic, dtype: int64"
      ]
     },
     "execution_count": 36,
     "metadata": {},
     "output_type": "execute_result"
    }
   ],
   "source": [
    "# Let's see what topic bloggers are typically writing about\n",
    "df_blog_data_subset[\"topic\"].value_counts()"
   ]
  },
  {
   "cell_type": "code",
   "execution_count": 41,
   "metadata": {
    "colab": {
     "base_uri": "https://localhost:8080/",
     "height": 173
    },
    "id": "EpQGpsTJvBcu",
    "outputId": "fd899684-4195-4c24-f8f9-aa2920d0c114"
   },
   "outputs": [
    {
     "data": {
      "text/html": [
       "<div>\n",
       "<style scoped>\n",
       "    .dataframe tbody tr th:only-of-type {\n",
       "        vertical-align: middle;\n",
       "    }\n",
       "\n",
       "    .dataframe tbody tr th {\n",
       "        vertical-align: top;\n",
       "    }\n",
       "\n",
       "    .dataframe thead th {\n",
       "        text-align: right;\n",
       "    }\n",
       "</style>\n",
       "<table border=\"1\" class=\"dataframe\">\n",
       "  <thead>\n",
       "    <tr style=\"text-align: right;\">\n",
       "      <th></th>\n",
       "      <th>gender</th>\n",
       "      <th>topic</th>\n",
       "      <th>sign</th>\n",
       "      <th>text</th>\n",
       "    </tr>\n",
       "  </thead>\n",
       "  <tbody>\n",
       "    <tr>\n",
       "      <th>count</th>\n",
       "      <td>20000</td>\n",
       "      <td>20000</td>\n",
       "      <td>20000</td>\n",
       "      <td>20000</td>\n",
       "    </tr>\n",
       "    <tr>\n",
       "      <th>unique</th>\n",
       "      <td>2</td>\n",
       "      <td>40</td>\n",
       "      <td>12</td>\n",
       "      <td>19788</td>\n",
       "    </tr>\n",
       "    <tr>\n",
       "      <th>top</th>\n",
       "      <td>male</td>\n",
       "      <td>indUnk</td>\n",
       "      <td>Libra</td>\n",
       "      <td>urlLink</td>\n",
       "    </tr>\n",
       "    <tr>\n",
       "      <th>freq</th>\n",
       "      <td>10066</td>\n",
       "      <td>7299</td>\n",
       "      <td>1897</td>\n",
       "      <td>17</td>\n",
       "    </tr>\n",
       "  </tbody>\n",
       "</table>\n",
       "</div>"
      ],
      "text/plain": [
       "       gender   topic   sign                 text\n",
       "count   20000   20000  20000                20000\n",
       "unique      2      40     12                19788\n",
       "top      male  indUnk  Libra           urlLink   \n",
       "freq    10066    7299   1897                   17"
      ]
     },
     "execution_count": 41,
     "metadata": {},
     "output_type": "execute_result"
    }
   ],
   "source": [
    "# Let's check some information about the entire dataset in a pivot table\n",
    "# We are just displaying the variables that have an object datatype\n",
    "df_blog_data_subset.describe(include = np.object)"
   ]
  },
  {
   "cell_type": "code",
   "execution_count": 42,
   "metadata": {},
   "outputs": [],
   "source": [
    "# Total blogs we picked = 20,000\n",
    "# No. of unique topics written in these blogs = 40\n",
    "# Male blogger = 10,066 and remaining are female"
   ]
  },
  {
   "cell_type": "code",
   "execution_count": 43,
   "metadata": {},
   "outputs": [],
   "source": [
    "# Let's perform some data pre-processing\n",
    "# We will\n",
    "    # Remove unwanted characters\n",
    "    # Remove spaces and stop words\n",
    "    # Convert text to lowercase"
   ]
  },
  {
   "cell_type": "code",
   "execution_count": 67,
   "metadata": {
    "id": "AWboXKSUzFZr"
   },
   "outputs": [],
   "source": [
    "# Removing the non-alphabetical characters\n",
    "df_blog_data_subset['clean_data'] = df_blog_data_subset['text'].apply(lambda x: re.sub(r'[^A-Za-z]+',' ',x))"
   ]
  },
  {
   "cell_type": "code",
   "execution_count": 68,
   "metadata": {
    "id": "Y8WFfN1s2Md3"
   },
   "outputs": [],
   "source": [
    "# Making all the characters lowercase\n",
    "df_blog_data_subset['clean_data']=df_blog_data_subset['clean_data'].apply(lambda x: x.lower())"
   ]
  },
  {
   "cell_type": "code",
   "execution_count": 69,
   "metadata": {
    "id": "6u9sk0B93sJM"
   },
   "outputs": [],
   "source": [
    "# Removing any extra spaces at the beginning or end of the post\n",
    "df_blog_data_subset['clean_data']=df_blog_data_subset['clean_data'].apply(lambda x: x.strip())"
   ]
  },
  {
   "cell_type": "code",
   "execution_count": 70,
   "metadata": {},
   "outputs": [],
   "source": [
    "# Resetting the indices of the dataframe\n",
    "df_blog_data_subset.reset_index(drop=True, inplace=True)"
   ]
  },
  {
   "cell_type": "code",
   "execution_count": 71,
   "metadata": {
    "colab": {
     "base_uri": "https://localhost:8080/"
    },
    "id": "TD0ASy0c6KOZ",
    "outputId": "810460ba-5c9c-4907-fab2-b57bdbb352a5"
   },
   "outputs": [
    {
     "name": "stdout",
     "output_type": "stream",
     "text": [
      "Original Data = \n",
      "        i haven't seen this movie, but just the ad alone is enough to make me want to pay full admission at the theater....      urlLink    Caption reads: Even sworn enemies can agree on one thing, Napoleon Dynamite is totally cool!  urlLink             \n"
     ]
    }
   ],
   "source": [
    "# Let's check how an example of the original posts looked like\n",
    "print(\"Original Data = \\n{}\".format(df_blog_data_subset['text'][10]))"
   ]
  },
  {
   "cell_type": "code",
   "execution_count": 72,
   "metadata": {
    "colab": {
     "base_uri": "https://localhost:8080/"
    },
    "id": "aXwICcON6tZc",
    "outputId": "835be409-ed43-452e-850d-0476b108dcb0"
   },
   "outputs": [
    {
     "name": "stdout",
     "output_type": "stream",
     "text": [
      "Cleansed Data = \n",
      "i haven t seen this movie but just the ad alone is enough to make me want to pay full admission at the theater urllink caption reads even sworn enemies can agree on one thing napoleon dynamite is totally cool urllink\n"
     ]
    }
   ],
   "source": [
    "# Let's see how pre-processed data look after cleaning:\n",
    "\n",
    "print(\"Cleansed Data = \\n{}\".format(df_blog_data_subset['clean_data'][10]))"
   ]
  },
  {
   "cell_type": "code",
   "execution_count": 75,
   "metadata": {},
   "outputs": [],
   "source": [
    "# We can see that there is \"urllink\" in the post as well, I think this means that there is a link where that is\n",
    "# Let's remove this as it won't help our model and may even cause overfitting!\n",
    "df_blog_data_subset['clean_data'] = df_blog_data_subset['clean_data'].apply(lambda x: re.sub(r'urllink','',x))"
   ]
  },
  {
   "cell_type": "code",
   "execution_count": 76,
   "metadata": {},
   "outputs": [
    {
     "name": "stdout",
     "output_type": "stream",
     "text": [
      "Cleansed Data = \n",
      "i haven t seen this movie but just the ad alone is enough to make me want to pay full admission at the theater   caption reads even sworn enemies can agree on one thing napoleon dynamite is totally cool  \n"
     ]
    }
   ],
   "source": [
    "# Let's see how the data finally looks\n",
    "\n",
    "print(\"Cleansed Data = \\n{}\".format(df_blog_data_subset['clean_data'][10]))"
   ]
  },
  {
   "cell_type": "markdown",
   "metadata": {
    "id": "YCiwT-LaFtbN"
   },
   "source": [
    "Let's Remove StopWords"
   ]
  },
  {
   "cell_type": "code",
   "execution_count": 77,
   "metadata": {},
   "outputs": [],
   "source": [
    "# Per comments written above, removing stop words "
   ]
  },
  {
   "cell_type": "code",
   "execution_count": 78,
   "metadata": {
    "colab": {
     "base_uri": "https://localhost:8080/"
    },
    "id": "Ljs87gYY7TaE",
    "outputId": "4f0dbb3c-0b49-4a97-fc91-ff35bfbe9b82"
   },
   "outputs": [
    {
     "name": "stderr",
     "output_type": "stream",
     "text": [
      "[nltk_data] Downloading package stopwords to /Users/aryan/nltk_data...\n",
      "[nltk_data]   Package stopwords is already up-to-date!\n"
     ]
    }
   ],
   "source": [
    "nltk.download('stopwords')\n",
    "STOPWORDS = set(stopwords.words('english'))\n",
    "\n",
    "def remove_stopwords(text):\n",
    "    return \" \".join([word for word in str(text).split() if word not in STOPWORDS])\n",
    "\n",
    "df_blog_data_subset['clean_data'] = df_blog_data_subset['clean_data'].apply(lambda x : remove_stopwords(x))"
   ]
  },
  {
   "cell_type": "code",
   "execution_count": 79,
   "metadata": {
    "colab": {
     "base_uri": "https://localhost:8080/",
     "height": 103
    },
    "id": "bVnizYxF8gAU",
    "outputId": "1311b9cc-7602-4f6e-f97b-da3fcd365b8e"
   },
   "outputs": [
    {
     "data": {
      "text/plain": [
       "'seen movie ad alone enough make want pay full admission theater caption reads even sworn enemies agree one thing napoleon dynamite totally cool'"
      ]
     },
     "execution_count": 79,
     "metadata": {},
     "output_type": "execute_result"
    }
   ],
   "source": [
    "# Let's check out data looks now, after removing stop words\n",
    "\n",
    "df_blog_data_subset['clean_data'][10]"
   ]
  },
  {
   "cell_type": "markdown",
   "metadata": {
    "id": "o_Z34z0YZDAH"
   },
   "source": [
    "# Target/label merger and transformation"
   ]
  },
  {
   "cell_type": "code",
   "execution_count": 80,
   "metadata": {},
   "outputs": [],
   "source": [
    "# Merging target labels"
   ]
  },
  {
   "cell_type": "code",
   "execution_count": 81,
   "metadata": {
    "colab": {
     "base_uri": "https://localhost:8080/",
     "height": 204
    },
    "id": "kt-PuyMH9KrO",
    "outputId": "904fb819-93f8-4ba3-971d-c617904f4704"
   },
   "outputs": [
    {
     "data": {
      "text/html": [
       "<div>\n",
       "<style scoped>\n",
       "    .dataframe tbody tr th:only-of-type {\n",
       "        vertical-align: middle;\n",
       "    }\n",
       "\n",
       "    .dataframe tbody tr th {\n",
       "        vertical-align: top;\n",
       "    }\n",
       "\n",
       "    .dataframe thead th {\n",
       "        text-align: right;\n",
       "    }\n",
       "</style>\n",
       "<table border=\"1\" class=\"dataframe\">\n",
       "  <thead>\n",
       "    <tr style=\"text-align: right;\">\n",
       "      <th></th>\n",
       "      <th>gender</th>\n",
       "      <th>age</th>\n",
       "      <th>topic</th>\n",
       "      <th>sign</th>\n",
       "      <th>text</th>\n",
       "      <th>clean_data</th>\n",
       "      <th>Merged_labels</th>\n",
       "    </tr>\n",
       "  </thead>\n",
       "  <tbody>\n",
       "    <tr>\n",
       "      <th>0</th>\n",
       "      <td>male</td>\n",
       "      <td>17</td>\n",
       "      <td>indUnk</td>\n",
       "      <td>Pisces</td>\n",
       "      <td>hello everyone, i said earlier that i w...</td>\n",
       "      <td>hello everyone said earlier wouldnt writing ev...</td>\n",
       "      <td>[male, 17, indUnk, Pisces]</td>\n",
       "    </tr>\n",
       "    <tr>\n",
       "      <th>1</th>\n",
       "      <td>male</td>\n",
       "      <td>24</td>\n",
       "      <td>Engineering</td>\n",
       "      <td>Sagittarius</td>\n",
       "      <td>Happy happy~~!! Today is a happy day fo...</td>\n",
       "      <td>happy happy today happy day hehehe went meet c...</td>\n",
       "      <td>[male, 24, Engineering, Sagittarius]</td>\n",
       "    </tr>\n",
       "    <tr>\n",
       "      <th>2</th>\n",
       "      <td>male</td>\n",
       "      <td>17</td>\n",
       "      <td>Non-Profit</td>\n",
       "      <td>Gemini</td>\n",
       "      <td>Heheh. Good heavens, childe. This sound...</td>\n",
       "      <td>heheh good heavens childe sounds like horrid s...</td>\n",
       "      <td>[male, 17, Non-Profit, Gemini]</td>\n",
       "    </tr>\n",
       "    <tr>\n",
       "      <th>3</th>\n",
       "      <td>male</td>\n",
       "      <td>25</td>\n",
       "      <td>Technology</td>\n",
       "      <td>Aries</td>\n",
       "      <td>...and it arrives today?!   My l...</td>\n",
       "      <td>arrives today laptop shipped yesterday arrived...</td>\n",
       "      <td>[male, 25, Technology, Aries]</td>\n",
       "    </tr>\n",
       "    <tr>\n",
       "      <th>4</th>\n",
       "      <td>male</td>\n",
       "      <td>38</td>\n",
       "      <td>Arts</td>\n",
       "      <td>Taurus</td>\n",
       "      <td>A PLACE IN THE SUN (1951)  Direct...</td>\n",
       "      <td>place sun directed george stevens tragic famil...</td>\n",
       "      <td>[male, 38, Arts, Taurus]</td>\n",
       "    </tr>\n",
       "  </tbody>\n",
       "</table>\n",
       "</div>"
      ],
      "text/plain": [
       "  gender  age        topic         sign  \\\n",
       "0   male   17       indUnk       Pisces   \n",
       "1   male   24  Engineering  Sagittarius   \n",
       "2   male   17   Non-Profit       Gemini   \n",
       "3   male   25   Technology        Aries   \n",
       "4   male   38         Arts       Taurus   \n",
       "\n",
       "                                                text  \\\n",
       "0         hello everyone, i said earlier that i w...   \n",
       "1         Happy happy~~!! Today is a happy day fo...   \n",
       "2         Heheh. Good heavens, childe. This sound...   \n",
       "3                ...and it arrives today?!   My l...   \n",
       "4               A PLACE IN THE SUN (1951)  Direct...   \n",
       "\n",
       "                                          clean_data  \\\n",
       "0  hello everyone said earlier wouldnt writing ev...   \n",
       "1  happy happy today happy day hehehe went meet c...   \n",
       "2  heheh good heavens childe sounds like horrid s...   \n",
       "3  arrives today laptop shipped yesterday arrived...   \n",
       "4  place sun directed george stevens tragic famil...   \n",
       "\n",
       "                          Merged_labels  \n",
       "0            [male, 17, indUnk, Pisces]  \n",
       "1  [male, 24, Engineering, Sagittarius]  \n",
       "2        [male, 17, Non-Profit, Gemini]  \n",
       "3         [male, 25, Technology, Aries]  \n",
       "4              [male, 38, Arts, Taurus]  "
      ]
     },
     "execution_count": 81,
     "metadata": {},
     "output_type": "execute_result"
    }
   ],
   "source": [
    "df_blog_data_subset['Merged_labels']=df_blog_data_subset.apply(lambda col: [col['gender'],str(col['age']),col['topic'],col['sign']], axis=1)\n",
    "df_blog_data_subset.head()"
   ]
  },
  {
   "cell_type": "code",
   "execution_count": 82,
   "metadata": {},
   "outputs": [],
   "source": [
    "# After merging, we only need clean data and merged target labels. All other attributes can be dropped"
   ]
  },
  {
   "cell_type": "code",
   "execution_count": 83,
   "metadata": {
    "colab": {
     "base_uri": "https://localhost:8080/",
     "height": 204
    },
    "id": "cVDgd6mW9-AL",
    "outputId": "9b85b973-5824-45fb-e93b-2e2c77a3d1e1"
   },
   "outputs": [
    {
     "data": {
      "text/html": [
       "<div>\n",
       "<style scoped>\n",
       "    .dataframe tbody tr th:only-of-type {\n",
       "        vertical-align: middle;\n",
       "    }\n",
       "\n",
       "    .dataframe tbody tr th {\n",
       "        vertical-align: top;\n",
       "    }\n",
       "\n",
       "    .dataframe thead th {\n",
       "        text-align: right;\n",
       "    }\n",
       "</style>\n",
       "<table border=\"1\" class=\"dataframe\">\n",
       "  <thead>\n",
       "    <tr style=\"text-align: right;\">\n",
       "      <th></th>\n",
       "      <th>clean_data</th>\n",
       "      <th>Merged_labels</th>\n",
       "    </tr>\n",
       "  </thead>\n",
       "  <tbody>\n",
       "    <tr>\n",
       "      <th>0</th>\n",
       "      <td>hello everyone said earlier wouldnt writing ev...</td>\n",
       "      <td>[male, 17, indUnk, Pisces]</td>\n",
       "    </tr>\n",
       "    <tr>\n",
       "      <th>1</th>\n",
       "      <td>happy happy today happy day hehehe went meet c...</td>\n",
       "      <td>[male, 24, Engineering, Sagittarius]</td>\n",
       "    </tr>\n",
       "    <tr>\n",
       "      <th>2</th>\n",
       "      <td>heheh good heavens childe sounds like horrid s...</td>\n",
       "      <td>[male, 17, Non-Profit, Gemini]</td>\n",
       "    </tr>\n",
       "    <tr>\n",
       "      <th>3</th>\n",
       "      <td>arrives today laptop shipped yesterday arrived...</td>\n",
       "      <td>[male, 25, Technology, Aries]</td>\n",
       "    </tr>\n",
       "    <tr>\n",
       "      <th>4</th>\n",
       "      <td>place sun directed george stevens tragic famil...</td>\n",
       "      <td>[male, 38, Arts, Taurus]</td>\n",
       "    </tr>\n",
       "  </tbody>\n",
       "</table>\n",
       "</div>"
      ],
      "text/plain": [
       "                                          clean_data  \\\n",
       "0  hello everyone said earlier wouldnt writing ev...   \n",
       "1  happy happy today happy day hehehe went meet c...   \n",
       "2  heheh good heavens childe sounds like horrid s...   \n",
       "3  arrives today laptop shipped yesterday arrived...   \n",
       "4  place sun directed george stevens tragic famil...   \n",
       "\n",
       "                          Merged_labels  \n",
       "0            [male, 17, indUnk, Pisces]  \n",
       "1  [male, 24, Engineering, Sagittarius]  \n",
       "2        [male, 17, Non-Profit, Gemini]  \n",
       "3         [male, 25, Technology, Aries]  \n",
       "4              [male, 38, Arts, Taurus]  "
      ]
     },
     "execution_count": 83,
     "metadata": {},
     "output_type": "execute_result"
    }
   ],
   "source": [
    "# Dropping cloumns per above comments\n",
    "\n",
    "df_blog_data_new = df_blog_data_subset[['clean_data','Merged_labels']]\n",
    "df_blog_data_new.head()"
   ]
  },
  {
   "cell_type": "markdown",
   "metadata": {
    "id": "mawohYKk0Fug"
   },
   "source": [
    "# Split the data to Train and Test set"
   ]
  },
  {
   "cell_type": "code",
   "execution_count": 84,
   "metadata": {},
   "outputs": [],
   "source": [
    "# Split dataset into Train and Test"
   ]
  },
  {
   "cell_type": "code",
   "execution_count": 85,
   "metadata": {
    "id": "ItVEBs8iw-QD"
   },
   "outputs": [],
   "source": [
    "X=df_blog_data_new['clean_data']\n",
    "y=df_blog_data_new['Merged_labels']\n",
    "X_train, X_test, y_train, y_test =train_test_split(X,y, random_state=7,\n",
    "                                                   test_size = 0.2,\n",
    "                                                  shuffle = True)"
   ]
  },
  {
   "cell_type": "code",
   "execution_count": 86,
   "metadata": {},
   "outputs": [],
   "source": [
    "# I will now apply Count Vectorizer "
   ]
  },
  {
   "cell_type": "code",
   "execution_count": 87,
   "metadata": {
    "id": "xUI7kCZt_FY8"
   },
   "outputs": [],
   "source": [
    "vectorizer=CountVectorizer(binary=True, ngram_range=(1,3))"
   ]
  },
  {
   "cell_type": "code",
   "execution_count": 88,
   "metadata": {
    "id": "DrJc7H07_S1z"
   },
   "outputs": [],
   "source": [
    "X_train = vectorizer.fit_transform(X_train)\n",
    "X_test = vectorizer.transform(X_test)"
   ]
  },
  {
   "cell_type": "code",
   "execution_count": 89,
   "metadata": {
    "colab": {
     "base_uri": "https://localhost:8080/"
    },
    "id": "o_fhkFLSPlZY",
    "outputId": "7e00ab9f-0a9d-42b8-a69d-5172cf97dcd9"
   },
   "outputs": [
    {
     "name": "stdout",
     "output_type": "stream",
     "text": [
      "2728308\n"
     ]
    }
   ],
   "source": [
    "print(len(vectorizer.vocabulary_))"
   ]
  },
  {
   "cell_type": "code",
   "execution_count": 90,
   "metadata": {},
   "outputs": [],
   "source": [
    "# Total vocabulary in the dataset = 2521756"
   ]
  },
  {
   "cell_type": "code",
   "execution_count": 91,
   "metadata": {
    "colab": {
     "base_uri": "https://localhost:8080/"
    },
    "id": "Qc2-VXv0TLkw",
    "outputId": "98af33d9-9d76-48f1-fe32-55b932b114b7"
   },
   "outputs": [
    {
     "name": "stdout",
     "output_type": "stream",
     "text": [
      "[list(['male', '17', 'indUnk', 'Pisces'])\n",
      " list(['male', '24', 'Engineering', 'Sagittarius'])\n",
      " list(['male', '17', 'Non-Profit', 'Gemini']) ...\n",
      " list(['female', '38', 'indUnk', 'Virgo'])\n",
      " list(['female', '47', 'Internet', 'Aquarius'])\n",
      " list(['male', '26', 'indUnk', 'Aquarius'])]\n"
     ]
    }
   ],
   "source": [
    "print(df_blog_data_subset.Merged_labels.values)"
   ]
  },
  {
   "cell_type": "code",
   "execution_count": 92,
   "metadata": {
    "colab": {
     "base_uri": "https://localhost:8080/"
    },
    "id": "mjQ9fmNQQxAU",
    "outputId": "721435c1-7fa7-4ef8-f8f2-45d63fe71c37"
   },
   "outputs": [
    {
     "data": {
      "text/plain": [
       "{'male': 10066,\n",
       " '17': 2337,\n",
       " 'indUnk': 7299,\n",
       " 'Pisces': 1605,\n",
       " '24': 2313,\n",
       " 'Engineering': 314,\n",
       " 'Sagittarius': 1473,\n",
       " 'Non-Profit': 405,\n",
       " 'Gemini': 1479,\n",
       " '25': 1998,\n",
       " 'Technology': 1243,\n",
       " 'Aries': 1865,\n",
       " '38': 213,\n",
       " 'Arts': 988,\n",
       " 'Taurus': 1838,\n",
       " 'female': 9934,\n",
       " 'Libra': 1897,\n",
       " 'Virgo': 1780,\n",
       " '35': 521,\n",
       " '36': 437,\n",
       " '37': 289,\n",
       " '27': 1385,\n",
       " 'Aquarius': 1510,\n",
       " '13': 386,\n",
       " '16': 2146,\n",
       " 'Student': 4557,\n",
       " '15': 1291,\n",
       " '26': 1563,\n",
       " 'BusinessServices': 133,\n",
       " 'Scorpio': 1652,\n",
       " 'Communications-Media': 588,\n",
       " 'Cancer': 1882,\n",
       " '14': 785,\n",
       " 'Military': 90,\n",
       " 'Government': 221,\n",
       " '23': 2164,\n",
       " 'Accounting': 110,\n",
       " '48': 113,\n",
       " 'Museums-Libraries': 97,\n",
       " '34': 600,\n",
       " 'Leo': 1616,\n",
       " 'Capricorn': 1403,\n",
       " 'Tourism': 47,\n",
       " 'HumanResources': 78,\n",
       " 'Law': 280,\n",
       " '43': 136,\n",
       " 'Chemicals': 106,\n",
       " '33': 499,\n",
       " 'Internet': 477,\n",
       " 'Fashion': 157,\n",
       " 'Education': 892,\n",
       " 'Advertising': 150,\n",
       " 'Publishing': 220,\n",
       " '41': 106,\n",
       " 'RealEstate': 88,\n",
       " 'Marketing': 149,\n",
       " 'Science': 210,\n",
       " 'Consulting': 157,\n",
       " '47': 59,\n",
       " 'Banking': 114,\n",
       " 'Environment': 15,\n",
       " 'Agriculture': 34,\n",
       " 'Religion': 164,\n",
       " '39': 158,\n",
       " 'Manufacturing': 62,\n",
       " '46': 78,\n",
       " '45': 129,\n",
       " '42': 83,\n",
       " 'Telecommunications': 123,\n",
       " 'Sports-Recreation': 108,\n",
       " '44': 44,\n",
       " 'Construction': 27,\n",
       " 'LawEnforcement-Security': 51,\n",
       " 'InvestmentBanking': 34,\n",
       " '40': 167,\n",
       " 'Maritime': 8,\n",
       " 'Biotech': 49,\n",
       " 'Transportation': 64,\n",
       " 'Automotive': 41,\n",
       " 'Architecture': 50}"
      ]
     },
     "execution_count": 92,
     "metadata": {},
     "output_type": "execute_result"
    }
   ],
   "source": [
    "label_counts=dict()\n",
    "\n",
    "for labels in df_blog_data_subset.Merged_labels.values:\n",
    "    for label in labels:\n",
    "        if label in label_counts:\n",
    "            label_counts[str(label)]+=1\n",
    "        else:\n",
    "            label_counts[str(label)]=1\n",
    "        \n",
    "label_counts"
   ]
  },
  {
   "cell_type": "code",
   "execution_count": 93,
   "metadata": {},
   "outputs": [],
   "source": [
    "# Next step is to encode the above labels in a binary format\n",
    "    # This will allow us to use binary values in our training and predictions\n",
    "    # MultiLabelBinarizer is a popular choioce for this operation"
   ]
  },
  {
   "cell_type": "code",
   "execution_count": 94,
   "metadata": {
    "id": "DAh_gz-kVnZb"
   },
   "outputs": [],
   "source": [
    "# Remener keys are the label names in this case\n",
    "\n",
    "from sklearn.preprocessing import MultiLabelBinarizer\n",
    "mlb=MultiLabelBinarizer(classes=sorted(label_counts.keys())) "
   ]
  },
  {
   "cell_type": "code",
   "execution_count": 95,
   "metadata": {
    "id": "2PMNDD-VWEqL"
   },
   "outputs": [],
   "source": [
    "# Fit & Transform\n",
    "\n",
    "y_train = mlb.fit_transform(y_train)\n",
    "y_test = mlb.transform(y_test)"
   ]
  },
  {
   "cell_type": "markdown",
   "metadata": {
    "id": "0PgHNzXbXxL4"
   },
   "source": [
    "# Design, train, tune and test the best text classifier."
   ]
  },
  {
   "cell_type": "code",
   "execution_count": 96,
   "metadata": {},
   "outputs": [],
   "source": [
    "# Text Classifier - design, train, tune and test\n",
    "\n",
    "    # Based on reading on the internet, One vs Rest classifier is used when working with such Multi Label Problems"
   ]
  },
  {
   "cell_type": "code",
   "execution_count": 97,
   "metadata": {
    "id": "vGCVrUpuZpGU"
   },
   "outputs": [],
   "source": [
    "# I will use the Logistic Regression model inisde the OneVsRest classifier\n",
    "\n",
    "from sklearn.multiclass import OneVsRestClassifier\n",
    "clf=LogisticRegression(solver='lbfgs')\n",
    "clf=OneVsRestClassifier(clf) "
   ]
  },
  {
   "cell_type": "code",
   "execution_count": 98,
   "metadata": {
    "colab": {
     "base_uri": "https://localhost:8080/"
    },
    "id": "IV7mV53JaBY_",
    "outputId": "764c1e76-cb8d-4cb9-87f1-62d2c918ebc5"
   },
   "outputs": [
    {
     "data": {
      "text/plain": [
       "OneVsRestClassifier(estimator=LogisticRegression())"
      ]
     },
     "execution_count": 98,
     "metadata": {},
     "output_type": "execute_result"
    }
   ],
   "source": [
    "# Train / fit\n",
    "clf.fit(X_train,y_train)"
   ]
  },
  {
   "cell_type": "code",
   "execution_count": 99,
   "metadata": {
    "id": "A7Fo-nltg30k"
   },
   "outputs": [],
   "source": [
    "# Predict\n",
    "Y_pred=clf.predict(X_test)"
   ]
  },
  {
   "cell_type": "code",
   "execution_count": 100,
   "metadata": {
    "colab": {
     "base_uri": "https://localhost:8080/"
    },
    "id": "63eDVsDrmDtZ",
    "outputId": "2692e848-dad0-4704-b369-60da7b46280f"
   },
   "outputs": [
    {
     "name": "stdout",
     "output_type": "stream",
     "text": [
      "Accuracy score:  0.0025\n",
      "F1 score:  0.28194543297746144\n",
      "Average precision score:  0.14942056342364532\n",
      "Average recall score:  0.1856875\n"
     ]
    }
   ],
   "source": [
    "# Print the performance detail\n",
    "\n",
    "print('Accuracy score: ', accuracy_score(y_test, Y_pred))\n",
    "print('F1 score: ', f1_score(y_test, Y_pred, average='micro'))\n",
    "print('Average precision score: ', average_precision_score(y_test, Y_pred, average='micro'))\n",
    "print('Average recall score: ', recall_score(y_test, Y_pred, average='micro'))"
   ]
  },
  {
   "cell_type": "code",
   "execution_count": 101,
   "metadata": {
    "id": "J_jAxYw4nuDl"
   },
   "outputs": [],
   "source": [
    "# Let's test\n",
    "    # Print predicted and Actual\n",
    "    # Compare to validate\n",
    "\n",
    "import random \n",
    "\n",
    "def print_predicted(y_predicted, y_test, n):\n",
    "    j = []\n",
    "    for i in range(n):\n",
    "        j.append(random.randint(0, len(y_test)))\n",
    "    print(j)\n",
    "                 \n",
    "    for k in j:\n",
    "        print(mlb.inverse_transform(y_predicted)[k]) # need to do the inverse of the step than earlier to get the labels from the binary values \n",
    "        print(mlb.inverse_transform(y_test)[k])\n",
    "        print(\"=================x==================x================x==========\")"
   ]
  },
  {
   "cell_type": "code",
   "execution_count": 102,
   "metadata": {
    "colab": {
     "base_uri": "https://localhost:8080/"
    },
    "id": "K3HwtjC5oELg",
    "outputId": "00f61549-421b-4f57-8451-9ecedbc560c6"
   },
   "outputs": [
    {
     "name": "stdout",
     "output_type": "stream",
     "text": [
      "[2320, 2172, 1895]\n",
      "('female',)\n",
      "('26', 'Aries', 'Education', 'male')\n",
      "=================x==================x================x==========\n",
      "('15', 'Student', 'female', 'indUnk')\n",
      "('15', 'Cancer', 'Sports-Recreation', 'female')\n",
      "=================x==================x================x==========\n",
      "('Student', 'female')\n",
      "('16', 'Cancer', 'Student', 'female')\n",
      "=================x==================x================x==========\n"
     ]
    }
   ],
   "source": [
    "# Comparing predicte vs actual\n",
    "print_predicted(Y_pred,y_test, n= 3)"
   ]
  },
  {
   "cell_type": "code",
   "execution_count": 103,
   "metadata": {},
   "outputs": [],
   "source": [
    "# Based on internet reading, I planned to try One vs One classifier and compare the performance.\n",
    "    # This would ideally require SCV for binary classification\n",
    "    # Keeping in mind computing time and number of models needed for One vs One I am deciding not do this for the purpose of this project.\n",
    "    "
   ]
  },
  {
   "cell_type": "markdown",
   "metadata": {},
   "source": [
    "# END OF PART 1"
   ]
  },
  {
   "cell_type": "code",
   "execution_count": null,
   "metadata": {},
   "outputs": [],
   "source": []
  }
 ],
 "metadata": {
  "accelerator": "GPU",
  "colab": {
   "collapsed_sections": [],
   "name": "NLP1_Part1.ipynb",
   "provenance": []
  },
  "kernelspec": {
   "display_name": "Python 3",
   "language": "python",
   "name": "python3"
  },
  "language_info": {
   "codemirror_mode": {
    "name": "ipython",
    "version": 3
   },
   "file_extension": ".py",
   "mimetype": "text/x-python",
   "name": "python",
   "nbconvert_exporter": "python",
   "pygments_lexer": "ipython3",
   "version": "3.8.5"
  }
 },
 "nbformat": 4,
 "nbformat_minor": 1
}

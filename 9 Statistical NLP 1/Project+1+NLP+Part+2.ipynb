{
 "cells": [
  {
   "cell_type": "markdown",
   "metadata": {},
   "source": [
    "# Project - Natural Language Processing Project-1     PART-2\n",
    " by ARYAN JAIN"
   ]
  },
  {
   "cell_type": "markdown",
   "metadata": {},
   "source": [
    "#### SUMMARY\n",
    "\n",
    "<b>Context:</b>\n",
    "     Great Learning has a an academic support department which receives numerous support requests every day throughout the year. Teams are spread across geographies and try to provide support round the year. Sometimes there are circumstances where due to heavy workload certain request resolutions are delayed, impacting company’s business. Some of the requests are very generic where a proper resolution procedure delivered to the user can solve the problem. Company is looking forward to design an automation which can interact with the user, understand the problem and display the resolution procedure, if found as a generic requet or redirect the request to an actual human support executive if the request is complex or not in it’s database.\n",
    "    \n",
    "    \n",
    "<b>Data Description:</b>    \n",
    "    A sample corpus is attached for your reference. Please enhance/add more data to the corpus using your linguistics skills.\n",
    "    \n",
    "\n",
    "<b>Domain:</b>\n",
    " Customer support\n",
    "    \n",
    "    \n",
    "<b>Objectives:</b>\n",
    "    Design a python based interactive semi - rule based chatbot which can do the following:\n",
    "        - Start chat session with greetings and ask what the user is looking for.\n",
    "        - Accept dynamic text based questions from the user, reply with relevant answer from the designed corpus.\n",
    "        - End the chat session only if the user requests to end else ask what the user is looking for. \n",
    "        Loop continues till the user asks to end it."
   ]
  },
  {
   "cell_type": "markdown",
   "metadata": {
    "id": "u5r3bXSUq0UD"
   },
   "source": [
    "Lets import the required libraries"
   ]
  },
  {
   "cell_type": "markdown",
   "metadata": {},
   "source": [
    "## Importing required libraries"
   ]
  },
  {
   "cell_type": "code",
   "execution_count": 1,
   "metadata": {
    "id": "-bfElIB6q3-y"
   },
   "outputs": [],
   "source": [
    "import tensorflow as tf\n",
    "\n",
    "import nltk\n",
    "from nltk.stem.lancaster import LancasterStemmer  # Lancaster stemmer\n",
    "stemmer = LancasterStemmer() # Lancaster stemmer\n",
    "\n",
    "import numpy as np\n",
    "import random\n",
    "\n",
    "from sklearn.tree import DecisionTreeClassifier\n",
    "from sklearn.ensemble import RandomForestClassifier\n",
    "from sklearn import metrics\n",
    "from sklearn.metrics import accuracy_score,f1_score,recall_score,precision_score, confusion_matrix\n",
    "from sklearn.model_selection import train_test_split"
   ]
  },
  {
   "cell_type": "code",
   "execution_count": 2,
   "metadata": {
    "colab": {
     "base_uri": "https://localhost:8080/"
    },
    "id": "M25GyLzRVsH4",
    "outputId": "7216eb89-1c9a-4626-8a31-46df13d25d66"
   },
   "outputs": [
    {
     "name": "stdout",
     "output_type": "stream",
     "text": [
      "{'intents': [{'tag': 'Intro', 'patterns': ['hi', 'how are you', 'is anyone there', 'hello', 'whats up', 'hey', 'yo', 'listen', 'please help me', 'i am learner from', 'i belong to', 'aiml batch', 'aifl batch', 'i am from', 'my pm is', 'blended', 'online', 'i am from', 'hey ya', 'talking to you for first time'], 'responses': ['Hello! how can i help you ?'], 'context_set': ''}, {'tag': 'Exit', 'patterns': ['thank you', 'thanks', 'cya', 'see you', 'later', 'see you later', 'goodbye', 'i am leaving', 'have a Good day', 'you helped me', 'thanks a lot', 'thanks a ton', 'you are the best', 'great help', 'too good', 'you are a good learning buddy'], 'responses': ['I hope I was able to assist you, Good Bye'], 'context_set': ''}, {'tag': 'Olympus', 'patterns': ['olympus', 'explain me how olympus works', 'I am not able to understand olympus', 'olympus window not working', 'no access to olympus', 'unable to see link in olympus', 'no link visible on olympus', 'whom to contact for olympus', 'lot of problem with olympus', 'olypus is not a good tool', 'lot of problems with olympus', 'how to use olympus', 'teach me olympus'], 'responses': ['Link: Olympus wiki'], 'context_set': ''}, {'tag': 'SL', 'patterns': ['i am not able to understand svm', 'explain me how machine learning works', 'i am not able to understand naive bayes', 'i am not able to understand logistic regression', 'i am not able to understand ensemble techb=niques', 'i am not able to understand knn', 'i am not able to understand knn imputer', 'i am not able to understand cross validation', 'i am not able to understand boosting', 'i am not able to understand random forest', 'i am not able to understand ada boosting', 'i am not able to understand gradient boosting', 'machine learning', 'ML', 'SL', 'supervised learning', 'knn', 'logistic regression', 'regression', 'classification', 'naive bayes', 'nb', 'ensemble techniques', 'bagging', 'boosting', 'ada boosting', 'ada', 'gradient boosting', 'hyper parameters'], 'responses': ['Link: Supervised Learning wiki '], 'context_set': ''}, {'tag': 'NN', 'patterns': ['what is deep learning', 'unable to understand deep learning', 'explain me how deep learning works', 'i am not able to understand deep learning', 'not able to understand neural nets', 'very diffult to understand neural nets', 'unable to understand neural nets', 'ann', 'artificial intelligence', 'artificial neural networks', 'weights', 'activation function', 'hidden layers', 'softmax', 'sigmoid', 'relu', 'otimizer', 'forward propagation', 'backward propagation', 'epochs', 'epoch', 'what is an epoch', 'adam', 'sgd'], 'responses': ['Link: Neural Nets wiki'], 'context_set': ''}, {'tag': 'Bot', 'patterns': ['what is your name', 'who are you', 'name please', 'when are your hours of opertions', 'what are your working hours', 'hours of operation', 'working hours', 'hours'], 'responses': ['I am your virtual learning assistant'], 'context_set': ''}, {'tag': 'Profane', 'patterns': ['what the hell', 'bloody stupid bot', 'do you think you are very smart', 'screw you', 'i hate you', 'you are stupid', 'jerk', 'you are a joke', 'useless piece of shit'], 'responses': ['Please use respectful words'], 'context_set': ''}, {'tag': 'Ticket', 'patterns': ['my problem is not solved', 'you did not help me', 'not a good solution', 'bad solution', 'not good solution', 'no help', 'wasted my time', 'useless bot', 'create a ticket'], 'responses': ['Transferring the request to your PM'], 'context_set': ''}, {'tag': 'USL', 'patterns': ['i am not able to understand PCA', 'explain me how unsupervised machine learning works', 'i am not able to understand K-Means Clustering', 'i am not able to understand Centroid based Clustering', 'i am not able to understand Connectivity based Clustering', 'i am not able to understand Eigen Values', 'i am not able to understand Recommendation Systems', 'unsupervised machine learning', 'UML', 'USL', 'unsupervised learning', 'PCA', 'K-Means Clustering', 'Clustering', 'Eigen Values', 'Recommendation Systems', 'Centroid based Clustering', 'Singular Value Decomposition', 'SVD'], 'responses': ['Link: Unsupervised Learning wiki '], 'context_set': ''}, {'tag': 'Computer Vision', 'patterns': ['i am not able to understand CNN', 'explain me how computer vision works', 'i am not able to understand AlexNet', 'i am not able to understand GoogleNet', 'i am not able to understand LeNet', 'i am not able to understand Convolutions', 'i am not able to understand Kernel', 'i am not able to understand Padding', 'i am not able to understand Strides', 'i am not able to understand ResNet', 'i am not able to understand Skip connections', 'i am not able to understand which optimizer should I use', 'What is the ImageNet Competition', 'ImageNet', 'CV', 'Computer Vision', 'CNN', 'AlexNet', 'ResNet', 'GoogleNet', 'Adam Optimizer', 'Kernel', 'Padding', 'LeNet', 'Facial Recognition'], 'responses': ['Link: Computer Vision wiki '], 'context_set': ''}]}\n"
     ]
    }
   ],
   "source": [
    "# Importing corpus including custom tags I have added to the json file provied as part of problem statement\n",
    "\n",
    "import json\n",
    "\n",
    "with open('GL Bot.json') as file:\n",
    "    Org_Corpus = json.load(file)\n",
    "\n",
    "# Display corpus file\n",
    "print(Org_Corpus)"
   ]
  },
  {
   "cell_type": "markdown",
   "metadata": {
    "id": "zC1m4EvZy6oN"
   },
   "source": [
    "## Tokenize"
   ]
  },
  {
   "cell_type": "code",
   "execution_count": 3,
   "metadata": {},
   "outputs": [],
   "source": [
    "# Next step is to Tokenize"
   ]
  },
  {
   "cell_type": "code",
   "execution_count": 4,
   "metadata": {
    "colab": {
     "base_uri": "https://localhost:8080/"
    },
    "id": "s-YYRtLWfFQI",
    "outputId": "8c5902b1-5b96-421b-c5c0-1bd01943889b"
   },
   "outputs": [
    {
     "name": "stderr",
     "output_type": "stream",
     "text": [
      "[nltk_data] Downloading package punkt to /Users/aryan/nltk_data...\n",
      "[nltk_data]   Package punkt is already up-to-date!\n"
     ]
    }
   ],
   "source": [
    "# Download \"punkt\" if missing\n",
    "nltk.download('punkt')\n",
    "\n",
    "# Extract data\n",
    "W = [] # Tokens \n",
    "L = [] # Identified Tags or Labels\n",
    "doc_x = [] # Tokenised words\n",
    "doc_y = [] # Tags or Labels\n",
    "\n",
    "# Convert to Lower case and tokenize the messages ( here part of Patterns in the corpus )\n",
    "for intent in Org_Corpus['intents']:\n",
    "    for pattern in intent['patterns']:\n",
    "        w_temp = nltk.word_tokenize(pattern)\n",
    "        W.extend(w_temp)\n",
    "        doc_x.append(w_temp)\n",
    "        doc_y.append(intent[\"tag\"])\n",
    "    \n",
    "    # Add the mising tag if any    \n",
    "    if intent['tag'] not in L:\n",
    "        L.append(intent['tag'])"
   ]
  },
  {
   "cell_type": "code",
   "execution_count": 5,
   "metadata": {},
   "outputs": [],
   "source": [
    "# Performing Stemming"
   ]
  },
  {
   "cell_type": "code",
   "execution_count": 6,
   "metadata": {
    "id": "_pLdclzK2Qrt"
   },
   "outputs": [],
   "source": [
    "# Stemming\n",
    "W = [stemmer.stem(w.lower()) for w in W if w != \"?\"] # Stemming or learning the root word\n",
    "W = sorted(list(set(W))) # Sorted words\n",
    "L = sorted(L) # Sorted list of tags or labels"
   ]
  },
  {
   "cell_type": "code",
   "execution_count": 7,
   "metadata": {
    "colab": {
     "base_uri": "https://localhost:8080/"
    },
    "id": "auUPkp2_rZfP",
    "outputId": "dad5e11d-323e-434e-f615-6c82494b67d1"
   },
   "outputs": [
    {
     "data": {
      "text/plain": [
       "['a',\n",
       " 'abl',\n",
       " 'access',\n",
       " 'act',\n",
       " 'ad',\n",
       " 'adam',\n",
       " 'aifl',\n",
       " 'aiml',\n",
       " 'alexnet',\n",
       " 'am',\n",
       " 'an',\n",
       " 'anyon',\n",
       " 'ar',\n",
       " 'art',\n",
       " 'backward',\n",
       " 'bad',\n",
       " 'bag',\n",
       " 'bas',\n",
       " 'batch',\n",
       " 'bay',\n",
       " 'belong',\n",
       " 'best',\n",
       " 'blend',\n",
       " 'bloody',\n",
       " 'boost',\n",
       " 'bot',\n",
       " 'buddy',\n",
       " 'centroid',\n",
       " 'class',\n",
       " 'clust',\n",
       " 'cnn',\n",
       " 'competit',\n",
       " 'comput',\n",
       " 'connect',\n",
       " 'contact',\n",
       " 'convolv',\n",
       " 'cre',\n",
       " 'cross',\n",
       " 'cv',\n",
       " 'cya',\n",
       " 'day',\n",
       " 'decomposit',\n",
       " 'deep',\n",
       " 'did',\n",
       " 'diffult',\n",
       " 'do',\n",
       " 'eig',\n",
       " 'ensembl',\n",
       " 'epoch',\n",
       " 'explain',\n",
       " 'fac',\n",
       " 'first',\n",
       " 'for',\n",
       " 'forest',\n",
       " 'forward',\n",
       " 'from',\n",
       " 'funct',\n",
       " 'good',\n",
       " 'goodby',\n",
       " 'googlenet',\n",
       " 'grady',\n",
       " 'gre',\n",
       " 'hat',\n",
       " 'hav',\n",
       " 'hel',\n",
       " 'hello',\n",
       " 'help',\n",
       " 'hey',\n",
       " 'hi',\n",
       " 'hid',\n",
       " 'hour',\n",
       " 'how',\n",
       " 'hyp',\n",
       " 'i',\n",
       " 'imagenet',\n",
       " 'imput',\n",
       " 'in',\n",
       " 'intellig',\n",
       " 'is',\n",
       " 'jerk',\n",
       " 'jok',\n",
       " 'k-means',\n",
       " 'kernel',\n",
       " 'knn',\n",
       " 'lat',\n",
       " 'lay',\n",
       " 'learn',\n",
       " 'leav',\n",
       " 'lenet',\n",
       " 'link',\n",
       " 'list',\n",
       " 'log',\n",
       " 'lot',\n",
       " 'machin',\n",
       " 'me',\n",
       " 'ml',\n",
       " 'my',\n",
       " 'naiv',\n",
       " 'nam',\n",
       " 'nb',\n",
       " 'net',\n",
       " 'network',\n",
       " 'neur',\n",
       " 'no',\n",
       " 'not',\n",
       " 'of',\n",
       " 'olymp',\n",
       " 'olyp',\n",
       " 'on',\n",
       " 'onlin',\n",
       " 'op',\n",
       " 'opert',\n",
       " 'optim',\n",
       " 'otim',\n",
       " 'pad',\n",
       " 'paramet',\n",
       " 'pca',\n",
       " 'piec',\n",
       " 'pleas',\n",
       " 'pm',\n",
       " 'problem',\n",
       " 'prop',\n",
       " 'random',\n",
       " 'recognit',\n",
       " 'recommend',\n",
       " 'regress',\n",
       " 'relu',\n",
       " 'resnet',\n",
       " 'screw',\n",
       " 'see',\n",
       " 'sgd',\n",
       " 'shit',\n",
       " 'should',\n",
       " 'sigmoid',\n",
       " 'singul',\n",
       " 'skip',\n",
       " 'sl',\n",
       " 'smart',\n",
       " 'softmax',\n",
       " 'solv',\n",
       " 'strides',\n",
       " 'stupid',\n",
       " 'superv',\n",
       " 'svd',\n",
       " 'svm',\n",
       " 'system',\n",
       " 'talk',\n",
       " 'teach',\n",
       " 'techb=niques',\n",
       " 'techn',\n",
       " 'thank',\n",
       " 'the',\n",
       " 'ther',\n",
       " 'think',\n",
       " 'ticket',\n",
       " 'tim',\n",
       " 'to',\n",
       " 'ton',\n",
       " 'too',\n",
       " 'tool',\n",
       " 'uml',\n",
       " 'un',\n",
       " 'understand',\n",
       " 'unsuperv',\n",
       " 'up',\n",
       " 'us',\n",
       " 'useless',\n",
       " 'usl',\n",
       " 'valid',\n",
       " 'valu',\n",
       " 'very',\n",
       " 'vis',\n",
       " 'wast',\n",
       " 'weight',\n",
       " 'what',\n",
       " 'when',\n",
       " 'which',\n",
       " 'who',\n",
       " 'whom',\n",
       " 'window',\n",
       " 'with',\n",
       " 'work',\n",
       " 'ya',\n",
       " 'yo',\n",
       " 'you']"
      ]
     },
     "execution_count": 7,
     "metadata": {},
     "output_type": "execute_result"
    }
   ],
   "source": [
    "# Sorted Words\n",
    "W"
   ]
  },
  {
   "cell_type": "code",
   "execution_count": 8,
   "metadata": {
    "colab": {
     "base_uri": "https://localhost:8080/"
    },
    "id": "IVGYlRPvd2mD",
    "outputId": "f153b2e2-b058-42e7-e32a-698617f0ae7d"
   },
   "outputs": [
    {
     "data": {
      "text/plain": [
       "185"
      ]
     },
     "execution_count": 8,
     "metadata": {},
     "output_type": "execute_result"
    }
   ],
   "source": [
    "len(W)"
   ]
  },
  {
   "cell_type": "code",
   "execution_count": 9,
   "metadata": {
    "colab": {
     "base_uri": "https://localhost:8080/"
    },
    "id": "JPYuWhqdXQsG",
    "outputId": "d8ce4157-f50e-47dc-b6bf-f0e3e87a1a4d"
   },
   "outputs": [
    {
     "data": {
      "text/plain": [
       "['Bot',\n",
       " 'Computer Vision',\n",
       " 'Exit',\n",
       " 'Intro',\n",
       " 'NN',\n",
       " 'Olympus',\n",
       " 'Profane',\n",
       " 'SL',\n",
       " 'Ticket',\n",
       " 'USL']"
      ]
     },
     "execution_count": 9,
     "metadata": {},
     "output_type": "execute_result"
    }
   ],
   "source": [
    "#Sorted Tags\n",
    "L"
   ]
  },
  {
   "cell_type": "markdown",
   "metadata": {
    "id": "ULB0T5TOzMar"
   },
   "source": [
    "# Creating Bag Of Words ( BOW )"
   ]
  },
  {
   "cell_type": "code",
   "execution_count": 10,
   "metadata": {},
   "outputs": [],
   "source": [
    "# Creating Bag of words (BOW)"
   ]
  },
  {
   "cell_type": "code",
   "execution_count": 11,
   "metadata": {
    "id": "qnwbLttbiBRF"
   },
   "outputs": [],
   "source": [
    "Train = [] # Create list for Training data \n",
    "Target = [] # Create list for Target data \n",
    "\n",
    "out_empty = [0 for _ in range(len(L))]\n",
    "\n",
    "# Loop to create bag of words and put the frequency count on each word\n",
    "for x, doc in enumerate(doc_x):\n",
    "    bag = []\n",
    "\n",
    "    w_temp = [stemmer.stem(w.lower()) for w in doc]\n",
    "\n",
    "    for w in W:\n",
    "        if w in w_temp:\n",
    "            bag.append(1)\n",
    "        else:\n",
    "            bag.append(0)\n",
    "\n",
    "    output_row = out_empty[:]\n",
    "    output_row[L.index(doc_y[x])] = 1 \n",
    "\n",
    "    Train.append(bag) # List\n",
    "    Target.append(output_row) # List"
   ]
  },
  {
   "cell_type": "code",
   "execution_count": 12,
   "metadata": {
    "id": "XSMOLt5VojZj"
   },
   "outputs": [],
   "source": [
    "# Let's convert the above lists to numpy arrays for further processing\n",
    "Train = np.array(Train) \n",
    "Target = np.array(Target)"
   ]
  },
  {
   "cell_type": "code",
   "execution_count": 13,
   "metadata": {
    "colab": {
     "base_uri": "https://localhost:8080/"
    },
    "id": "Xxkh1eJlu-Zz",
    "outputId": "d24b7876-f6dd-4984-f788-891a29744a31"
   },
   "outputs": [
    {
     "data": {
      "text/plain": [
       "array([[0, 0, 0, 0, 0, 0, 0, 0, 0, 0, 0, 0, 0, 0, 0, 0, 0, 0, 0, 0, 0, 0,\n",
       "        0, 0, 0, 0, 0, 0, 0, 0, 0, 0, 0, 0, 0, 0, 0, 0, 0, 0, 0, 0, 0, 0,\n",
       "        0, 0, 0, 0, 0, 0, 0, 0, 0, 0, 0, 0, 0, 0, 0, 0, 0, 0, 0, 0, 0, 0,\n",
       "        0, 0, 1, 0, 0, 0, 0, 0, 0, 0, 0, 0, 0, 0, 0, 0, 0, 0, 0, 0, 0, 0,\n",
       "        0, 0, 0, 0, 0, 0, 0, 0, 0, 0, 0, 0, 0, 0, 0, 0, 0, 0, 0, 0, 0, 0,\n",
       "        0, 0, 0, 0, 0, 0, 0, 0, 0, 0, 0, 0, 0, 0, 0, 0, 0, 0, 0, 0, 0, 0,\n",
       "        0, 0, 0, 0, 0, 0, 0, 0, 0, 0, 0, 0, 0, 0, 0, 0, 0, 0, 0, 0, 0, 0,\n",
       "        0, 0, 0, 0, 0, 0, 0, 0, 0, 0, 0, 0, 0, 0, 0, 0, 0, 0, 0, 0, 0, 0,\n",
       "        0, 0, 0, 0, 0, 0, 0, 0, 0],\n",
       "       [0, 0, 0, 0, 0, 0, 0, 0, 0, 0, 0, 0, 1, 0, 0, 0, 0, 0, 0, 0, 0, 0,\n",
       "        0, 0, 0, 0, 0, 0, 0, 0, 0, 0, 0, 0, 0, 0, 0, 0, 0, 0, 0, 0, 0, 0,\n",
       "        0, 0, 0, 0, 0, 0, 0, 0, 0, 0, 0, 0, 0, 0, 0, 0, 0, 0, 0, 0, 0, 0,\n",
       "        0, 0, 0, 0, 0, 1, 0, 0, 0, 0, 0, 0, 0, 0, 0, 0, 0, 0, 0, 0, 0, 0,\n",
       "        0, 0, 0, 0, 0, 0, 0, 0, 0, 0, 0, 0, 0, 0, 0, 0, 0, 0, 0, 0, 0, 0,\n",
       "        0, 0, 0, 0, 0, 0, 0, 0, 0, 0, 0, 0, 0, 0, 0, 0, 0, 0, 0, 0, 0, 0,\n",
       "        0, 0, 0, 0, 0, 0, 0, 0, 0, 0, 0, 0, 0, 0, 0, 0, 0, 0, 0, 0, 0, 0,\n",
       "        0, 0, 0, 0, 0, 0, 0, 0, 0, 0, 0, 0, 0, 0, 0, 0, 0, 0, 0, 0, 0, 0,\n",
       "        0, 0, 0, 0, 0, 0, 0, 0, 1],\n",
       "       [0, 0, 0, 0, 0, 0, 0, 0, 0, 0, 0, 1, 0, 0, 0, 0, 0, 0, 0, 0, 0, 0,\n",
       "        0, 0, 0, 0, 0, 0, 0, 0, 0, 0, 0, 0, 0, 0, 0, 0, 0, 0, 0, 0, 0, 0,\n",
       "        0, 0, 0, 0, 0, 0, 0, 0, 0, 0, 0, 0, 0, 0, 0, 0, 0, 0, 0, 0, 0, 0,\n",
       "        0, 0, 0, 0, 0, 0, 0, 0, 0, 0, 0, 0, 1, 0, 0, 0, 0, 0, 0, 0, 0, 0,\n",
       "        0, 0, 0, 0, 0, 0, 0, 0, 0, 0, 0, 0, 0, 0, 0, 0, 0, 0, 0, 0, 0, 0,\n",
       "        0, 0, 0, 0, 0, 0, 0, 0, 0, 0, 0, 0, 0, 0, 0, 0, 0, 0, 0, 0, 0, 0,\n",
       "        0, 0, 0, 0, 0, 0, 0, 0, 0, 0, 0, 0, 0, 0, 0, 0, 0, 0, 0, 0, 1, 0,\n",
       "        0, 0, 0, 0, 0, 0, 0, 0, 0, 0, 0, 0, 0, 0, 0, 0, 0, 0, 0, 0, 0, 0,\n",
       "        0, 0, 0, 0, 0, 0, 0, 0, 0],\n",
       "       [0, 0, 0, 0, 0, 0, 0, 0, 0, 0, 0, 0, 0, 0, 0, 0, 0, 0, 0, 0, 0, 0,\n",
       "        0, 0, 0, 0, 0, 0, 0, 0, 0, 0, 0, 0, 0, 0, 0, 0, 0, 0, 0, 0, 0, 0,\n",
       "        0, 0, 0, 0, 0, 0, 0, 0, 0, 0, 0, 0, 0, 0, 0, 0, 0, 0, 0, 0, 0, 1,\n",
       "        0, 0, 0, 0, 0, 0, 0, 0, 0, 0, 0, 0, 0, 0, 0, 0, 0, 0, 0, 0, 0, 0,\n",
       "        0, 0, 0, 0, 0, 0, 0, 0, 0, 0, 0, 0, 0, 0, 0, 0, 0, 0, 0, 0, 0, 0,\n",
       "        0, 0, 0, 0, 0, 0, 0, 0, 0, 0, 0, 0, 0, 0, 0, 0, 0, 0, 0, 0, 0, 0,\n",
       "        0, 0, 0, 0, 0, 0, 0, 0, 0, 0, 0, 0, 0, 0, 0, 0, 0, 0, 0, 0, 0, 0,\n",
       "        0, 0, 0, 0, 0, 0, 0, 0, 0, 0, 0, 0, 0, 0, 0, 0, 0, 0, 0, 0, 0, 0,\n",
       "        0, 0, 0, 0, 0, 0, 0, 0, 0],\n",
       "       [0, 0, 0, 0, 0, 0, 0, 0, 0, 0, 0, 0, 0, 0, 0, 0, 0, 0, 0, 0, 0, 0,\n",
       "        0, 0, 0, 0, 0, 0, 0, 0, 0, 0, 0, 0, 0, 0, 0, 0, 0, 0, 0, 0, 0, 0,\n",
       "        0, 0, 0, 0, 0, 0, 0, 0, 0, 0, 0, 0, 0, 0, 0, 0, 0, 0, 0, 0, 0, 0,\n",
       "        0, 0, 0, 0, 0, 0, 0, 0, 0, 0, 0, 0, 0, 0, 0, 0, 0, 0, 0, 0, 0, 0,\n",
       "        0, 0, 0, 0, 0, 0, 0, 0, 0, 0, 0, 0, 0, 0, 0, 0, 0, 0, 0, 0, 0, 0,\n",
       "        0, 0, 0, 0, 0, 0, 0, 0, 0, 0, 0, 0, 0, 0, 0, 0, 0, 0, 0, 0, 0, 0,\n",
       "        0, 0, 0, 0, 0, 0, 0, 0, 0, 0, 0, 0, 0, 0, 0, 0, 0, 0, 0, 0, 0, 0,\n",
       "        0, 0, 0, 0, 0, 0, 0, 0, 0, 0, 1, 0, 0, 0, 0, 0, 0, 0, 0, 0, 1, 0,\n",
       "        0, 0, 0, 0, 0, 0, 0, 0, 0]])"
      ]
     },
     "execution_count": 13,
     "metadata": {},
     "output_type": "execute_result"
    }
   ],
   "source": [
    "Train[:5]"
   ]
  },
  {
   "cell_type": "code",
   "execution_count": 14,
   "metadata": {
    "colab": {
     "base_uri": "https://localhost:8080/"
    },
    "id": "DmjwbxzLDn_q",
    "outputId": "e017d506-41f6-4ce2-a83e-98be927001a8"
   },
   "outputs": [
    {
     "data": {
      "text/plain": [
       "array([[0, 0, 0, 1, 0, 0, 0, 0, 0, 0],\n",
       "       [0, 0, 0, 1, 0, 0, 0, 0, 0, 0],\n",
       "       [0, 0, 0, 1, 0, 0, 0, 0, 0, 0],\n",
       "       [0, 0, 0, 1, 0, 0, 0, 0, 0, 0],\n",
       "       [0, 0, 0, 1, 0, 0, 0, 0, 0, 0]])"
      ]
     },
     "execution_count": 14,
     "metadata": {},
     "output_type": "execute_result"
    }
   ],
   "source": [
    "Target[:5]"
   ]
  },
  {
   "cell_type": "code",
   "execution_count": 15,
   "metadata": {},
   "outputs": [],
   "source": [
    "# This is one hot encoding for the tag intro"
   ]
  },
  {
   "cell_type": "code",
   "execution_count": 16,
   "metadata": {
    "colab": {
     "base_uri": "https://localhost:8080/"
    },
    "id": "TxyTdWp1wGXV",
    "outputId": "f1adfa77-2410-4385-8d10-ba228f3a98b7"
   },
   "outputs": [
    {
     "data": {
      "text/plain": [
       "(172, 185)"
      ]
     },
     "execution_count": 16,
     "metadata": {},
     "output_type": "execute_result"
    }
   ],
   "source": [
    "Train.shape"
   ]
  },
  {
   "cell_type": "code",
   "execution_count": 17,
   "metadata": {},
   "outputs": [],
   "source": [
    "# Total 136 entries for Training"
   ]
  },
  {
   "cell_type": "code",
   "execution_count": 18,
   "metadata": {
    "colab": {
     "base_uri": "https://localhost:8080/"
    },
    "id": "iPUjI2XjqZ_-",
    "outputId": "5bd2db7c-eca1-4127-8e82-8d102a7bb2c2"
   },
   "outputs": [
    {
     "data": {
      "text/plain": [
       "((137, 185), (137, 10), (35, 185), (35, 10))"
      ]
     },
     "execution_count": 18,
     "metadata": {},
     "output_type": "execute_result"
    }
   ],
   "source": [
    "X_train, X_test, y_train, y_test = train_test_split(Train, Target, test_size=0.2, random_state=7)\n",
    "X_train.shape,y_train.shape,X_test.shape,y_test.shape"
   ]
  },
  {
   "cell_type": "code",
   "execution_count": 19,
   "metadata": {},
   "outputs": [],
   "source": [
    "# I will try a Neural Network classifier"
   ]
  },
  {
   "cell_type": "code",
   "execution_count": 20,
   "metadata": {
    "id": "DXawSLoQF3CI"
   },
   "outputs": [],
   "source": [
    "from tensorflow.keras.models import Sequential\n",
    "from tensorflow.keras.layers import Dense, BatchNormalization, Activation , Dropout\n",
    "\n",
    "model_NN = Sequential()\n",
    "model_NN.add(Dense(128, input_dim = len(X_train[0]), kernel_initializer='uniform')) #158 inputs\n",
    "model_NN.add(BatchNormalization())\n",
    "model_NN.add(Activation('relu'))\n",
    "model_NN.add(Dense(64,  kernel_initializer='uniform'))\n",
    "model_NN.add(BatchNormalization())\n",
    "model_NN.add(Activation('relu'))\n",
    "model_NN.add(Dense(32,  kernel_initializer='uniform'))\n",
    "model_NN.add(BatchNormalization())\n",
    "model_NN.add(Activation('relu'))\n",
    "model_NN.add(Dense(10,  kernel_initializer='uniform'))\n",
    "model_NN.add(Activation('softmax'))\n",
    "model_NN.compile(optimizer='adam', loss='categorical_crossentropy', metrics=['accuracy'])"
   ]
  },
  {
   "cell_type": "code",
   "execution_count": 21,
   "metadata": {
    "colab": {
     "base_uri": "https://localhost:8080/"
    },
    "id": "5-BU5EImSUvi",
    "outputId": "d137c757-062f-4218-f17f-045b44664094"
   },
   "outputs": [
    {
     "name": "stdout",
     "output_type": "stream",
     "text": [
      "Model: \"sequential\"\n",
      "_________________________________________________________________\n",
      "Layer (type)                 Output Shape              Param #   \n",
      "=================================================================\n",
      "dense (Dense)                (None, 128)               23808     \n",
      "_________________________________________________________________\n",
      "batch_normalization (BatchNo (None, 128)               512       \n",
      "_________________________________________________________________\n",
      "activation (Activation)      (None, 128)               0         \n",
      "_________________________________________________________________\n",
      "dense_1 (Dense)              (None, 64)                8256      \n",
      "_________________________________________________________________\n",
      "batch_normalization_1 (Batch (None, 64)                256       \n",
      "_________________________________________________________________\n",
      "activation_1 (Activation)    (None, 64)                0         \n",
      "_________________________________________________________________\n",
      "dense_2 (Dense)              (None, 32)                2080      \n",
      "_________________________________________________________________\n",
      "batch_normalization_2 (Batch (None, 32)                128       \n",
      "_________________________________________________________________\n",
      "activation_2 (Activation)    (None, 32)                0         \n",
      "_________________________________________________________________\n",
      "dense_3 (Dense)              (None, 10)                330       \n",
      "_________________________________________________________________\n",
      "activation_3 (Activation)    (None, 10)                0         \n",
      "=================================================================\n",
      "Total params: 35,370\n",
      "Trainable params: 34,922\n",
      "Non-trainable params: 448\n",
      "_________________________________________________________________\n"
     ]
    }
   ],
   "source": [
    "model_NN.summary()"
   ]
  },
  {
   "cell_type": "code",
   "execution_count": 22,
   "metadata": {
    "colab": {
     "base_uri": "https://localhost:8080/"
    },
    "id": "Y2LyEdUEslfW",
    "outputId": "5aa7d79b-75dd-47ba-fde8-448af61445bf"
   },
   "outputs": [
    {
     "name": "stdout",
     "output_type": "stream",
     "text": [
      "Epoch 1/100\n",
      "5/5 [==============================] - 1s 167ms/step - loss: 2.2837 - accuracy: 0.1219 - val_loss: 2.3021 - val_accuracy: 0.1143\n",
      "Epoch 2/100\n",
      "5/5 [==============================] - 0s 11ms/step - loss: 2.1226 - accuracy: 0.5058 - val_loss: 2.3019 - val_accuracy: 0.0857\n",
      "Epoch 3/100\n",
      "5/5 [==============================] - 0s 11ms/step - loss: 2.0435 - accuracy: 0.6714 - val_loss: 2.3015 - val_accuracy: 0.0857\n",
      "Epoch 4/100\n",
      "5/5 [==============================] - 0s 11ms/step - loss: 1.9561 - accuracy: 0.7570 - val_loss: 2.3012 - val_accuracy: 0.0857\n",
      "Epoch 5/100\n",
      "5/5 [==============================] - 0s 10ms/step - loss: 1.8744 - accuracy: 0.8223 - val_loss: 2.3008 - val_accuracy: 0.0857\n",
      "Epoch 6/100\n",
      "5/5 [==============================] - 0s 9ms/step - loss: 1.7875 - accuracy: 0.8726 - val_loss: 2.3004 - val_accuracy: 0.0857\n",
      "Epoch 7/100\n",
      "5/5 [==============================] - 0s 11ms/step - loss: 1.7330 - accuracy: 0.8735 - val_loss: 2.3002 - val_accuracy: 0.0857\n",
      "Epoch 8/100\n",
      "5/5 [==============================] - 0s 11ms/step - loss: 1.6236 - accuracy: 0.8789 - val_loss: 2.2998 - val_accuracy: 0.0857\n",
      "Epoch 9/100\n",
      "5/5 [==============================] - 0s 12ms/step - loss: 1.5336 - accuracy: 0.9062 - val_loss: 2.2996 - val_accuracy: 0.0857\n",
      "Epoch 10/100\n",
      "5/5 [==============================] - 0s 12ms/step - loss: 1.4694 - accuracy: 0.8790 - val_loss: 2.2994 - val_accuracy: 0.0857\n",
      "Epoch 11/100\n",
      "5/5 [==============================] - 0s 12ms/step - loss: 1.3741 - accuracy: 0.9063 - val_loss: 2.2993 - val_accuracy: 0.0857\n",
      "Epoch 12/100\n",
      "5/5 [==============================] - 0s 11ms/step - loss: 1.2837 - accuracy: 0.8669 - val_loss: 2.2990 - val_accuracy: 0.0857\n",
      "Epoch 13/100\n",
      "5/5 [==============================] - 0s 11ms/step - loss: 1.2094 - accuracy: 0.9192 - val_loss: 2.2981 - val_accuracy: 0.0857\n",
      "Epoch 14/100\n",
      "5/5 [==============================] - 0s 11ms/step - loss: 1.1298 - accuracy: 0.9087 - val_loss: 2.2977 - val_accuracy: 0.0857\n",
      "Epoch 15/100\n",
      "5/5 [==============================] - 0s 11ms/step - loss: 1.0511 - accuracy: 0.9401 - val_loss: 2.2973 - val_accuracy: 0.0857\n",
      "Epoch 16/100\n",
      "5/5 [==============================] - 0s 10ms/step - loss: 1.0031 - accuracy: 0.9594 - val_loss: 2.2967 - val_accuracy: 0.0857\n",
      "Epoch 17/100\n",
      "5/5 [==============================] - 0s 11ms/step - loss: 0.8902 - accuracy: 0.9526 - val_loss: 2.2963 - val_accuracy: 0.0857\n",
      "Epoch 18/100\n",
      "5/5 [==============================] - 0s 10ms/step - loss: 0.8806 - accuracy: 0.9348 - val_loss: 2.2961 - val_accuracy: 0.0857\n",
      "Epoch 19/100\n",
      "5/5 [==============================] - 0s 9ms/step - loss: 0.8036 - accuracy: 0.9613 - val_loss: 2.2956 - val_accuracy: 0.0857\n",
      "Epoch 20/100\n",
      "5/5 [==============================] - 0s 11ms/step - loss: 0.7378 - accuracy: 0.9542 - val_loss: 2.2944 - val_accuracy: 0.0857\n",
      "Epoch 21/100\n",
      "5/5 [==============================] - 0s 11ms/step - loss: 0.7034 - accuracy: 0.9631 - val_loss: 2.2928 - val_accuracy: 0.0857\n",
      "Epoch 22/100\n",
      "5/5 [==============================] - 0s 11ms/step - loss: 0.6669 - accuracy: 0.9720 - val_loss: 2.2914 - val_accuracy: 0.0857\n",
      "Epoch 23/100\n",
      "5/5 [==============================] - 0s 10ms/step - loss: 0.5917 - accuracy: 0.9746 - val_loss: 2.2898 - val_accuracy: 0.0857\n",
      "Epoch 24/100\n",
      "5/5 [==============================] - 0s 9ms/step - loss: 0.5773 - accuracy: 0.9642 - val_loss: 2.2882 - val_accuracy: 0.0857\n",
      "Epoch 25/100\n",
      "5/5 [==============================] - 0s 11ms/step - loss: 0.5495 - accuracy: 0.9521 - val_loss: 2.2862 - val_accuracy: 0.0857\n",
      "Epoch 26/100\n",
      "5/5 [==============================] - 0s 12ms/step - loss: 0.5007 - accuracy: 0.9790 - val_loss: 2.2844 - val_accuracy: 0.0857\n",
      "Epoch 27/100\n",
      "5/5 [==============================] - 0s 10ms/step - loss: 0.4955 - accuracy: 0.9642 - val_loss: 2.2825 - val_accuracy: 0.0857\n",
      "Epoch 28/100\n",
      "5/5 [==============================] - 0s 11ms/step - loss: 0.4551 - accuracy: 0.9720 - val_loss: 2.2807 - val_accuracy: 0.0857\n",
      "Epoch 29/100\n",
      "5/5 [==============================] - 0s 11ms/step - loss: 0.4305 - accuracy: 0.9694 - val_loss: 2.2782 - val_accuracy: 0.0857\n",
      "Epoch 30/100\n",
      "5/5 [==============================] - 0s 11ms/step - loss: 0.4008 - accuracy: 0.9703 - val_loss: 2.2743 - val_accuracy: 0.0857\n",
      "Epoch 31/100\n",
      "5/5 [==============================] - 0s 10ms/step - loss: 0.3826 - accuracy: 0.9599 - val_loss: 2.2704 - val_accuracy: 0.0857\n",
      "Epoch 32/100\n",
      "5/5 [==============================] - 0s 11ms/step - loss: 0.3515 - accuracy: 0.9842 - val_loss: 2.2650 - val_accuracy: 0.0857\n",
      "Epoch 33/100\n",
      "5/5 [==============================] - 0s 10ms/step - loss: 0.3112 - accuracy: 0.9764 - val_loss: 2.2593 - val_accuracy: 0.0857\n",
      "Epoch 34/100\n",
      "5/5 [==============================] - 0s 11ms/step - loss: 0.3355 - accuracy: 0.9655 - val_loss: 2.2554 - val_accuracy: 0.0857\n",
      "Epoch 35/100\n",
      "5/5 [==============================] - 0s 10ms/step - loss: 0.3108 - accuracy: 0.9694 - val_loss: 2.2502 - val_accuracy: 0.0857\n",
      "Epoch 36/100\n",
      "5/5 [==============================] - 0s 10ms/step - loss: 0.2947 - accuracy: 0.9616 - val_loss: 2.2414 - val_accuracy: 0.0857\n",
      "Epoch 37/100\n",
      "5/5 [==============================] - 0s 12ms/step - loss: 0.2894 - accuracy: 0.9616 - val_loss: 2.2365 - val_accuracy: 0.0857\n",
      "Epoch 38/100\n",
      "5/5 [==============================] - 0s 9ms/step - loss: 0.2684 - accuracy: 0.9660 - val_loss: 2.2288 - val_accuracy: 0.0857\n",
      "Epoch 39/100\n",
      "5/5 [==============================] - 0s 9ms/step - loss: 0.2312 - accuracy: 0.9712 - val_loss: 2.2104 - val_accuracy: 0.0857\n",
      "Epoch 40/100\n",
      "5/5 [==============================] - 0s 11ms/step - loss: 0.2305 - accuracy: 0.9625 - val_loss: 2.1915 - val_accuracy: 0.1429\n",
      "Epoch 41/100\n",
      "5/5 [==============================] - 0s 10ms/step - loss: 0.2449 - accuracy: 0.9746 - val_loss: 2.1834 - val_accuracy: 0.1143\n",
      "Epoch 42/100\n",
      "5/5 [==============================] - 0s 10ms/step - loss: 0.2274 - accuracy: 0.9577 - val_loss: 2.1739 - val_accuracy: 0.1143\n",
      "Epoch 43/100\n",
      "5/5 [==============================] - 0s 10ms/step - loss: 0.2028 - accuracy: 0.9738 - val_loss: 2.1625 - val_accuracy: 0.1143\n",
      "Epoch 44/100\n",
      "5/5 [==============================] - 0s 10ms/step - loss: 0.1939 - accuracy: 0.9845 - val_loss: 2.1470 - val_accuracy: 0.1143\n",
      "Epoch 45/100\n",
      "5/5 [==============================] - 0s 10ms/step - loss: 0.1844 - accuracy: 0.9805 - val_loss: 2.1341 - val_accuracy: 0.1143\n",
      "Epoch 46/100\n",
      "5/5 [==============================] - 0s 9ms/step - loss: 0.1747 - accuracy: 0.9707 - val_loss: 2.1230 - val_accuracy: 0.1143\n",
      "Epoch 47/100\n",
      "5/5 [==============================] - 0s 9ms/step - loss: 0.1676 - accuracy: 0.9805 - val_loss: 2.1058 - val_accuracy: 0.1143\n",
      "Epoch 48/100\n",
      "5/5 [==============================] - 0s 10ms/step - loss: 0.1712 - accuracy: 0.9697 - val_loss: 2.0823 - val_accuracy: 0.2000\n",
      "Epoch 49/100\n",
      "5/5 [==============================] - 0s 10ms/step - loss: 0.1486 - accuracy: 0.9853 - val_loss: 2.0636 - val_accuracy: 0.2571\n",
      "Epoch 50/100\n",
      "5/5 [==============================] - 0s 10ms/step - loss: 0.1442 - accuracy: 0.9784 - val_loss: 2.0548 - val_accuracy: 0.2286\n",
      "Epoch 51/100\n",
      "5/5 [==============================] - 0s 11ms/step - loss: 0.1382 - accuracy: 0.9945 - val_loss: 2.0456 - val_accuracy: 0.2000\n",
      "Epoch 52/100\n",
      "5/5 [==============================] - 0s 10ms/step - loss: 0.1397 - accuracy: 1.0000 - val_loss: 2.0297 - val_accuracy: 0.2000\n",
      "Epoch 53/100\n",
      "5/5 [==============================] - 0s 10ms/step - loss: 0.1255 - accuracy: 1.0000 - val_loss: 2.0126 - val_accuracy: 0.2000\n",
      "Epoch 54/100\n",
      "5/5 [==============================] - 0s 10ms/step - loss: 0.1148 - accuracy: 1.0000 - val_loss: 1.9980 - val_accuracy: 0.2571\n",
      "Epoch 55/100\n",
      "5/5 [==============================] - 0s 9ms/step - loss: 0.1120 - accuracy: 1.0000 - val_loss: 1.9829 - val_accuracy: 0.2857\n",
      "Epoch 56/100\n",
      "5/5 [==============================] - 0s 9ms/step - loss: 0.1313 - accuracy: 1.0000 - val_loss: 1.9700 - val_accuracy: 0.2571\n",
      "Epoch 57/100\n",
      "5/5 [==============================] - 0s 10ms/step - loss: 0.1141 - accuracy: 1.0000 - val_loss: 1.9479 - val_accuracy: 0.2857\n",
      "Epoch 58/100\n",
      "5/5 [==============================] - 0s 10ms/step - loss: 0.1074 - accuracy: 1.0000 - val_loss: 1.9143 - val_accuracy: 0.2857\n",
      "Epoch 59/100\n",
      "5/5 [==============================] - 0s 10ms/step - loss: 0.0971 - accuracy: 1.0000 - val_loss: 1.9127 - val_accuracy: 0.2571\n",
      "Epoch 60/100\n",
      "5/5 [==============================] - 0s 10ms/step - loss: 0.1066 - accuracy: 1.0000 - val_loss: 1.8844 - val_accuracy: 0.2571\n",
      "Epoch 61/100\n",
      "5/5 [==============================] - 0s 9ms/step - loss: 0.0925 - accuracy: 1.0000 - val_loss: 1.8307 - val_accuracy: 0.3429\n",
      "Epoch 62/100\n",
      "5/5 [==============================] - 0s 8ms/step - loss: 0.0980 - accuracy: 1.0000 - val_loss: 1.7785 - val_accuracy: 0.3714\n",
      "Epoch 63/100\n",
      "5/5 [==============================] - 0s 10ms/step - loss: 0.1006 - accuracy: 1.0000 - val_loss: 1.7446 - val_accuracy: 0.4000\n",
      "Epoch 64/100\n",
      "5/5 [==============================] - 0s 10ms/step - loss: 0.0942 - accuracy: 1.0000 - val_loss: 1.7331 - val_accuracy: 0.4286\n",
      "Epoch 65/100\n",
      "5/5 [==============================] - 0s 10ms/step - loss: 0.0791 - accuracy: 1.0000 - val_loss: 1.7196 - val_accuracy: 0.4286\n",
      "Epoch 66/100\n",
      "5/5 [==============================] - 0s 10ms/step - loss: 0.0873 - accuracy: 1.0000 - val_loss: 1.6920 - val_accuracy: 0.4571\n",
      "Epoch 67/100\n",
      "5/5 [==============================] - 0s 10ms/step - loss: 0.0961 - accuracy: 1.0000 - val_loss: 1.6783 - val_accuracy: 0.4571\n",
      "Epoch 68/100\n",
      "5/5 [==============================] - 0s 10ms/step - loss: 0.0779 - accuracy: 1.0000 - val_loss: 1.6692 - val_accuracy: 0.4857\n",
      "Epoch 69/100\n",
      "5/5 [==============================] - 0s 10ms/step - loss: 0.0899 - accuracy: 1.0000 - val_loss: 1.6480 - val_accuracy: 0.5143\n",
      "Epoch 70/100\n",
      "5/5 [==============================] - 0s 10ms/step - loss: 0.0608 - accuracy: 1.0000 - val_loss: 1.6332 - val_accuracy: 0.4857\n",
      "Epoch 71/100\n",
      "5/5 [==============================] - 0s 10ms/step - loss: 0.0648 - accuracy: 1.0000 - val_loss: 1.6244 - val_accuracy: 0.4286\n",
      "Epoch 72/100\n",
      "5/5 [==============================] - 0s 10ms/step - loss: 0.0697 - accuracy: 1.0000 - val_loss: 1.6003 - val_accuracy: 0.4857\n",
      "Epoch 73/100\n",
      "5/5 [==============================] - 0s 10ms/step - loss: 0.0640 - accuracy: 1.0000 - val_loss: 1.5637 - val_accuracy: 0.5143\n",
      "Epoch 74/100\n",
      "5/5 [==============================] - 0s 10ms/step - loss: 0.0528 - accuracy: 1.0000 - val_loss: 1.5388 - val_accuracy: 0.5429\n",
      "Epoch 75/100\n",
      "5/5 [==============================] - 0s 10ms/step - loss: 0.0579 - accuracy: 1.0000 - val_loss: 1.5435 - val_accuracy: 0.5143\n",
      "Epoch 76/100\n",
      "5/5 [==============================] - 0s 10ms/step - loss: 0.0638 - accuracy: 1.0000 - val_loss: 1.5296 - val_accuracy: 0.5429\n",
      "Epoch 77/100\n",
      "5/5 [==============================] - 0s 10ms/step - loss: 0.0640 - accuracy: 1.0000 - val_loss: 1.5162 - val_accuracy: 0.5429\n",
      "Epoch 78/100\n",
      "5/5 [==============================] - 0s 10ms/step - loss: 0.0792 - accuracy: 1.0000 - val_loss: 1.5189 - val_accuracy: 0.5429\n",
      "Epoch 79/100\n",
      "5/5 [==============================] - 0s 10ms/step - loss: 0.0638 - accuracy: 1.0000 - val_loss: 1.4883 - val_accuracy: 0.5714\n",
      "Epoch 80/100\n",
      "5/5 [==============================] - 0s 10ms/step - loss: 0.0531 - accuracy: 0.9951 - val_loss: 1.4716 - val_accuracy: 0.5714\n",
      "Epoch 81/100\n",
      "5/5 [==============================] - 0s 11ms/step - loss: 0.0450 - accuracy: 1.0000 - val_loss: 1.4897 - val_accuracy: 0.5714\n",
      "Epoch 82/100\n",
      "5/5 [==============================] - 0s 12ms/step - loss: 0.0610 - accuracy: 1.0000 - val_loss: 1.4792 - val_accuracy: 0.5714\n",
      "Epoch 83/100\n",
      "5/5 [==============================] - 0s 11ms/step - loss: 0.0589 - accuracy: 1.0000 - val_loss: 1.4376 - val_accuracy: 0.5714\n",
      "Epoch 84/100\n",
      "5/5 [==============================] - 0s 12ms/step - loss: 0.0450 - accuracy: 1.0000 - val_loss: 1.4074 - val_accuracy: 0.5714\n",
      "Epoch 85/100\n",
      "5/5 [==============================] - 0s 12ms/step - loss: 0.0405 - accuracy: 1.0000 - val_loss: 1.3912 - val_accuracy: 0.5714\n",
      "Epoch 86/100\n",
      "5/5 [==============================] - 0s 12ms/step - loss: 0.0478 - accuracy: 1.0000 - val_loss: 1.3847 - val_accuracy: 0.5714\n",
      "Epoch 87/100\n",
      "5/5 [==============================] - 0s 12ms/step - loss: 0.0418 - accuracy: 1.0000 - val_loss: 1.3823 - val_accuracy: 0.5714\n",
      "Epoch 88/100\n",
      "5/5 [==============================] - 0s 11ms/step - loss: 0.0389 - accuracy: 1.0000 - val_loss: 1.3691 - val_accuracy: 0.5714\n",
      "Epoch 89/100\n",
      "5/5 [==============================] - 0s 11ms/step - loss: 0.0463 - accuracy: 1.0000 - val_loss: 1.3723 - val_accuracy: 0.5714\n",
      "Epoch 90/100\n",
      "5/5 [==============================] - 0s 10ms/step - loss: 0.0380 - accuracy: 1.0000 - val_loss: 1.3797 - val_accuracy: 0.5714\n",
      "Epoch 91/100\n",
      "5/5 [==============================] - 0s 11ms/step - loss: 0.0387 - accuracy: 1.0000 - val_loss: 1.3734 - val_accuracy: 0.5714\n",
      "Epoch 92/100\n",
      "5/5 [==============================] - 0s 11ms/step - loss: 0.0416 - accuracy: 1.0000 - val_loss: 1.3354 - val_accuracy: 0.5714\n",
      "Epoch 93/100\n",
      "5/5 [==============================] - 0s 11ms/step - loss: 0.0373 - accuracy: 1.0000 - val_loss: 1.3177 - val_accuracy: 0.6000\n",
      "Epoch 94/100\n",
      "5/5 [==============================] - 0s 10ms/step - loss: 0.0559 - accuracy: 1.0000 - val_loss: 1.3056 - val_accuracy: 0.6000\n",
      "Epoch 95/100\n",
      "5/5 [==============================] - 0s 11ms/step - loss: 0.0513 - accuracy: 1.0000 - val_loss: 1.3188 - val_accuracy: 0.5714\n",
      "Epoch 96/100\n",
      "5/5 [==============================] - 0s 10ms/step - loss: 0.0298 - accuracy: 1.0000 - val_loss: 1.3480 - val_accuracy: 0.5714\n",
      "Epoch 97/100\n",
      "5/5 [==============================] - 0s 12ms/step - loss: 0.0330 - accuracy: 1.0000 - val_loss: 1.3630 - val_accuracy: 0.5714\n",
      "Epoch 98/100\n",
      "5/5 [==============================] - 0s 12ms/step - loss: 0.0338 - accuracy: 1.0000 - val_loss: 1.3538 - val_accuracy: 0.5714\n",
      "Epoch 99/100\n",
      "5/5 [==============================] - 0s 12ms/step - loss: 0.0324 - accuracy: 1.0000 - val_loss: 1.3266 - val_accuracy: 0.5714\n",
      "Epoch 100/100\n",
      "5/5 [==============================] - 0s 11ms/step - loss: 0.0338 - accuracy: 1.0000 - val_loss: 1.3050 - val_accuracy: 0.5714\n"
     ]
    },
    {
     "data": {
      "text/plain": [
       "<tensorflow.python.keras.callbacks.History at 0x7fdf3c67deb0>"
      ]
     },
     "execution_count": 22,
     "metadata": {},
     "output_type": "execute_result"
    }
   ],
   "source": [
    "model_NN.fit(X_train, y_train,           \n",
    "          validation_data=(X_test, y_test),\n",
    "          epochs=100,\n",
    "          batch_size=32)"
   ]
  },
  {
   "cell_type": "code",
   "execution_count": 23,
   "metadata": {},
   "outputs": [],
   "source": [
    "# Next, let's try Random Forest"
   ]
  },
  {
   "cell_type": "code",
   "execution_count": 24,
   "metadata": {
    "colab": {
     "base_uri": "https://localhost:8080/"
    },
    "id": "-15IWBx4TAJx",
    "outputId": "100463be-3f51-4d00-a0b9-4902db836c7d"
   },
   "outputs": [
    {
     "name": "stdout",
     "output_type": "stream",
     "text": [
      "Test Accuracy: 0.2571428571428571\n"
     ]
    }
   ],
   "source": [
    "from sklearn.ensemble import RandomForestClassifier\n",
    "model_RF = RandomForestClassifier(n_estimators=100,criterion='gini')\n",
    "model_RF.fit(X_train, y_train)\n",
    "\n",
    "pred = model_RF.predict(X_test)\n",
    "print(\"Test Accuracy:\",accuracy_score(y_test, pred))"
   ]
  },
  {
   "cell_type": "code",
   "execution_count": 25,
   "metadata": {},
   "outputs": [],
   "source": [
    "# Neural Networks provided a better result than Random Forest"
   ]
  },
  {
   "cell_type": "code",
   "execution_count": 26,
   "metadata": {},
   "outputs": [],
   "source": [
    "# General outline of how this works:\n",
    "    # The message from the user is first converted into a Bag of Words\n",
    "    # The BOW will then be passed to our model to predict the tag\n",
    "    # Once we get the tag, we can choose any response from it to send back to the user"
   ]
  },
  {
   "cell_type": "code",
   "execution_count": 27,
   "metadata": {
    "id": "K41DH2wnY8DD"
   },
   "outputs": [],
   "source": [
    "# Define function to convert message into Bag of Words\n",
    "\n",
    "def Get_BOW(message, W):\n",
    "    Test = []\n",
    "    bow = [0 for _ in range(len(W))] \n",
    "    msg_words = nltk.word_tokenize(message)\n",
    "    msg_words = [stemmer.stem(word.lower()) for word in msg_words]\n",
    "\n",
    "    for words in msg_words:\n",
    "        for i, w in enumerate(W):\n",
    "            if w == words:\n",
    "                bow[i] = 1\n",
    "    Test.append(bow)       # needed to convert to the shape needed by NN \n",
    "    return np.array(Test)"
   ]
  },
  {
   "cell_type": "code",
   "execution_count": 28,
   "metadata": {
    "id": "AOQC4JwGjmHH"
   },
   "outputs": [],
   "source": [
    "# Define chat function for interaction\n",
    "\n",
    "def chat():\n",
    "    print(\"Chat with Ramos (type: stop to quit)\")\n",
    "    print(\"If answer is not right (type: *)\")\n",
    "    while True:\n",
    "        inp = input(\"\\n\\nYou: \")\n",
    "        if inp.lower()==\"*\":\n",
    "            print(\"BOT: Please rephrase your question and try again\")\n",
    "        if inp.lower() == \"quit\":\n",
    "            break\n",
    "\n",
    "        results = model_NN.predict(Get_BOW(inp, W))\n",
    "        results_index = np.argmax(results)\n",
    "        tag = L[results_index]\n",
    "\n",
    "        for tg in Org_Corpus[\"intents\"]:\n",
    "            if tg['tag'] == tag:\n",
    "                responses = tg['responses']\n",
    "\n",
    "        print(random.choice(responses))"
   ]
  },
  {
   "cell_type": "code",
   "execution_count": 29,
   "metadata": {
    "colab": {
     "base_uri": "https://localhost:8080/"
    },
    "id": "ov8dC0GuTLdL",
    "outputId": "ede8c74c-8712-44a5-9025-8e77aa88cc86"
   },
   "outputs": [
    {
     "data": {
      "text/plain": [
       "(1, 185)"
      ]
     },
     "execution_count": 29,
     "metadata": {},
     "output_type": "execute_result"
    }
   ],
   "source": [
    "Get_BOW('Hello', W).shape"
   ]
  },
  {
   "cell_type": "code",
   "execution_count": 30,
   "metadata": {
    "colab": {
     "base_uri": "https://localhost:8080/"
    },
    "id": "tM_0p2ljvsgY",
    "outputId": "79b4e45a-2a70-465d-f55f-d9f407f9ea65"
   },
   "outputs": [
    {
     "name": "stdout",
     "output_type": "stream",
     "text": [
      "Chat with Ramos (type: stop to quit)\n",
      "If answer is not right (type: *)\n",
      "\n",
      "\n",
      "You: Hi\n",
      "Hello! how can i help you ?\n",
      "\n",
      "\n",
      "You: CNN\n",
      "Link: Computer Vision wiki \n",
      "\n",
      "\n",
      "You: RNN\n",
      "Link: Supervised Learning wiki \n",
      "\n",
      "\n",
      "You: recommendation systems\n",
      "Link: Unsupervised Learning wiki \n",
      "\n",
      "\n",
      "You: thank you\n",
      "I hope I was able to assist you, Good Bye\n",
      "\n",
      "\n",
      "You: quit\n"
     ]
    }
   ],
   "source": [
    "chat()"
   ]
  },
  {
   "cell_type": "code",
   "execution_count": 31,
   "metadata": {},
   "outputs": [],
   "source": [
    "# NOTE: this solution is based on the detail available at below link:\n",
    "\n",
    "    #  https://www.mygreatlearning.com/blog/basics-of-building-an-artificial-intelligence-chatbot/"
   ]
  },
  {
   "cell_type": "markdown",
   "metadata": {},
   "source": [
    "# END OF PART 2"
   ]
  }
 ],
 "metadata": {
  "accelerator": "GPU",
  "colab": {
   "collapsed_sections": [],
   "name": "NLP1_Part2.ipynb",
   "provenance": []
  },
  "kernelspec": {
   "display_name": "Python 3",
   "language": "python",
   "name": "python3"
  },
  "language_info": {
   "codemirror_mode": {
    "name": "ipython",
    "version": 3
   },
   "file_extension": ".py",
   "mimetype": "text/x-python",
   "name": "python",
   "nbconvert_exporter": "python",
   "pygments_lexer": "ipython3",
   "version": "3.8.5"
  }
 },
 "nbformat": 4,
 "nbformat_minor": 1
}

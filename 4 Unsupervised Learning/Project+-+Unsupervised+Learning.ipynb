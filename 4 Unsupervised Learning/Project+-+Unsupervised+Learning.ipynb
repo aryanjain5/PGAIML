{
 "cells": [
  {
   "cell_type": "markdown",
   "metadata": {},
   "source": [
    "# PROJECT: UNSUPERVISED LEARNING\n",
    "                                                                        by: Aryan Jain\n",
    "### <span style=\"color:blue\">March 2021</span>"
   ]
  },
  {
   "cell_type": "markdown",
   "metadata": {},
   "source": [
    "## <span style=\"color:orange\">SUMMARY</span>\n",
    "\n",
    "<b>Context:</b>\n",
    "    The purpose is to classify a given silhouette as one of three types of vehicle, using a set of features extracted from the silhouette. The vehicle may be viewed from one of many different angles.\n",
    "    \n",
    "<b>Data Description:</b>    \n",
    "    The data contains features extracted from the silhouette of vehicles in different angles. Four \"Corgie\" model vehicles were used for the experiment: a double decker bus, Cheverolet van, Saab 9000 and an Opel Manta 400 cars. This particular combination of vehicles was chosen with the expectation that the bus, van and either one of the cars would be readily distinguishable, but it would be more difficult to distinguish between the cars.\n",
    "\n",
    "<b>Attribute Information:</b>\n",
    "* All the features are geometric features extracted from the silhouette. \n",
    "* All are numeric in nature.\n",
    "\n",
    "<b>Domain:</b>\n",
    "    Object recognition    \n",
    "    \n",
    "<b>Objectives:</b>\n",
    "    Apply dimensionality reduction technique –PCA and train a model using principle components instead of training the model using just the raw data.\n",
    " \n",
    "<b>Key Tasks:</b>\n",
    " - Import & explore the data\n",
    " - Data Pre-processing\n",
    " - Data analysis & Visualization\n",
    " - Model training, testing & tuning\n",
    " - Compare the accuracy scores and cross validation scores of Support vector machines –one trained using raw data and the other using Principal Components\n",
    " \n",
    "<b>Learning Objectives:</b>\n",
    "* Exploratory Data Analysis\n",
    "* Reduce the number of dimensions in a dataset with minimal information loss\n",
    "* Train a model using Principal Components"
   ]
  },
  {
   "cell_type": "markdown",
   "metadata": {},
   "source": [
    "## <span style=\"color:purple\"> Importing the necessary libraries"
   ]
  },
  {
   "cell_type": "code",
   "execution_count": 1,
   "metadata": {},
   "outputs": [],
   "source": [
    "# import libraries\n",
    "\n",
    "# Data Management and Vizualization\n",
    "import pandas as pd\n",
    "import numpy as np\n",
    "import matplotlib.pyplot as plt\n",
    "%matplotlib inline\n",
    "import seaborn as sns\n",
    "\n",
    "# Models\n",
    "from sklearn.svm import SVC\n",
    "from sklearn.decomposition import PCA\n",
    "\n",
    "# Model Building\n",
    "from sklearn.model_selection import train_test_split\n",
    "\n",
    "# Normalization\n",
    "from scipy.stats import zscore\n",
    "\n",
    "# Scoring\n",
    "from sklearn import metrics\n",
    "from sklearn.model_selection import cross_val_score\n",
    "from sklearn.model_selection import KFold\n",
    "\n",
    "# Others\n",
    "import warnings\n",
    "warnings.filterwarnings(\"ignore\")\n",
    "\n",
    "# display all columns\n",
    "pd.options.display.max_columns = None"
   ]
  },
  {
   "cell_type": "markdown",
   "metadata": {},
   "source": [
    "### <span style=\"color:green\">Creating functions to gather and display model performance measures</span>"
   ]
  },
  {
   "cell_type": "markdown",
   "metadata": {},
   "source": [
    "## <span style=\"color:purple\"> Functions"
   ]
  },
  {
   "cell_type": "code",
   "execution_count": 2,
   "metadata": {},
   "outputs": [],
   "source": [
    "def update_performance_summary(perf_summary_df, model_name, train_acc, test_acc, cv_acc):\n",
    "    perf_summary_df.loc[len(perf_summary_df.index)] = [model_name, train_acc, test_acc, cv_acc]\n",
    "    return perf_summary_df"
   ]
  },
  {
   "cell_type": "code",
   "execution_count": 3,
   "metadata": {},
   "outputs": [],
   "source": [
    "def get_model_performance(model, X_train, X_test , y_train, y_test, y_pred):\n",
    "\n",
    "    train_acc = round(model.score(X_train, y_train), 3)\n",
    "    test_acc = round(model.score(X_test, y_test), 3)\n",
    "    \n",
    "    print(\"\\n-------------------ACCURACY SCORE WITHOUT CROSS VALIDATION---------------------------\\n\")\n",
    "    print('\\nAccuracy for train set: {0:.3f}'.format(train_acc))\n",
    "    print('Accuracy for test set: {0:.3f}\\n'.format(test_acc))\n",
    "    print(metrics.classification_report(y_test , y_pred))\n",
    "\n",
    "    metrics.plot_confusion_matrix(model, X_test , y_test, values_format='d');\n",
    "    return train_acc, test_acc"
   ]
  },
  {
   "cell_type": "code",
   "execution_count": 4,
   "metadata": {},
   "outputs": [],
   "source": [
    "def run_cv_kfold(model, X, y, num_folds=10, seed=7):\n",
    "    \n",
    "    kfold = KFold(n_splits=num_folds, random_state=seed, shuffle=True)\n",
    "    cv_acc = np.mean(cross_val_score(model, X, y, cv=kfold, scoring='accuracy'))\n",
    "    \n",
    "    print(\"---------------ACCURACY SCORE WITH CROSS VALIDATION-----------------------\\n\")\n",
    "    print('\\nModel Type: ',model)\n",
    "    print(\"\\nAccuracy (with cross validation):\")\n",
    "    print(cv_acc)\n",
    "       \n",
    "    return cv_acc"
   ]
  },
  {
   "cell_type": "code",
   "execution_count": 5,
   "metadata": {},
   "outputs": [],
   "source": [
    "def score_model(perf_summary_df, X_train, X_test, y_train, y_test, model, model_name, num_folds=10, seed=7):\n",
    "\n",
    "    y_pred = model.predict(X_test)\n",
    "\n",
    "    cv_acc = run_cv_kfold(model, X_train, y_train, num_folds, seed)\n",
    "    \n",
    "    # print performace report using custom defined function\n",
    "    train_acc, test_acc = get_model_performance(model, X_train, X_test, y_train, y_test, y_pred)\n",
    "\n",
    "\n",
    "    perf_summary_df = update_performance_summary(perf_summary_df, model_name, train_acc, \n",
    "                                                 test_acc, cv_acc)\n",
    "    \n",
    "    return perf_summary_df"
   ]
  },
  {
   "cell_type": "markdown",
   "metadata": {},
   "source": [
    "#### IMPORT DATA & BASIC EXPLORATION"
   ]
  },
  {
   "cell_type": "markdown",
   "metadata": {},
   "source": [
    "##### Read given datasets, Explore shape & size"
   ]
  },
  {
   "cell_type": "code",
   "execution_count": 6,
   "metadata": {},
   "outputs": [],
   "source": [
    "# Source files\n",
    "src_fn = 'vehicle.csv'        # Project Dataset"
   ]
  },
  {
   "cell_type": "code",
   "execution_count": 7,
   "metadata": {},
   "outputs": [
    {
     "data": {
      "text/html": [
       "<div>\n",
       "<style scoped>\n",
       "    .dataframe tbody tr th:only-of-type {\n",
       "        vertical-align: middle;\n",
       "    }\n",
       "\n",
       "    .dataframe tbody tr th {\n",
       "        vertical-align: top;\n",
       "    }\n",
       "\n",
       "    .dataframe thead th {\n",
       "        text-align: right;\n",
       "    }\n",
       "</style>\n",
       "<table border=\"1\" class=\"dataframe\">\n",
       "  <thead>\n",
       "    <tr style=\"text-align: right;\">\n",
       "      <th></th>\n",
       "      <th>compactness</th>\n",
       "      <th>circularity</th>\n",
       "      <th>distance_circularity</th>\n",
       "      <th>radius_ratio</th>\n",
       "      <th>pr.axis_aspect_ratio</th>\n",
       "      <th>max.length_aspect_ratio</th>\n",
       "      <th>scatter_ratio</th>\n",
       "      <th>elongatedness</th>\n",
       "      <th>pr.axis_rectangularity</th>\n",
       "      <th>max.length_rectangularity</th>\n",
       "      <th>scaled_variance</th>\n",
       "      <th>scaled_variance.1</th>\n",
       "      <th>scaled_radius_of_gyration</th>\n",
       "      <th>scaled_radius_of_gyration.1</th>\n",
       "      <th>skewness_about</th>\n",
       "      <th>skewness_about.1</th>\n",
       "      <th>skewness_about.2</th>\n",
       "      <th>hollows_ratio</th>\n",
       "      <th>class</th>\n",
       "    </tr>\n",
       "  </thead>\n",
       "  <tbody>\n",
       "    <tr>\n",
       "      <th>0</th>\n",
       "      <td>95</td>\n",
       "      <td>48.0</td>\n",
       "      <td>83.0</td>\n",
       "      <td>178.0</td>\n",
       "      <td>72.0</td>\n",
       "      <td>10</td>\n",
       "      <td>162.0</td>\n",
       "      <td>42.0</td>\n",
       "      <td>20.0</td>\n",
       "      <td>159</td>\n",
       "      <td>176.0</td>\n",
       "      <td>379.0</td>\n",
       "      <td>184.0</td>\n",
       "      <td>70.0</td>\n",
       "      <td>6.0</td>\n",
       "      <td>16.0</td>\n",
       "      <td>187.0</td>\n",
       "      <td>197</td>\n",
       "      <td>van</td>\n",
       "    </tr>\n",
       "    <tr>\n",
       "      <th>1</th>\n",
       "      <td>91</td>\n",
       "      <td>41.0</td>\n",
       "      <td>84.0</td>\n",
       "      <td>141.0</td>\n",
       "      <td>57.0</td>\n",
       "      <td>9</td>\n",
       "      <td>149.0</td>\n",
       "      <td>45.0</td>\n",
       "      <td>19.0</td>\n",
       "      <td>143</td>\n",
       "      <td>170.0</td>\n",
       "      <td>330.0</td>\n",
       "      <td>158.0</td>\n",
       "      <td>72.0</td>\n",
       "      <td>9.0</td>\n",
       "      <td>14.0</td>\n",
       "      <td>189.0</td>\n",
       "      <td>199</td>\n",
       "      <td>van</td>\n",
       "    </tr>\n",
       "    <tr>\n",
       "      <th>2</th>\n",
       "      <td>104</td>\n",
       "      <td>50.0</td>\n",
       "      <td>106.0</td>\n",
       "      <td>209.0</td>\n",
       "      <td>66.0</td>\n",
       "      <td>10</td>\n",
       "      <td>207.0</td>\n",
       "      <td>32.0</td>\n",
       "      <td>23.0</td>\n",
       "      <td>158</td>\n",
       "      <td>223.0</td>\n",
       "      <td>635.0</td>\n",
       "      <td>220.0</td>\n",
       "      <td>73.0</td>\n",
       "      <td>14.0</td>\n",
       "      <td>9.0</td>\n",
       "      <td>188.0</td>\n",
       "      <td>196</td>\n",
       "      <td>car</td>\n",
       "    </tr>\n",
       "    <tr>\n",
       "      <th>3</th>\n",
       "      <td>93</td>\n",
       "      <td>41.0</td>\n",
       "      <td>82.0</td>\n",
       "      <td>159.0</td>\n",
       "      <td>63.0</td>\n",
       "      <td>9</td>\n",
       "      <td>144.0</td>\n",
       "      <td>46.0</td>\n",
       "      <td>19.0</td>\n",
       "      <td>143</td>\n",
       "      <td>160.0</td>\n",
       "      <td>309.0</td>\n",
       "      <td>127.0</td>\n",
       "      <td>63.0</td>\n",
       "      <td>6.0</td>\n",
       "      <td>10.0</td>\n",
       "      <td>199.0</td>\n",
       "      <td>207</td>\n",
       "      <td>van</td>\n",
       "    </tr>\n",
       "    <tr>\n",
       "      <th>4</th>\n",
       "      <td>85</td>\n",
       "      <td>44.0</td>\n",
       "      <td>70.0</td>\n",
       "      <td>205.0</td>\n",
       "      <td>103.0</td>\n",
       "      <td>52</td>\n",
       "      <td>149.0</td>\n",
       "      <td>45.0</td>\n",
       "      <td>19.0</td>\n",
       "      <td>144</td>\n",
       "      <td>241.0</td>\n",
       "      <td>325.0</td>\n",
       "      <td>188.0</td>\n",
       "      <td>127.0</td>\n",
       "      <td>9.0</td>\n",
       "      <td>11.0</td>\n",
       "      <td>180.0</td>\n",
       "      <td>183</td>\n",
       "      <td>bus</td>\n",
       "    </tr>\n",
       "  </tbody>\n",
       "</table>\n",
       "</div>"
      ],
      "text/plain": [
       "   compactness  circularity  distance_circularity  radius_ratio  \\\n",
       "0           95         48.0                  83.0         178.0   \n",
       "1           91         41.0                  84.0         141.0   \n",
       "2          104         50.0                 106.0         209.0   \n",
       "3           93         41.0                  82.0         159.0   \n",
       "4           85         44.0                  70.0         205.0   \n",
       "\n",
       "   pr.axis_aspect_ratio  max.length_aspect_ratio  scatter_ratio  \\\n",
       "0                  72.0                       10          162.0   \n",
       "1                  57.0                        9          149.0   \n",
       "2                  66.0                       10          207.0   \n",
       "3                  63.0                        9          144.0   \n",
       "4                 103.0                       52          149.0   \n",
       "\n",
       "   elongatedness  pr.axis_rectangularity  max.length_rectangularity  \\\n",
       "0           42.0                    20.0                        159   \n",
       "1           45.0                    19.0                        143   \n",
       "2           32.0                    23.0                        158   \n",
       "3           46.0                    19.0                        143   \n",
       "4           45.0                    19.0                        144   \n",
       "\n",
       "   scaled_variance  scaled_variance.1  scaled_radius_of_gyration  \\\n",
       "0            176.0              379.0                      184.0   \n",
       "1            170.0              330.0                      158.0   \n",
       "2            223.0              635.0                      220.0   \n",
       "3            160.0              309.0                      127.0   \n",
       "4            241.0              325.0                      188.0   \n",
       "\n",
       "   scaled_radius_of_gyration.1  skewness_about  skewness_about.1  \\\n",
       "0                         70.0             6.0              16.0   \n",
       "1                         72.0             9.0              14.0   \n",
       "2                         73.0            14.0               9.0   \n",
       "3                         63.0             6.0              10.0   \n",
       "4                        127.0             9.0              11.0   \n",
       "\n",
       "   skewness_about.2  hollows_ratio class  \n",
       "0             187.0            197   van  \n",
       "1             189.0            199   van  \n",
       "2             188.0            196   car  \n",
       "3             199.0            207   van  \n",
       "4             180.0            183   bus  "
      ]
     },
     "execution_count": 7,
     "metadata": {},
     "output_type": "execute_result"
    }
   ],
   "source": [
    "# Reading the dataset (csv file) as dataframe and print the first five rows for inspection\n",
    "df = pd.read_csv(src_fn)\n",
    "df.head()"
   ]
  },
  {
   "cell_type": "code",
   "execution_count": 8,
   "metadata": {},
   "outputs": [
    {
     "data": {
      "text/plain": [
       "(846, 19)"
      ]
     },
     "execution_count": 8,
     "metadata": {},
     "output_type": "execute_result"
    }
   ],
   "source": [
    "# Explore shape & size\n",
    "df.shape"
   ]
  },
  {
   "cell_type": "markdown",
   "metadata": {},
   "source": [
    "<span style=\"color:maroon\">**Observations:**\n",
    "* `All the independent variables seem to be numerical, whereas the target variable is a categorical variable.\n",
    "Let's perform some deeper investigations`\n",
    "* `The dataset has 846 rows and 19 columns (18 independent features + 1 target variable)`"
   ]
  },
  {
   "cell_type": "code",
   "execution_count": 9,
   "metadata": {},
   "outputs": [
    {
     "data": {
      "text/plain": [
       "compactness                      int64\n",
       "circularity                    float64\n",
       "distance_circularity           float64\n",
       "radius_ratio                   float64\n",
       "pr.axis_aspect_ratio           float64\n",
       "max.length_aspect_ratio          int64\n",
       "scatter_ratio                  float64\n",
       "elongatedness                  float64\n",
       "pr.axis_rectangularity         float64\n",
       "max.length_rectangularity        int64\n",
       "scaled_variance                float64\n",
       "scaled_variance.1              float64\n",
       "scaled_radius_of_gyration      float64\n",
       "scaled_radius_of_gyration.1    float64\n",
       "skewness_about                 float64\n",
       "skewness_about.1               float64\n",
       "skewness_about.2               float64\n",
       "hollows_ratio                    int64\n",
       "class                           object\n",
       "dtype: object"
      ]
     },
     "execution_count": 9,
     "metadata": {},
     "output_type": "execute_result"
    }
   ],
   "source": [
    "df.dtypes"
   ]
  },
  {
   "cell_type": "markdown",
   "metadata": {},
   "source": [
    "<span style=\"color:maroon\">**OBSERVATIONS:**\n",
    "* `As expected, the independent variables are all numerical`\n",
    "* `Values for target variable is object type, will further investigate`"
   ]
  },
  {
   "cell_type": "code",
   "execution_count": 10,
   "metadata": {},
   "outputs": [
    {
     "data": {
      "text/html": [
       "<div>\n",
       "<style scoped>\n",
       "    .dataframe tbody tr th:only-of-type {\n",
       "        vertical-align: middle;\n",
       "    }\n",
       "\n",
       "    .dataframe tbody tr th {\n",
       "        vertical-align: top;\n",
       "    }\n",
       "\n",
       "    .dataframe thead th {\n",
       "        text-align: right;\n",
       "    }\n",
       "</style>\n",
       "<table border=\"1\" class=\"dataframe\">\n",
       "  <thead>\n",
       "    <tr style=\"text-align: right;\">\n",
       "      <th></th>\n",
       "      <th>count</th>\n",
       "      <th>mean</th>\n",
       "      <th>std</th>\n",
       "      <th>min</th>\n",
       "      <th>25%</th>\n",
       "      <th>50%</th>\n",
       "      <th>75%</th>\n",
       "      <th>max</th>\n",
       "    </tr>\n",
       "  </thead>\n",
       "  <tbody>\n",
       "    <tr>\n",
       "      <th>compactness</th>\n",
       "      <td>846.0</td>\n",
       "      <td>93.678487</td>\n",
       "      <td>8.234474</td>\n",
       "      <td>73.0</td>\n",
       "      <td>87.00</td>\n",
       "      <td>93.0</td>\n",
       "      <td>100.0</td>\n",
       "      <td>119.0</td>\n",
       "    </tr>\n",
       "    <tr>\n",
       "      <th>circularity</th>\n",
       "      <td>841.0</td>\n",
       "      <td>44.828775</td>\n",
       "      <td>6.152172</td>\n",
       "      <td>33.0</td>\n",
       "      <td>40.00</td>\n",
       "      <td>44.0</td>\n",
       "      <td>49.0</td>\n",
       "      <td>59.0</td>\n",
       "    </tr>\n",
       "    <tr>\n",
       "      <th>distance_circularity</th>\n",
       "      <td>842.0</td>\n",
       "      <td>82.110451</td>\n",
       "      <td>15.778292</td>\n",
       "      <td>40.0</td>\n",
       "      <td>70.00</td>\n",
       "      <td>80.0</td>\n",
       "      <td>98.0</td>\n",
       "      <td>112.0</td>\n",
       "    </tr>\n",
       "    <tr>\n",
       "      <th>radius_ratio</th>\n",
       "      <td>840.0</td>\n",
       "      <td>168.888095</td>\n",
       "      <td>33.520198</td>\n",
       "      <td>104.0</td>\n",
       "      <td>141.00</td>\n",
       "      <td>167.0</td>\n",
       "      <td>195.0</td>\n",
       "      <td>333.0</td>\n",
       "    </tr>\n",
       "    <tr>\n",
       "      <th>pr.axis_aspect_ratio</th>\n",
       "      <td>844.0</td>\n",
       "      <td>61.678910</td>\n",
       "      <td>7.891463</td>\n",
       "      <td>47.0</td>\n",
       "      <td>57.00</td>\n",
       "      <td>61.0</td>\n",
       "      <td>65.0</td>\n",
       "      <td>138.0</td>\n",
       "    </tr>\n",
       "    <tr>\n",
       "      <th>max.length_aspect_ratio</th>\n",
       "      <td>846.0</td>\n",
       "      <td>8.567376</td>\n",
       "      <td>4.601217</td>\n",
       "      <td>2.0</td>\n",
       "      <td>7.00</td>\n",
       "      <td>8.0</td>\n",
       "      <td>10.0</td>\n",
       "      <td>55.0</td>\n",
       "    </tr>\n",
       "    <tr>\n",
       "      <th>scatter_ratio</th>\n",
       "      <td>845.0</td>\n",
       "      <td>168.901775</td>\n",
       "      <td>33.214848</td>\n",
       "      <td>112.0</td>\n",
       "      <td>147.00</td>\n",
       "      <td>157.0</td>\n",
       "      <td>198.0</td>\n",
       "      <td>265.0</td>\n",
       "    </tr>\n",
       "    <tr>\n",
       "      <th>elongatedness</th>\n",
       "      <td>845.0</td>\n",
       "      <td>40.933728</td>\n",
       "      <td>7.816186</td>\n",
       "      <td>26.0</td>\n",
       "      <td>33.00</td>\n",
       "      <td>43.0</td>\n",
       "      <td>46.0</td>\n",
       "      <td>61.0</td>\n",
       "    </tr>\n",
       "    <tr>\n",
       "      <th>pr.axis_rectangularity</th>\n",
       "      <td>843.0</td>\n",
       "      <td>20.582444</td>\n",
       "      <td>2.592933</td>\n",
       "      <td>17.0</td>\n",
       "      <td>19.00</td>\n",
       "      <td>20.0</td>\n",
       "      <td>23.0</td>\n",
       "      <td>29.0</td>\n",
       "    </tr>\n",
       "    <tr>\n",
       "      <th>max.length_rectangularity</th>\n",
       "      <td>846.0</td>\n",
       "      <td>147.998818</td>\n",
       "      <td>14.515652</td>\n",
       "      <td>118.0</td>\n",
       "      <td>137.00</td>\n",
       "      <td>146.0</td>\n",
       "      <td>159.0</td>\n",
       "      <td>188.0</td>\n",
       "    </tr>\n",
       "    <tr>\n",
       "      <th>scaled_variance</th>\n",
       "      <td>843.0</td>\n",
       "      <td>188.631079</td>\n",
       "      <td>31.411004</td>\n",
       "      <td>130.0</td>\n",
       "      <td>167.00</td>\n",
       "      <td>179.0</td>\n",
       "      <td>217.0</td>\n",
       "      <td>320.0</td>\n",
       "    </tr>\n",
       "    <tr>\n",
       "      <th>scaled_variance.1</th>\n",
       "      <td>844.0</td>\n",
       "      <td>439.494076</td>\n",
       "      <td>176.666903</td>\n",
       "      <td>184.0</td>\n",
       "      <td>318.00</td>\n",
       "      <td>363.5</td>\n",
       "      <td>587.0</td>\n",
       "      <td>1018.0</td>\n",
       "    </tr>\n",
       "    <tr>\n",
       "      <th>scaled_radius_of_gyration</th>\n",
       "      <td>844.0</td>\n",
       "      <td>174.709716</td>\n",
       "      <td>32.584808</td>\n",
       "      <td>109.0</td>\n",
       "      <td>149.00</td>\n",
       "      <td>173.5</td>\n",
       "      <td>198.0</td>\n",
       "      <td>268.0</td>\n",
       "    </tr>\n",
       "    <tr>\n",
       "      <th>scaled_radius_of_gyration.1</th>\n",
       "      <td>842.0</td>\n",
       "      <td>72.447743</td>\n",
       "      <td>7.486190</td>\n",
       "      <td>59.0</td>\n",
       "      <td>67.00</td>\n",
       "      <td>71.5</td>\n",
       "      <td>75.0</td>\n",
       "      <td>135.0</td>\n",
       "    </tr>\n",
       "    <tr>\n",
       "      <th>skewness_about</th>\n",
       "      <td>840.0</td>\n",
       "      <td>6.364286</td>\n",
       "      <td>4.920649</td>\n",
       "      <td>0.0</td>\n",
       "      <td>2.00</td>\n",
       "      <td>6.0</td>\n",
       "      <td>9.0</td>\n",
       "      <td>22.0</td>\n",
       "    </tr>\n",
       "    <tr>\n",
       "      <th>skewness_about.1</th>\n",
       "      <td>845.0</td>\n",
       "      <td>12.602367</td>\n",
       "      <td>8.936081</td>\n",
       "      <td>0.0</td>\n",
       "      <td>5.00</td>\n",
       "      <td>11.0</td>\n",
       "      <td>19.0</td>\n",
       "      <td>41.0</td>\n",
       "    </tr>\n",
       "    <tr>\n",
       "      <th>skewness_about.2</th>\n",
       "      <td>845.0</td>\n",
       "      <td>188.919527</td>\n",
       "      <td>6.155809</td>\n",
       "      <td>176.0</td>\n",
       "      <td>184.00</td>\n",
       "      <td>188.0</td>\n",
       "      <td>193.0</td>\n",
       "      <td>206.0</td>\n",
       "    </tr>\n",
       "    <tr>\n",
       "      <th>hollows_ratio</th>\n",
       "      <td>846.0</td>\n",
       "      <td>195.632388</td>\n",
       "      <td>7.438797</td>\n",
       "      <td>181.0</td>\n",
       "      <td>190.25</td>\n",
       "      <td>197.0</td>\n",
       "      <td>201.0</td>\n",
       "      <td>211.0</td>\n",
       "    </tr>\n",
       "  </tbody>\n",
       "</table>\n",
       "</div>"
      ],
      "text/plain": [
       "                             count        mean         std    min     25%  \\\n",
       "compactness                  846.0   93.678487    8.234474   73.0   87.00   \n",
       "circularity                  841.0   44.828775    6.152172   33.0   40.00   \n",
       "distance_circularity         842.0   82.110451   15.778292   40.0   70.00   \n",
       "radius_ratio                 840.0  168.888095   33.520198  104.0  141.00   \n",
       "pr.axis_aspect_ratio         844.0   61.678910    7.891463   47.0   57.00   \n",
       "max.length_aspect_ratio      846.0    8.567376    4.601217    2.0    7.00   \n",
       "scatter_ratio                845.0  168.901775   33.214848  112.0  147.00   \n",
       "elongatedness                845.0   40.933728    7.816186   26.0   33.00   \n",
       "pr.axis_rectangularity       843.0   20.582444    2.592933   17.0   19.00   \n",
       "max.length_rectangularity    846.0  147.998818   14.515652  118.0  137.00   \n",
       "scaled_variance              843.0  188.631079   31.411004  130.0  167.00   \n",
       "scaled_variance.1            844.0  439.494076  176.666903  184.0  318.00   \n",
       "scaled_radius_of_gyration    844.0  174.709716   32.584808  109.0  149.00   \n",
       "scaled_radius_of_gyration.1  842.0   72.447743    7.486190   59.0   67.00   \n",
       "skewness_about               840.0    6.364286    4.920649    0.0    2.00   \n",
       "skewness_about.1             845.0   12.602367    8.936081    0.0    5.00   \n",
       "skewness_about.2             845.0  188.919527    6.155809  176.0  184.00   \n",
       "hollows_ratio                846.0  195.632388    7.438797  181.0  190.25   \n",
       "\n",
       "                               50%    75%     max  \n",
       "compactness                   93.0  100.0   119.0  \n",
       "circularity                   44.0   49.0    59.0  \n",
       "distance_circularity          80.0   98.0   112.0  \n",
       "radius_ratio                 167.0  195.0   333.0  \n",
       "pr.axis_aspect_ratio          61.0   65.0   138.0  \n",
       "max.length_aspect_ratio        8.0   10.0    55.0  \n",
       "scatter_ratio                157.0  198.0   265.0  \n",
       "elongatedness                 43.0   46.0    61.0  \n",
       "pr.axis_rectangularity        20.0   23.0    29.0  \n",
       "max.length_rectangularity    146.0  159.0   188.0  \n",
       "scaled_variance              179.0  217.0   320.0  \n",
       "scaled_variance.1            363.5  587.0  1018.0  \n",
       "scaled_radius_of_gyration    173.5  198.0   268.0  \n",
       "scaled_radius_of_gyration.1   71.5   75.0   135.0  \n",
       "skewness_about                 6.0    9.0    22.0  \n",
       "skewness_about.1              11.0   19.0    41.0  \n",
       "skewness_about.2             188.0  193.0   206.0  \n",
       "hollows_ratio                197.0  201.0   211.0  "
      ]
     },
     "execution_count": 10,
     "metadata": {},
     "output_type": "execute_result"
    }
   ],
   "source": [
    "# Basic stats for Numerical attributes, including Five point summary\n",
    "\n",
    "df.describe().T"
   ]
  },
  {
   "cell_type": "markdown",
   "metadata": {},
   "source": [
    "<span style=\"color:maroon\">**OBSERVATIONS:**\n",
    "* `Following variables appear to have some skewness:`\n",
    "    * scatter_ratio\n",
    "    * scaled_variance\n",
    "    * scaled_variance.1\n",
    "* `Other seem to have approximately normal distributions`\n",
    "* `Based on minimal skewness, if the model performance is not acceptable, we will decide to address outliers`"
   ]
  },
  {
   "cell_type": "code",
   "execution_count": 11,
   "metadata": {},
   "outputs": [
    {
     "name": "stdout",
     "output_type": "stream",
     "text": [
      "<class 'pandas.core.frame.DataFrame'>\n",
      "RangeIndex: 846 entries, 0 to 845\n",
      "Data columns (total 19 columns):\n",
      " #   Column                       Non-Null Count  Dtype  \n",
      "---  ------                       --------------  -----  \n",
      " 0   compactness                  846 non-null    int64  \n",
      " 1   circularity                  841 non-null    float64\n",
      " 2   distance_circularity         842 non-null    float64\n",
      " 3   radius_ratio                 840 non-null    float64\n",
      " 4   pr.axis_aspect_ratio         844 non-null    float64\n",
      " 5   max.length_aspect_ratio      846 non-null    int64  \n",
      " 6   scatter_ratio                845 non-null    float64\n",
      " 7   elongatedness                845 non-null    float64\n",
      " 8   pr.axis_rectangularity       843 non-null    float64\n",
      " 9   max.length_rectangularity    846 non-null    int64  \n",
      " 10  scaled_variance              843 non-null    float64\n",
      " 11  scaled_variance.1            844 non-null    float64\n",
      " 12  scaled_radius_of_gyration    844 non-null    float64\n",
      " 13  scaled_radius_of_gyration.1  842 non-null    float64\n",
      " 14  skewness_about               840 non-null    float64\n",
      " 15  skewness_about.1             845 non-null    float64\n",
      " 16  skewness_about.2             845 non-null    float64\n",
      " 17  hollows_ratio                846 non-null    int64  \n",
      " 18  class                        846 non-null    object \n",
      "dtypes: float64(14), int64(4), object(1)\n",
      "memory usage: 125.7+ KB\n"
     ]
    }
   ],
   "source": [
    "# Let's investigate the dataset in detail\n",
    "df.info()"
   ]
  },
  {
   "cell_type": "markdown",
   "metadata": {},
   "source": [
    "<span style=\"color:maroon\">**OBSERVATIONS:**\n",
    "* `From the Non-Null Count, we can see that many of the columns have missing values... will address them later`"
   ]
  },
  {
   "cell_type": "markdown",
   "metadata": {},
   "source": [
    "#### DATA CLEANSING"
   ]
  },
  {
   "cell_type": "markdown",
   "metadata": {},
   "source": [
    "##### Missing values, Data quality checks & Cleansing observations"
   ]
  },
  {
   "cell_type": "code",
   "execution_count": 12,
   "metadata": {},
   "outputs": [
    {
     "data": {
      "text/plain": [
       "True"
      ]
     },
     "execution_count": 12,
     "metadata": {},
     "output_type": "execute_result"
    }
   ],
   "source": [
    "# Missing values check\n",
    "df.isnull().values.any()"
   ]
  },
  {
   "cell_type": "code",
   "execution_count": 13,
   "metadata": {},
   "outputs": [],
   "source": [
    "# The dataset has missing values"
   ]
  },
  {
   "cell_type": "code",
   "execution_count": 14,
   "metadata": {},
   "outputs": [
    {
     "data": {
      "text/plain": [
       "41"
      ]
     },
     "execution_count": 14,
     "metadata": {},
     "output_type": "execute_result"
    }
   ],
   "source": [
    "# Checking number of missing values\n",
    "df.isnull().sum().sum()"
   ]
  },
  {
   "cell_type": "code",
   "execution_count": 15,
   "metadata": {},
   "outputs": [
    {
     "data": {
      "text/plain": [
       "compactness                    0\n",
       "circularity                    5\n",
       "distance_circularity           4\n",
       "radius_ratio                   6\n",
       "pr.axis_aspect_ratio           2\n",
       "max.length_aspect_ratio        0\n",
       "scatter_ratio                  1\n",
       "elongatedness                  1\n",
       "pr.axis_rectangularity         3\n",
       "max.length_rectangularity      0\n",
       "scaled_variance                3\n",
       "scaled_variance.1              2\n",
       "scaled_radius_of_gyration      2\n",
       "scaled_radius_of_gyration.1    4\n",
       "skewness_about                 6\n",
       "skewness_about.1               1\n",
       "skewness_about.2               1\n",
       "hollows_ratio                  0\n",
       "class                          0\n",
       "dtype: int64"
      ]
     },
     "execution_count": 15,
     "metadata": {},
     "output_type": "execute_result"
    }
   ],
   "source": [
    "# Let's check which features have missing values\n",
    "df.isnull().sum()"
   ]
  },
  {
   "cell_type": "code",
   "execution_count": 16,
   "metadata": {},
   "outputs": [
    {
     "data": {
      "image/png": "[encoded data removed]",
      "text/plain": [
       "<Figure size 720x432 with 1 Axes>"
      ]
     },
     "metadata": {
      "needs_background": "light"
     },
     "output_type": "display_data"
    }
   ],
   "source": [
    "# Visualize number of missing values vs. number of columns \n",
    "\n",
    "num_missing = []\n",
    "for col in df.columns:\n",
    "    num_missing.append(df[col].isnull().sum())\n",
    "\n",
    "\n",
    "plt.figure(figsize=(10, 6))\n",
    "sns.histplot(num_missing, bins=9, color='r')\n",
    "plt.title(\"Distribution of missing values\")\n",
    "plt.xlabel(\"Number of missing values\")\n",
    "plt.ylabel(\"Number of columns\")\n",
    "plt.xticks(range(0, 20, 2))\n",
    "plt.show()"
   ]
  },
  {
   "cell_type": "code",
   "execution_count": 17,
   "metadata": {},
   "outputs": [
    {
     "name": "stdout",
     "output_type": "stream",
     "text": [
      "Total number of rows in the dataset: 846\n",
      "\n",
      "Number of rows with null values: 33\n"
     ]
    }
   ],
   "source": [
    "# Checking how many rows have null values to see if dropping them will have a significant impact on the data\n",
    "\n",
    "df.T.isnull().any().sum()\n",
    "\n",
    "print(\"Total number of rows in the dataset: {}\\n\".format(df.shape[0]))\n",
    "print(\"Number of rows with null values: {}\".format(df.shape[0] - df.dropna().shape[0]))"
   ]
  },
  {
   "cell_type": "markdown",
   "metadata": {},
   "source": [
    "<span style=\"color:maroon\">**Observations:**\n",
    "* `If we drop all the rows with any number of missing values, we end up with 813 rows, a drop by 33`\n",
    "* `That means we keep about 96.1% of the rows, which still retains almost all the information... let's go ahead and drop the rows with missing values`"
   ]
  },
  {
   "cell_type": "code",
   "execution_count": 18,
   "metadata": {},
   "outputs": [],
   "source": [
    "# Dropping the rows with missing values\n",
    "df.dropna(inplace=True)"
   ]
  },
  {
   "cell_type": "code",
   "execution_count": 19,
   "metadata": {},
   "outputs": [
    {
     "data": {
      "text/plain": [
       "False"
      ]
     },
     "execution_count": 19,
     "metadata": {},
     "output_type": "execute_result"
    }
   ],
   "source": [
    "# Let's validate that we don't have any more missing values\n",
    "df.isnull().any().any()"
   ]
  },
  {
   "cell_type": "markdown",
   "metadata": {},
   "source": [
    "<span style=\"color:maroon\">**Observation:**\n",
    "* `We have handled the missing values`"
   ]
  },
  {
   "cell_type": "markdown",
   "metadata": {},
   "source": [
    "## <span style=\"color:purple\"> Univariate Analysis"
   ]
  },
  {
   "cell_type": "code",
   "execution_count": 20,
   "metadata": {},
   "outputs": [
    {
     "data": {
      "text/plain": [
       "car    413\n",
       "bus    205\n",
       "van    195\n",
       "Name: class, dtype: int64"
      ]
     },
     "execution_count": 20,
     "metadata": {},
     "output_type": "execute_result"
    }
   ],
   "source": [
    "# Target variable distribution\n",
    "df[\"class\"].value_counts()"
   ]
  },
  {
   "cell_type": "code",
   "execution_count": 21,
   "metadata": {},
   "outputs": [
    {
     "data": {
      "image/png": "[encoded data removed]",
      "text/plain": [
       "<Figure size 432x288 with 1 Axes>"
      ]
     },
     "metadata": {
      "needs_background": "light"
     },
     "output_type": "display_data"
    }
   ],
   "source": [
    "# Let's Visualize!\n",
    "sns.countplot(x=df[\"class\"])\n",
    "plt.show()"
   ]
  },
  {
   "cell_type": "markdown",
   "metadata": {},
   "source": [
    "<span style=\"color:maroon\">**Observations:**\n",
    "* `Out of the 813 total vehicles, 413 (50.8%) are cars, 205 (25.2%) are buses, and 195 (24%) are vans`\n",
    "* `Car class is the most popular vehicle`"
   ]
  },
  {
   "cell_type": "markdown",
   "metadata": {},
   "source": [
    "## <span style=\"color:purple\"> Bivariate Analysis"
   ]
  },
  {
   "cell_type": "code",
   "execution_count": 22,
   "metadata": {},
   "outputs": [],
   "source": [
    "# Pairplot to see influence of variables on value of target\n",
    "# sns.pairplot(df, hue=\"class\")\n",
    "# plt.show()"
   ]
  },
  {
   "cell_type": "code",
   "execution_count": 23,
   "metadata": {},
   "outputs": [],
   "source": [
    "# Few variables clearly have a very high correlation\n",
    "# Due to too many features, it is hard to read. I will use correlation matrix to understand:\n",
    "        # Correlation between independent variables\n",
    "        # Correlation between target and independent variables"
   ]
  },
  {
   "cell_type": "code",
   "execution_count": 24,
   "metadata": {},
   "outputs": [],
   "source": [
    "# Just for analysis, substituting class to numeric values\n",
    "# This will allow us to understand correlation between target and independent variables\n",
    "df_a = df.replace({\"car\":1, \"bus\":2, \"van\":3})"
   ]
  },
  {
   "cell_type": "code",
   "execution_count": 25,
   "metadata": {},
   "outputs": [
    {
     "data": {
      "image/png": "[encoded data removed]",
      "text/plain": [
       "<Figure size 1440x864 with 2 Axes>"
      ]
     },
     "metadata": {
      "needs_background": "light"
     },
     "output_type": "display_data"
    }
   ],
   "source": [
    "plt.figure(figsize=(20,12))\n",
    "df_corr = df_a.corr()\n",
    "sns.heatmap(df_corr, annot=True, fmt='.2g', cmap=\"seismic\")\n",
    "plt.show()"
   ]
  },
  {
   "cell_type": "code",
   "execution_count": 26,
   "metadata": {},
   "outputs": [],
   "source": [
    "# The correlation matrix clearly indicates high correlation between few independent variables. For example:\n",
    "                # pr.axis_rectangularity with scatter_ratio\n",
    "                # scaled_variance.1 with pr.axis_rectangularity\n",
    "# The correlation matrix also indicates features having very low correlation with target variable. For exaple:\n",
    "                # max.length_aspect_ratio\n",
    "\n",
    "# Instead of reviewing every cell visually, I will filter such high and low correlations\n",
    "# I will set a threshold for high correlation => 0.95\n",
    "# I will set a threshold for low correlation => 0.05\n",
    "\n",
    "# If the |correlation| between 2 independent variables > high threshold, I will drop one\n",
    "# If the |correlation| between target and independent variable < low threshold, I will drop the independent variable"
   ]
  },
  {
   "cell_type": "code",
   "execution_count": 27,
   "metadata": {},
   "outputs": [],
   "source": [
    "# Saving dataset before feature engineering based on correlation, as df_orig. \n",
    "# I will try PCA on dataset copies with & without correlation based feature engineering \n",
    "df_orig = df.copy()"
   ]
  },
  {
   "cell_type": "code",
   "execution_count": 28,
   "metadata": {},
   "outputs": [
    {
     "name": "stdout",
     "output_type": "stream",
     "text": [
      "Number of columns in the original dataset:  19\n"
     ]
    }
   ],
   "source": [
    "print(\"Number of columns in the original dataset: \", df.shape[1])"
   ]
  },
  {
   "cell_type": "code",
   "execution_count": 29,
   "metadata": {},
   "outputs": [
    {
     "name": "stdout",
     "output_type": "stream",
     "text": [
      "Independent features with high correlation -> circularity: max.length_rectangularity\n",
      "Independent features with high correlation -> scatter_ratio: elongatedness\n",
      "Independent features with high correlation -> scatter_ratio: pr.axis_rectangularity\n",
      "Independent features with high correlation -> scatter_ratio: scaled_variance\n",
      "Independent features with high correlation -> scatter_ratio: scaled_variance.1\n"
     ]
    }
   ],
   "source": [
    "for col in df.drop(\"class\", axis=1).columns:\n",
    "  try:\n",
    "    for column in df.drop([col, \"class\"], axis=1).columns:\n",
    "      try:\n",
    "        if df[col].corr(df[column]) > 0.95 or df[col].corr(df[column]) < -0.95:\n",
    "          print(\"Independent features with high correlation -> {}: {}\".format(col, column))\n",
    "          df.drop(column, axis=1, inplace=True)\n",
    "      except:\n",
    "        pass\n",
    "  except:\n",
    "    pass"
   ]
  },
  {
   "cell_type": "code",
   "execution_count": 30,
   "metadata": {},
   "outputs": [
    {
     "name": "stdout",
     "output_type": "stream",
     "text": [
      "Independent feature with very low correlation with target: pr.axis_aspect_ratio\n",
      "Independent feature with very low correlation with target: max.length_aspect_ratio\n"
     ]
    }
   ],
   "source": [
    "# Based on above comments, dropping independent variables based on low correlation with target\n",
    "\n",
    "for col in df_a.drop(\"class\", axis=1).columns:\n",
    "    if df_a[col].corr(df_a[\"class\"]) <= 0.05 and df_a[col].corr(df_a[\"class\"]) >= -0.05:\n",
    "        print(\"Independent feature with very low correlation with target: {}\".format(col))\n",
    "        df.drop(col, axis=1, inplace=True)"
   ]
  },
  {
   "cell_type": "code",
   "execution_count": 31,
   "metadata": {},
   "outputs": [
    {
     "name": "stdout",
     "output_type": "stream",
     "text": [
      "Number of columns after dropping based on high/low correlations:  12\n"
     ]
    }
   ],
   "source": [
    "print(\"Number of columns after dropping based on high/low correlations: \", df.shape[1])"
   ]
  },
  {
   "cell_type": "code",
   "execution_count": 32,
   "metadata": {},
   "outputs": [],
   "source": [
    "# We have addressed:\n",
    "    # Data quality issues\n",
    "    # Missing values\n",
    "    # Highly correlated independent variables\n",
    "    # Features with very low correlation with target\n",
    "    \n",
    "# The data is now ready to be fed into the model for predictions!!!"
   ]
  },
  {
   "cell_type": "markdown",
   "metadata": {},
   "source": [
    "# <span style=\"color:green\"> ----------------------------------MODEL BUILDING-----------------------------"
   ]
  },
  {
   "cell_type": "code",
   "execution_count": 33,
   "metadata": {},
   "outputs": [],
   "source": [
    "# Creating a empty summary dataframe, I will use this dataframe to capture performance measures\n",
    "\n",
    "perf_summary_df = pd.DataFrame(columns=[\"Model Name\", \"Training Accuracy\", \"Testing Accuracy\", \"Cross Validation Accuracy\"])"
   ]
  },
  {
   "cell_type": "code",
   "execution_count": 34,
   "metadata": {},
   "outputs": [],
   "source": [
    "# Let's set values for variables we will be using while building models\n",
    "# We will use variables instead on hardcoded value as best practice, as outlined below\n",
    "\n",
    "seed = 7 # will use this for random_state, to ensure we are using same value for repeatable results\n",
    "cv_folds = 3 # Number of folds while applying cross validation\n",
    "test_size = 0.3 # Test dataset ratio"
   ]
  },
  {
   "cell_type": "markdown",
   "metadata": {},
   "source": [
    "### <span style=\"color:blue\"> Splitting the data into training and testing datasets"
   ]
  },
  {
   "cell_type": "code",
   "execution_count": 35,
   "metadata": {},
   "outputs": [],
   "source": [
    "X = df.drop(\"class\", axis=1)\n",
    "y = df[\"class\"]"
   ]
  },
  {
   "cell_type": "code",
   "execution_count": 36,
   "metadata": {},
   "outputs": [],
   "source": [
    "# Let's scale the X data, to remove any bias.\n",
    "X = X.apply(zscore)"
   ]
  },
  {
   "cell_type": "code",
   "execution_count": 37,
   "metadata": {},
   "outputs": [],
   "source": [
    "X_train , X_test , y_train , y_test = train_test_split(X, y, test_size=test_size, random_state=seed)"
   ]
  },
  {
   "cell_type": "markdown",
   "metadata": {},
   "source": [
    "### <span style=\"color:blue\"> Support Vector Machine model"
   ]
  },
  {
   "cell_type": "code",
   "execution_count": 38,
   "metadata": {},
   "outputs": [],
   "source": [
    "# Initializing the Support Vector Machine Classifier model\n",
    "svmc = SVC(random_state=seed)"
   ]
  },
  {
   "cell_type": "code",
   "execution_count": 39,
   "metadata": {},
   "outputs": [
    {
     "data": {
      "text/plain": [
       "SVC(random_state=7)"
      ]
     },
     "execution_count": 39,
     "metadata": {},
     "output_type": "execute_result"
    }
   ],
   "source": [
    "# Fitting/Training the model on training dataset\n",
    "svmc.fit(X_train , y_train)"
   ]
  },
  {
   "cell_type": "code",
   "execution_count": 40,
   "metadata": {},
   "outputs": [
    {
     "name": "stdout",
     "output_type": "stream",
     "text": [
      "---------------ACCURACY SCORE WITH CROSS VALIDATION-----------------------\n",
      "\n",
      "\n",
      "Model Type:  SVC(random_state=7)\n",
      "\n",
      "Accuracy (with cross validation):\n",
      "0.8857421331105542\n",
      "\n",
      "-------------------ACCURACY SCORE WITHOUT CROSS VALIDATION---------------------------\n",
      "\n",
      "\n",
      "Accuracy for train set: 0.947\n",
      "Accuracy for test set: 0.910\n",
      "\n",
      "              precision    recall  f1-score   support\n",
      "\n",
      "         bus       0.98      0.90      0.94        63\n",
      "         car       0.94      0.91      0.92       129\n",
      "         van       0.77      0.92      0.84        52\n",
      "\n",
      "    accuracy                           0.91       244\n",
      "   macro avg       0.90      0.91      0.90       244\n",
      "weighted avg       0.92      0.91      0.91       244\n",
      "\n"
     ]
    },
    {
     "data": {
      "image/png": "[encoded data removed]",
      "text/plain": [
       "<Figure size 432x288 with 2 Axes>"
      ]
     },
     "metadata": {
      "needs_background": "light"
     },
     "output_type": "display_data"
    }
   ],
   "source": [
    "# Calling the custom function to score the model\n",
    "perf_summary_df = score_model(perf_summary_df, X_train, X_test, y_train, y_test, svmc, \"SVM WITHOUT PCA\", \n",
    "            num_folds=cv_folds, seed=seed)"
   ]
  },
  {
   "cell_type": "markdown",
   "metadata": {},
   "source": [
    "## <span style=\"color:blue\"> PCA\n",
    "    \n",
    "As explained in earlier steps, I will try PCA on dataset:\n",
    "    - before correlation based feature engineering \n",
    "    - after correlation based feature engineering"
   ]
  },
  {
   "cell_type": "code",
   "execution_count": 41,
   "metadata": {},
   "outputs": [],
   "source": [
    "# first applying PCA to correlation based feature engineered dataset"
   ]
  },
  {
   "cell_type": "code",
   "execution_count": 42,
   "metadata": {},
   "outputs": [],
   "source": [
    "# Initiziling our PCA model\n",
    "pca = PCA(n_components=8)"
   ]
  },
  {
   "cell_type": "code",
   "execution_count": 43,
   "metadata": {},
   "outputs": [
    {
     "data": {
      "text/plain": [
       "PCA(n_components=8)"
      ]
     },
     "execution_count": 43,
     "metadata": {},
     "output_type": "execute_result"
    }
   ],
   "source": [
    "# Fitting the PCA on the scaled data\n",
    "pca.fit(X)"
   ]
  },
  {
   "cell_type": "code",
   "execution_count": 44,
   "metadata": {},
   "outputs": [
    {
     "data": {
      "text/plain": [
       "array([0.45213892, 0.25595836, 0.099738  , 0.08341101, 0.0405599 ,\n",
       "       0.02746636, 0.01697196, 0.00904401])"
      ]
     },
     "execution_count": 44,
     "metadata": {},
     "output_type": "execute_result"
    }
   ],
   "source": [
    "# Explained variance for every new Principal Component\n",
    "pca.explained_variance_ratio_"
   ]
  },
  {
   "cell_type": "code",
   "execution_count": 45,
   "metadata": {},
   "outputs": [
    {
     "data": {
      "text/plain": [
       "array([[-0.39563923, -0.3847651 , -0.42294556, -0.38019714, -0.41634293,\n",
       "        -0.34469606,  0.11749944, -0.08424925, -0.09834275, -0.11988226,\n",
       "        -0.18678515],\n",
       "       [-0.03560545,  0.23735597,  0.03034517, -0.06933582,  0.1495906 ,\n",
       "         0.3109239 ,  0.49874743, -0.03599891, -0.10710762, -0.53733966,\n",
       "        -0.51707274],\n",
       "       [ 0.06823882,  0.11145162, -0.11558667, -0.09813711, -0.11631702,\n",
       "         0.14518811, -0.07455658,  0.67198167, -0.67532557,  0.10926675,\n",
       "         0.01413171],\n",
       "       [ 0.06062024, -0.10290687,  0.026535  , -0.14971502, -0.0038288 ,\n",
       "        -0.07421048,  0.06324129,  0.70294942,  0.66230033, -0.1217391 ,\n",
       "        -0.0741305 ],\n",
       "       [ 0.0187678 , -0.2021373 , -0.14798616,  0.63820794, -0.0595986 ,\n",
       "        -0.16321225,  0.64625503,  0.11794564, -0.03579334,  0.25148987,\n",
       "         0.05747805],\n",
       "       [ 0.77628113, -0.26345042, -0.00458486, -0.19270738,  0.19559085,\n",
       "        -0.4015852 ,  0.035259  , -0.08039858, -0.14776118, -0.01484828,\n",
       "        -0.24806633],\n",
       "       [ 0.29790991,  0.2842435 , -0.50638313, -0.34217749, -0.14228487,\n",
       "         0.37274543,  0.25955444, -0.14279902,  0.2124731 ,  0.38681553,\n",
       "         0.12341288],\n",
       "       [ 0.12168206,  0.20548521,  0.35150305, -0.25277702, -0.29996794,\n",
       "        -0.2292997 ,  0.3709573 , -0.02364121, -0.07641764, -0.30829921,\n",
       "         0.61147633]])"
      ]
     },
     "execution_count": 45,
     "metadata": {},
     "output_type": "execute_result"
    }
   ],
   "source": [
    "# Coefficients for the Principal Components\n",
    "pca.components_"
   ]
  },
  {
   "cell_type": "code",
   "execution_count": 46,
   "metadata": {},
   "outputs": [
    {
     "data": {
      "image/png": "[encoded data removed]",
      "text/plain": [
       "<Figure size 432x288 with 1 Axes>"
      ]
     },
     "metadata": {
      "needs_background": "light"
     },
     "output_type": "display_data"
    }
   ],
   "source": [
    "# Printing the graph for cumulative explained variance with every new Principal Component\n",
    "plt.step(list(range(1, 9)),np.cumsum(pca.explained_variance_ratio_), where='mid')\n",
    "plt.ylabel('Cumulative Explained Variance')\n",
    "plt.xlabel('Number of Components')\n",
    "plt.show()"
   ]
  },
  {
   "cell_type": "markdown",
   "metadata": {},
   "source": [
    "<span style=\"color:maroon\">**OBSERVATIONS:**\n",
    "* `We can see that around 95% of the data is explained with 6 principal components`\n",
    "* `We are asked to use the number of components the explain ~95% of the data, so we can use 0.95 as the parameter instead of number of components`"
   ]
  },
  {
   "cell_type": "code",
   "execution_count": 47,
   "metadata": {},
   "outputs": [],
   "source": [
    "# Initilizing the PCA with 95% explained variance\n",
    "\n",
    "# We can pass 6 as the parameter based on above plot OR we can pass 0.95 explained variance.\n",
    "# I want to try passing desired explained variance 0.95 as the parameter\n",
    "# Later we will validate it actually uses 6 components\n",
    "\n",
    "pca95 = PCA(0.95) \n",
    "\n",
    "# Fit and transdform the data with Principal Components\n",
    "pca95.fit(X)\n",
    "Xpca95 = pca95.transform(X)"
   ]
  },
  {
   "cell_type": "code",
   "execution_count": 48,
   "metadata": {},
   "outputs": [
    {
     "name": "stdout",
     "output_type": "stream",
     "text": [
      "Total variance explained by 6 Principal Components is: \n",
      "95.93%\n"
     ]
    }
   ],
   "source": [
    "# Printing out the total explained variance\n",
    "expl_var_rat = pca95.explained_variance_ratio_\n",
    "print(f\"Total variance explained by {len(expl_var_rat)} Principal Components is: \\n{round(sum(expl_var_rat), 4)*100}%\")"
   ]
  },
  {
   "cell_type": "code",
   "execution_count": 49,
   "metadata": {},
   "outputs": [
    {
     "data": {
      "text/plain": [
       "array([[-0.47429606,  0.05196276, -0.20457586,  0.09840599, -0.27976067,\n",
       "        -0.31999067],\n",
       "       [ 0.90206826, -0.61096347,  0.24558461,  0.65157229, -0.2657675 ,\n",
       "        -0.01735812],\n",
       "       [-2.95748317,  0.82888451,  1.25948026,  0.58318716,  0.29766294,\n",
       "         0.10802897],\n",
       "       ...,\n",
       "       [-3.20323506,  0.49176054,  0.10200199, -1.49027752,  0.03321675,\n",
       "         0.47247877],\n",
       "       [ 1.86302391, -1.23832744, -1.84520309,  0.19054601, -0.65475353,\n",
       "        -0.19169684],\n",
       "       [ 3.2378064 , -0.19792616, -1.20596122,  0.11809515, -0.41337393,\n",
       "         0.28195401]])"
      ]
     },
     "execution_count": 49,
     "metadata": {},
     "output_type": "execute_result"
    }
   ],
   "source": [
    "# Checking the dataset after dimensionality reduction with PCA\n",
    "Xpca95"
   ]
  },
  {
   "cell_type": "code",
   "execution_count": 50,
   "metadata": {},
   "outputs": [
    {
     "data": {
      "text/html": [
       "<div>\n",
       "<style scoped>\n",
       "    .dataframe tbody tr th:only-of-type {\n",
       "        vertical-align: middle;\n",
       "    }\n",
       "\n",
       "    .dataframe tbody tr th {\n",
       "        vertical-align: top;\n",
       "    }\n",
       "\n",
       "    .dataframe thead th {\n",
       "        text-align: right;\n",
       "    }\n",
       "</style>\n",
       "<table border=\"1\" class=\"dataframe\">\n",
       "  <thead>\n",
       "    <tr style=\"text-align: right;\">\n",
       "      <th></th>\n",
       "      <th>0</th>\n",
       "      <th>1</th>\n",
       "      <th>2</th>\n",
       "      <th>3</th>\n",
       "      <th>4</th>\n",
       "      <th>5</th>\n",
       "    </tr>\n",
       "  </thead>\n",
       "  <tbody>\n",
       "    <tr>\n",
       "      <th>0</th>\n",
       "      <td>-0.474296</td>\n",
       "      <td>0.051963</td>\n",
       "      <td>-0.204576</td>\n",
       "      <td>0.098406</td>\n",
       "      <td>-0.279761</td>\n",
       "      <td>-0.319991</td>\n",
       "    </tr>\n",
       "    <tr>\n",
       "      <th>1</th>\n",
       "      <td>0.902068</td>\n",
       "      <td>-0.610963</td>\n",
       "      <td>0.245585</td>\n",
       "      <td>0.651572</td>\n",
       "      <td>-0.265768</td>\n",
       "      <td>-0.017358</td>\n",
       "    </tr>\n",
       "    <tr>\n",
       "      <th>2</th>\n",
       "      <td>-2.957483</td>\n",
       "      <td>0.828885</td>\n",
       "      <td>1.259480</td>\n",
       "      <td>0.583187</td>\n",
       "      <td>0.297663</td>\n",
       "      <td>0.108029</td>\n",
       "    </tr>\n",
       "    <tr>\n",
       "      <th>3</th>\n",
       "      <td>0.606407</td>\n",
       "      <td>-2.945515</td>\n",
       "      <td>0.278229</td>\n",
       "      <td>-0.425547</td>\n",
       "      <td>-0.098141</td>\n",
       "      <td>0.204627</td>\n",
       "    </tr>\n",
       "    <tr>\n",
       "      <th>4</th>\n",
       "      <td>1.811356</td>\n",
       "      <td>5.273300</td>\n",
       "      <td>-0.211545</td>\n",
       "      <td>0.760846</td>\n",
       "      <td>5.094441</td>\n",
       "      <td>-0.580197</td>\n",
       "    </tr>\n",
       "  </tbody>\n",
       "</table>\n",
       "</div>"
      ],
      "text/plain": [
       "          0         1         2         3         4         5\n",
       "0 -0.474296  0.051963 -0.204576  0.098406 -0.279761 -0.319991\n",
       "1  0.902068 -0.610963  0.245585  0.651572 -0.265768 -0.017358\n",
       "2 -2.957483  0.828885  1.259480  0.583187  0.297663  0.108029\n",
       "3  0.606407 -2.945515  0.278229 -0.425547 -0.098141  0.204627\n",
       "4  1.811356  5.273300 -0.211545  0.760846  5.094441 -0.580197"
      ]
     },
     "execution_count": 50,
     "metadata": {},
     "output_type": "execute_result"
    }
   ],
   "source": [
    "# The data is really messy, let's convert it into a dataframe to organize it\n",
    "Xpca = pd.DataFrame(Xpca95)\n",
    "Xpca.head()"
   ]
  },
  {
   "cell_type": "code",
   "execution_count": 51,
   "metadata": {},
   "outputs": [
    {
     "data": {
      "text/plain": [
       "6"
      ]
     },
     "execution_count": 51,
     "metadata": {},
     "output_type": "execute_result"
    }
   ],
   "source": [
    "# Checking how many Principal Components we used\n",
    "pca95.n_components_"
   ]
  },
  {
   "cell_type": "markdown",
   "metadata": {},
   "source": [
    "As expected and explained above, the PCA model is using 6  pricipal components to explain 95% of the data"
   ]
  },
  {
   "cell_type": "markdown",
   "metadata": {},
   "source": [
    "### <span style=\"color:blue\"> Support Vector Machine with PCA\n",
    "    \n",
    "    On correlation based features engineered dataset"
   ]
  },
  {
   "cell_type": "code",
   "execution_count": 52,
   "metadata": {},
   "outputs": [],
   "source": [
    "# Splitting the data into training and testing\n",
    "X_train , X_test, y_train, y_test = train_test_split(Xpca, y, test_size=test_size, random_state=seed)"
   ]
  },
  {
   "cell_type": "code",
   "execution_count": 53,
   "metadata": {},
   "outputs": [],
   "source": [
    "# Initializing the Support Vector Machine\n",
    "svmc = SVC()"
   ]
  },
  {
   "cell_type": "code",
   "execution_count": 54,
   "metadata": {},
   "outputs": [
    {
     "data": {
      "text/plain": [
       "SVC()"
      ]
     },
     "execution_count": 54,
     "metadata": {},
     "output_type": "execute_result"
    }
   ],
   "source": [
    "# Training the model\n",
    "svmc.fit(X_train, y_train)"
   ]
  },
  {
   "cell_type": "code",
   "execution_count": 55,
   "metadata": {},
   "outputs": [
    {
     "name": "stdout",
     "output_type": "stream",
     "text": [
      "---------------ACCURACY SCORE WITH CROSS VALIDATION-----------------------\n",
      "\n",
      "\n",
      "Model Type:  SVC()\n",
      "\n",
      "Accuracy (with cross validation):\n",
      "0.7662768031189083\n",
      "\n",
      "-------------------ACCURACY SCORE WITHOUT CROSS VALIDATION---------------------------\n",
      "\n",
      "\n",
      "Accuracy for train set: 0.833\n",
      "Accuracy for test set: 0.779\n",
      "\n",
      "              precision    recall  f1-score   support\n",
      "\n",
      "         bus       0.89      0.67      0.76        63\n",
      "         car       0.84      0.81      0.83       129\n",
      "         van       0.60      0.83      0.69        52\n",
      "\n",
      "    accuracy                           0.78       244\n",
      "   macro avg       0.78      0.77      0.76       244\n",
      "weighted avg       0.80      0.78      0.78       244\n",
      "\n"
     ]
    },
    {
     "data": {
      "image/png": "[encoded data removed]",
      "text/plain": [
       "<Figure size 432x288 with 2 Axes>"
      ]
     },
     "metadata": {
      "needs_background": "light"
     },
     "output_type": "display_data"
    }
   ],
   "source": [
    "# Calling the custom function to score the model\n",
    "perf_summary_df = score_model(perf_summary_df, X_train, X_test, y_train, y_test, svmc, \"SVM WITH PCA\", \n",
    "            num_folds=cv_folds, seed=seed)\n"
   ]
  },
  {
   "cell_type": "markdown",
   "metadata": {},
   "source": [
    "#### <span style=\"color:red\">Performance Comparison Report</span>"
   ]
  },
  {
   "cell_type": "code",
   "execution_count": 56,
   "metadata": {},
   "outputs": [
    {
     "data": {
      "text/html": [
       "<div>\n",
       "<style scoped>\n",
       "    .dataframe tbody tr th:only-of-type {\n",
       "        vertical-align: middle;\n",
       "    }\n",
       "\n",
       "    .dataframe tbody tr th {\n",
       "        vertical-align: top;\n",
       "    }\n",
       "\n",
       "    .dataframe thead th {\n",
       "        text-align: right;\n",
       "    }\n",
       "</style>\n",
       "<table border=\"1\" class=\"dataframe\">\n",
       "  <thead>\n",
       "    <tr style=\"text-align: right;\">\n",
       "      <th></th>\n",
       "      <th>Model Name</th>\n",
       "      <th>Training Accuracy</th>\n",
       "      <th>Testing Accuracy</th>\n",
       "      <th>Cross Validation Accuracy</th>\n",
       "    </tr>\n",
       "  </thead>\n",
       "  <tbody>\n",
       "    <tr>\n",
       "      <th>0</th>\n",
       "      <td>SVM WITHOUT PCA</td>\n",
       "      <td>0.947</td>\n",
       "      <td>0.910</td>\n",
       "      <td>0.885742</td>\n",
       "    </tr>\n",
       "    <tr>\n",
       "      <th>1</th>\n",
       "      <td>SVM WITH PCA</td>\n",
       "      <td>0.833</td>\n",
       "      <td>0.779</td>\n",
       "      <td>0.766277</td>\n",
       "    </tr>\n",
       "  </tbody>\n",
       "</table>\n",
       "</div>"
      ],
      "text/plain": [
       "        Model Name  Training Accuracy  Testing Accuracy  \\\n",
       "0  SVM WITHOUT PCA              0.947             0.910   \n",
       "1     SVM WITH PCA              0.833             0.779   \n",
       "\n",
       "   Cross Validation Accuracy  \n",
       "0                   0.885742  \n",
       "1                   0.766277  "
      ]
     },
     "execution_count": 56,
     "metadata": {},
     "output_type": "execute_result"
    }
   ],
   "source": [
    "# Performance of SVM model with and without PCA\n",
    "perf_summary_df"
   ]
  },
  {
   "cell_type": "markdown",
   "metadata": {},
   "source": [
    "<span style=\"color:maroon\">**OBSERVATIONS:**\n",
    "* `The model performed BETTER  when we applied PCA rather than using the original data`\n",
    "* `But, with PCA, our model seems to be overfitting the data, the difference between in sample and out of sample accuracy is over 6%!`"
   ]
  },
  {
   "cell_type": "code",
   "execution_count": null,
   "metadata": {},
   "outputs": [],
   "source": []
  },
  {
   "cell_type": "code",
   "execution_count": null,
   "metadata": {},
   "outputs": [],
   "source": []
  },
  {
   "cell_type": "code",
   "execution_count": null,
   "metadata": {},
   "outputs": [],
   "source": []
  },
  {
   "cell_type": "code",
   "execution_count": null,
   "metadata": {},
   "outputs": [],
   "source": []
  },
  {
   "cell_type": "code",
   "execution_count": null,
   "metadata": {},
   "outputs": [],
   "source": []
  },
  {
   "cell_type": "code",
   "execution_count": null,
   "metadata": {},
   "outputs": [],
   "source": []
  },
  {
   "cell_type": "code",
   "execution_count": null,
   "metadata": {},
   "outputs": [],
   "source": []
  },
  {
   "cell_type": "code",
   "execution_count": null,
   "metadata": {},
   "outputs": [],
   "source": []
  },
  {
   "cell_type": "code",
   "execution_count": null,
   "metadata": {},
   "outputs": [],
   "source": []
  },
  {
   "cell_type": "code",
   "execution_count": null,
   "metadata": {},
   "outputs": [],
   "source": []
  },
  {
   "cell_type": "code",
   "execution_count": null,
   "metadata": {},
   "outputs": [],
   "source": []
  },
  {
   "cell_type": "code",
   "execution_count": null,
   "metadata": {},
   "outputs": [],
   "source": []
  },
  {
   "cell_type": "code",
   "execution_count": null,
   "metadata": {},
   "outputs": [],
   "source": []
  },
  {
   "cell_type": "code",
   "execution_count": 57,
   "metadata": {},
   "outputs": [],
   "source": [
    "# Let's try PCA on orignal dataset (without correlation based features engineering)"
   ]
  },
  {
   "cell_type": "code",
   "execution_count": 58,
   "metadata": {},
   "outputs": [],
   "source": [
    "# Prepare\n",
    "\n",
    "X = df_orig.drop(\"class\", axis=1)\n",
    "y = df[\"class\"]\n",
    "\n",
    "# Let's scale the X data, to remove any bias.\n",
    "X = X.apply(zscore)"
   ]
  },
  {
   "cell_type": "code",
   "execution_count": 59,
   "metadata": {},
   "outputs": [
    {
     "name": "stdout",
     "output_type": "stream",
     "text": [
      "Total variance explained by 7 Principal Components is: \n",
      "96.28%\n"
     ]
    }
   ],
   "source": [
    "# Apply PCA \n",
    "# I have given detailed explanation in earlier steps, here just writing python code\n",
    "\n",
    "pca95 = PCA(0.95) # initialize\n",
    "pca95.fit(X) # fit\n",
    "Xpca95 = pca95.transform(X) # transform\n",
    "\n",
    "# Printing out the total explained variance\n",
    "expl_var_rat = pca95.explained_variance_ratio_\n",
    "print(f\"Total variance explained by {len(expl_var_rat)} Principal Components is: \\n{round(sum(expl_var_rat), 4)*100}%\")\n"
   ]
  },
  {
   "cell_type": "code",
   "execution_count": 60,
   "metadata": {},
   "outputs": [],
   "source": [
    "# Let's convert it into a dataframe to organize it\n",
    "Xpca = pd.DataFrame(Xpca95)"
   ]
  },
  {
   "cell_type": "markdown",
   "metadata": {},
   "source": [
    "### <span style=\"color:blue\"> Support Vector Machine with PCA\n",
    "    \n",
    "    Using orignal dataset (without correlation based features engineering)"
   ]
  },
  {
   "cell_type": "code",
   "execution_count": 61,
   "metadata": {},
   "outputs": [],
   "source": [
    "# Splitting the data into training and testing\n",
    "X_train , X_test, y_train, y_test = train_test_split(Xpca, y, test_size=test_size, random_state=seed)"
   ]
  },
  {
   "cell_type": "code",
   "execution_count": 62,
   "metadata": {},
   "outputs": [],
   "source": [
    "# Initializing the Support Vector Machine\n",
    "svmc = SVC()"
   ]
  },
  {
   "cell_type": "code",
   "execution_count": 63,
   "metadata": {},
   "outputs": [
    {
     "data": {
      "text/plain": [
       "SVC()"
      ]
     },
     "execution_count": 63,
     "metadata": {},
     "output_type": "execute_result"
    }
   ],
   "source": [
    "# Training the model\n",
    "svmc.fit(X_train, y_train)"
   ]
  },
  {
   "cell_type": "code",
   "execution_count": 64,
   "metadata": {},
   "outputs": [
    {
     "name": "stdout",
     "output_type": "stream",
     "text": [
      "---------------ACCURACY SCORE WITH CROSS VALIDATION-----------------------\n",
      "\n",
      "\n",
      "Model Type:  SVC()\n",
      "\n",
      "Accuracy (with cross validation):\n",
      "0.894541910331384\n",
      "\n",
      "-------------------ACCURACY SCORE WITHOUT CROSS VALIDATION---------------------------\n",
      "\n",
      "\n",
      "Accuracy for train set: 0.933\n",
      "Accuracy for test set: 0.877\n",
      "\n",
      "              precision    recall  f1-score   support\n",
      "\n",
      "         bus       0.90      0.86      0.88        63\n",
      "         car       0.91      0.86      0.88       129\n",
      "         van       0.79      0.94      0.86        52\n",
      "\n",
      "    accuracy                           0.88       244\n",
      "   macro avg       0.87      0.89      0.87       244\n",
      "weighted avg       0.88      0.88      0.88       244\n",
      "\n"
     ]
    },
    {
     "data": {
      "image/png": "[encoded data removed]",
      "text/plain": [
       "<Figure size 432x288 with 2 Axes>"
      ]
     },
     "metadata": {
      "needs_background": "light"
     },
     "output_type": "display_data"
    }
   ],
   "source": [
    "# Calling the custom function to score the model\n",
    "perf_summary_df = score_model(perf_summary_df, X_train, X_test, y_train, y_test, svmc, \"SVM WITH PCA (original data)\", \n",
    "            num_folds=cv_folds, seed=seed)\n"
   ]
  },
  {
   "cell_type": "code",
   "execution_count": 65,
   "metadata": {},
   "outputs": [
    {
     "data": {
      "text/html": [
       "<div>\n",
       "<style scoped>\n",
       "    .dataframe tbody tr th:only-of-type {\n",
       "        vertical-align: middle;\n",
       "    }\n",
       "\n",
       "    .dataframe tbody tr th {\n",
       "        vertical-align: top;\n",
       "    }\n",
       "\n",
       "    .dataframe thead th {\n",
       "        text-align: right;\n",
       "    }\n",
       "</style>\n",
       "<table border=\"1\" class=\"dataframe\">\n",
       "  <thead>\n",
       "    <tr style=\"text-align: right;\">\n",
       "      <th></th>\n",
       "      <th>Model Name</th>\n",
       "      <th>Training Accuracy</th>\n",
       "      <th>Testing Accuracy</th>\n",
       "      <th>Cross Validation Accuracy</th>\n",
       "    </tr>\n",
       "  </thead>\n",
       "  <tbody>\n",
       "    <tr>\n",
       "      <th>0</th>\n",
       "      <td>SVM WITHOUT PCA</td>\n",
       "      <td>0.947</td>\n",
       "      <td>0.910</td>\n",
       "      <td>0.885742</td>\n",
       "    </tr>\n",
       "    <tr>\n",
       "      <th>1</th>\n",
       "      <td>SVM WITH PCA</td>\n",
       "      <td>0.833</td>\n",
       "      <td>0.779</td>\n",
       "      <td>0.766277</td>\n",
       "    </tr>\n",
       "    <tr>\n",
       "      <th>2</th>\n",
       "      <td>SVM WITH PCA (original data)</td>\n",
       "      <td>0.933</td>\n",
       "      <td>0.877</td>\n",
       "      <td>0.894542</td>\n",
       "    </tr>\n",
       "  </tbody>\n",
       "</table>\n",
       "</div>"
      ],
      "text/plain": [
       "                     Model Name  Training Accuracy  Testing Accuracy  \\\n",
       "0               SVM WITHOUT PCA              0.947             0.910   \n",
       "1                  SVM WITH PCA              0.833             0.779   \n",
       "2  SVM WITH PCA (original data)              0.933             0.877   \n",
       "\n",
       "   Cross Validation Accuracy  \n",
       "0                   0.885742  \n",
       "1                   0.766277  \n",
       "2                   0.894542  "
      ]
     },
     "execution_count": 65,
     "metadata": {},
     "output_type": "execute_result"
    }
   ],
   "source": [
    "perf_summary_df"
   ]
  },
  {
   "cell_type": "markdown",
   "metadata": {},
   "source": [
    "## CONCLUSION:\n",
    "* `The SVM without PCA seems to be the best performing model`\n",
    "* `The SVM with PCA (on original data) has better cross validation score but seems to be overfit model`\n"
   ]
  }
 ],
 "metadata": {
  "kernelspec": {
   "display_name": "Python 3",
   "language": "python",
   "name": "python3"
  },
  "language_info": {
   "codemirror_mode": {
    "name": "ipython",
    "version": 3
   },
   "file_extension": ".py",
   "mimetype": "text/x-python",
   "name": "python",
   "nbconvert_exporter": "python",
   "pygments_lexer": "ipython3",
   "version": "3.8.5"
  }
 },
 "nbformat": 4,
 "nbformat_minor": 4
}
